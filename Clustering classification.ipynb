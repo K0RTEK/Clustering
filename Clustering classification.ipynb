{
  "cells": [
    {
      "cell_type": "markdown",
      "metadata": {
        "id": "T2i2drzuW98E"
      },
      "source": [
        "## 1.Подготовка данных"
      ]
    },
    {
      "cell_type": "code",
      "execution_count": 2,
      "metadata": {
        "id": "_6Q9WBsDORzN"
      },
      "outputs": [],
      "source": [
        "# импорт пакетов\n",
        "import pandas as pd\n",
        "import numpy as np\n",
        "import seaborn as sns\n",
        "\n",
        "import matplotlib.pyplot as plt\n",
        "import matplotlib.mlab as mlab\n",
        "import matplotlib\n",
        "import seaborn as sns\n",
        "plt.style.use('ggplot')\n",
        "from matplotlib.pyplot import figure\n",
        "from sklearn.cluster import KMeans\n",
        "from sklearn.preprocessing import MinMaxScaler\n",
        "from sklearn.cluster import DBSCAN\n",
        "from sklearn.neighbors import NearestNeighbors\n",
        "from sklearn.metrics import silhouette_score\n",
        "from mpl_toolkits.mplot3d import Axes3D\n",
        "\n",
        "\n",
        "\n",
        "%matplotlib inline\n",
        "matplotlib.rcParams['figure.figsize'] = (12,8)\n",
        "\n",
        "pd.options.mode.chained_assignment = None\n"
      ]
    },
    {
      "cell_type": "code",
      "execution_count": 3,
      "metadata": {
        "colab": {
          "base_uri": "https://localhost:8080/",
          "height": 424
        },
        "id": "eDsRj0DtO3a3",
        "outputId": "b23c8267-9cfc-4f8a-a87d-eb37c36e89c5"
      },
      "outputs": [
        {
          "output_type": "execute_result",
          "data": {
            "text/plain": [
              "         model  year  price transmission  mileage fuelType  tax   mpg  \\\n",
              "0       Fiesta  2017  12000    Automatic    15944   Petrol  150  57.7   \n",
              "1        Focus  2018  14000       Manual     9083   Petrol  150  57.7   \n",
              "2        Focus  2017  13000       Manual    12456   Petrol  150  57.7   \n",
              "3       Fiesta  2019  17500       Manual    10460   Petrol  145  40.3   \n",
              "4       Fiesta  2019  16500    Automatic     1482   Petrol  145  48.7   \n",
              "...        ...   ...    ...          ...      ...      ...  ...   ...   \n",
              "17961    B-MAX  2017   8999       Manual    16700   Petrol  150  47.1   \n",
              "17962    B-MAX  2014   7499       Manual    40700   Petrol   30  57.7   \n",
              "17963    Focus  2015   9999       Manual     7010   Diesel   20  67.3   \n",
              "17964       KA  2018   8299       Manual     5007   Petrol  145  57.7   \n",
              "17965    Focus  2015   8299       Manual     5007   Petrol   22  57.7   \n",
              "\n",
              "       engineSize  \n",
              "0             1.0  \n",
              "1             1.0  \n",
              "2             1.0  \n",
              "3             1.5  \n",
              "4             1.0  \n",
              "...           ...  \n",
              "17961         1.4  \n",
              "17962         1.0  \n",
              "17963         1.6  \n",
              "17964         1.2  \n",
              "17965         1.0  \n",
              "\n",
              "[17966 rows x 9 columns]"
            ],
            "text/html": [
              "\n",
              "  <div id=\"df-90716c5b-f737-4fd8-ad89-6d0bb62b59ad\">\n",
              "    <div class=\"colab-df-container\">\n",
              "      <div>\n",
              "<style scoped>\n",
              "    .dataframe tbody tr th:only-of-type {\n",
              "        vertical-align: middle;\n",
              "    }\n",
              "\n",
              "    .dataframe tbody tr th {\n",
              "        vertical-align: top;\n",
              "    }\n",
              "\n",
              "    .dataframe thead th {\n",
              "        text-align: right;\n",
              "    }\n",
              "</style>\n",
              "<table border=\"1\" class=\"dataframe\">\n",
              "  <thead>\n",
              "    <tr style=\"text-align: right;\">\n",
              "      <th></th>\n",
              "      <th>model</th>\n",
              "      <th>year</th>\n",
              "      <th>price</th>\n",
              "      <th>transmission</th>\n",
              "      <th>mileage</th>\n",
              "      <th>fuelType</th>\n",
              "      <th>tax</th>\n",
              "      <th>mpg</th>\n",
              "      <th>engineSize</th>\n",
              "    </tr>\n",
              "  </thead>\n",
              "  <tbody>\n",
              "    <tr>\n",
              "      <th>0</th>\n",
              "      <td>Fiesta</td>\n",
              "      <td>2017</td>\n",
              "      <td>12000</td>\n",
              "      <td>Automatic</td>\n",
              "      <td>15944</td>\n",
              "      <td>Petrol</td>\n",
              "      <td>150</td>\n",
              "      <td>57.7</td>\n",
              "      <td>1.0</td>\n",
              "    </tr>\n",
              "    <tr>\n",
              "      <th>1</th>\n",
              "      <td>Focus</td>\n",
              "      <td>2018</td>\n",
              "      <td>14000</td>\n",
              "      <td>Manual</td>\n",
              "      <td>9083</td>\n",
              "      <td>Petrol</td>\n",
              "      <td>150</td>\n",
              "      <td>57.7</td>\n",
              "      <td>1.0</td>\n",
              "    </tr>\n",
              "    <tr>\n",
              "      <th>2</th>\n",
              "      <td>Focus</td>\n",
              "      <td>2017</td>\n",
              "      <td>13000</td>\n",
              "      <td>Manual</td>\n",
              "      <td>12456</td>\n",
              "      <td>Petrol</td>\n",
              "      <td>150</td>\n",
              "      <td>57.7</td>\n",
              "      <td>1.0</td>\n",
              "    </tr>\n",
              "    <tr>\n",
              "      <th>3</th>\n",
              "      <td>Fiesta</td>\n",
              "      <td>2019</td>\n",
              "      <td>17500</td>\n",
              "      <td>Manual</td>\n",
              "      <td>10460</td>\n",
              "      <td>Petrol</td>\n",
              "      <td>145</td>\n",
              "      <td>40.3</td>\n",
              "      <td>1.5</td>\n",
              "    </tr>\n",
              "    <tr>\n",
              "      <th>4</th>\n",
              "      <td>Fiesta</td>\n",
              "      <td>2019</td>\n",
              "      <td>16500</td>\n",
              "      <td>Automatic</td>\n",
              "      <td>1482</td>\n",
              "      <td>Petrol</td>\n",
              "      <td>145</td>\n",
              "      <td>48.7</td>\n",
              "      <td>1.0</td>\n",
              "    </tr>\n",
              "    <tr>\n",
              "      <th>...</th>\n",
              "      <td>...</td>\n",
              "      <td>...</td>\n",
              "      <td>...</td>\n",
              "      <td>...</td>\n",
              "      <td>...</td>\n",
              "      <td>...</td>\n",
              "      <td>...</td>\n",
              "      <td>...</td>\n",
              "      <td>...</td>\n",
              "    </tr>\n",
              "    <tr>\n",
              "      <th>17961</th>\n",
              "      <td>B-MAX</td>\n",
              "      <td>2017</td>\n",
              "      <td>8999</td>\n",
              "      <td>Manual</td>\n",
              "      <td>16700</td>\n",
              "      <td>Petrol</td>\n",
              "      <td>150</td>\n",
              "      <td>47.1</td>\n",
              "      <td>1.4</td>\n",
              "    </tr>\n",
              "    <tr>\n",
              "      <th>17962</th>\n",
              "      <td>B-MAX</td>\n",
              "      <td>2014</td>\n",
              "      <td>7499</td>\n",
              "      <td>Manual</td>\n",
              "      <td>40700</td>\n",
              "      <td>Petrol</td>\n",
              "      <td>30</td>\n",
              "      <td>57.7</td>\n",
              "      <td>1.0</td>\n",
              "    </tr>\n",
              "    <tr>\n",
              "      <th>17963</th>\n",
              "      <td>Focus</td>\n",
              "      <td>2015</td>\n",
              "      <td>9999</td>\n",
              "      <td>Manual</td>\n",
              "      <td>7010</td>\n",
              "      <td>Diesel</td>\n",
              "      <td>20</td>\n",
              "      <td>67.3</td>\n",
              "      <td>1.6</td>\n",
              "    </tr>\n",
              "    <tr>\n",
              "      <th>17964</th>\n",
              "      <td>KA</td>\n",
              "      <td>2018</td>\n",
              "      <td>8299</td>\n",
              "      <td>Manual</td>\n",
              "      <td>5007</td>\n",
              "      <td>Petrol</td>\n",
              "      <td>145</td>\n",
              "      <td>57.7</td>\n",
              "      <td>1.2</td>\n",
              "    </tr>\n",
              "    <tr>\n",
              "      <th>17965</th>\n",
              "      <td>Focus</td>\n",
              "      <td>2015</td>\n",
              "      <td>8299</td>\n",
              "      <td>Manual</td>\n",
              "      <td>5007</td>\n",
              "      <td>Petrol</td>\n",
              "      <td>22</td>\n",
              "      <td>57.7</td>\n",
              "      <td>1.0</td>\n",
              "    </tr>\n",
              "  </tbody>\n",
              "</table>\n",
              "<p>17966 rows × 9 columns</p>\n",
              "</div>\n",
              "      <button class=\"colab-df-convert\" onclick=\"convertToInteractive('df-90716c5b-f737-4fd8-ad89-6d0bb62b59ad')\"\n",
              "              title=\"Convert this dataframe to an interactive table.\"\n",
              "              style=\"display:none;\">\n",
              "        \n",
              "  <svg xmlns=\"http://www.w3.org/2000/svg\" height=\"24px\"viewBox=\"0 0 24 24\"\n",
              "       width=\"24px\">\n",
              "    <path d=\"M0 0h24v24H0V0z\" fill=\"none\"/>\n",
              "    <path d=\"M18.56 5.44l.94 2.06.94-2.06 2.06-.94-2.06-.94-.94-2.06-.94 2.06-2.06.94zm-11 1L8.5 8.5l.94-2.06 2.06-.94-2.06-.94L8.5 2.5l-.94 2.06-2.06.94zm10 10l.94 2.06.94-2.06 2.06-.94-2.06-.94-.94-2.06-.94 2.06-2.06.94z\"/><path d=\"M17.41 7.96l-1.37-1.37c-.4-.4-.92-.59-1.43-.59-.52 0-1.04.2-1.43.59L10.3 9.45l-7.72 7.72c-.78.78-.78 2.05 0 2.83L4 21.41c.39.39.9.59 1.41.59.51 0 1.02-.2 1.41-.59l7.78-7.78 2.81-2.81c.8-.78.8-2.07 0-2.86zM5.41 20L4 18.59l7.72-7.72 1.47 1.35L5.41 20z\"/>\n",
              "  </svg>\n",
              "      </button>\n",
              "      \n",
              "  <style>\n",
              "    .colab-df-container {\n",
              "      display:flex;\n",
              "      flex-wrap:wrap;\n",
              "      gap: 12px;\n",
              "    }\n",
              "\n",
              "    .colab-df-convert {\n",
              "      background-color: #E8F0FE;\n",
              "      border: none;\n",
              "      border-radius: 50%;\n",
              "      cursor: pointer;\n",
              "      display: none;\n",
              "      fill: #1967D2;\n",
              "      height: 32px;\n",
              "      padding: 0 0 0 0;\n",
              "      width: 32px;\n",
              "    }\n",
              "\n",
              "    .colab-df-convert:hover {\n",
              "      background-color: #E2EBFA;\n",
              "      box-shadow: 0px 1px 2px rgba(60, 64, 67, 0.3), 0px 1px 3px 1px rgba(60, 64, 67, 0.15);\n",
              "      fill: #174EA6;\n",
              "    }\n",
              "\n",
              "    [theme=dark] .colab-df-convert {\n",
              "      background-color: #3B4455;\n",
              "      fill: #D2E3FC;\n",
              "    }\n",
              "\n",
              "    [theme=dark] .colab-df-convert:hover {\n",
              "      background-color: #434B5C;\n",
              "      box-shadow: 0px 1px 3px 1px rgba(0, 0, 0, 0.15);\n",
              "      filter: drop-shadow(0px 1px 2px rgba(0, 0, 0, 0.3));\n",
              "      fill: #FFFFFF;\n",
              "    }\n",
              "  </style>\n",
              "\n",
              "      <script>\n",
              "        const buttonEl =\n",
              "          document.querySelector('#df-90716c5b-f737-4fd8-ad89-6d0bb62b59ad button.colab-df-convert');\n",
              "        buttonEl.style.display =\n",
              "          google.colab.kernel.accessAllowed ? 'block' : 'none';\n",
              "\n",
              "        async function convertToInteractive(key) {\n",
              "          const element = document.querySelector('#df-90716c5b-f737-4fd8-ad89-6d0bb62b59ad');\n",
              "          const dataTable =\n",
              "            await google.colab.kernel.invokeFunction('convertToInteractive',\n",
              "                                                     [key], {});\n",
              "          if (!dataTable) return;\n",
              "\n",
              "          const docLinkHtml = 'Like what you see? Visit the ' +\n",
              "            '<a target=\"_blank\" href=https://colab.research.google.com/notebooks/data_table.ipynb>data table notebook</a>'\n",
              "            + ' to learn more about interactive tables.';\n",
              "          element.innerHTML = '';\n",
              "          dataTable['output_type'] = 'display_data';\n",
              "          await google.colab.output.renderOutput(dataTable, element);\n",
              "          const docLink = document.createElement('div');\n",
              "          docLink.innerHTML = docLinkHtml;\n",
              "          element.appendChild(docLink);\n",
              "        }\n",
              "      </script>\n",
              "    </div>\n",
              "  </div>\n",
              "  "
            ]
          },
          "metadata": {},
          "execution_count": 3
        }
      ],
      "source": [
        "#чтение данных\n",
        "df=pd.read_csv('ford.csv')\n",
        "df"
      ]
    },
    {
      "cell_type": "code",
      "execution_count": 4,
      "metadata": {
        "colab": {
          "base_uri": "https://localhost:8080/"
        },
        "id": "SkwlXmfTQeDM",
        "outputId": "f673354e-4f0c-42b3-8624-d1288e85afde"
      },
      "outputs": [
        {
          "output_type": "stream",
          "name": "stdout",
          "text": [
            "(17966, 9)\n",
            "model            object\n",
            "year              int64\n",
            "price             int64\n",
            "transmission     object\n",
            "mileage           int64\n",
            "fuelType         object\n",
            "tax               int64\n",
            "mpg             float64\n",
            "engineSize      float64\n",
            "dtype: object\n"
          ]
        }
      ],
      "source": [
        "print(df.shape)\n",
        "print(df.dtypes)"
      ]
    },
    {
      "cell_type": "code",
      "execution_count": 5,
      "metadata": {
        "colab": {
          "base_uri": "https://localhost:8080/"
        },
        "id": "Cey_VeLtQzsQ",
        "outputId": "a424587b-4928-4eda-dc2a-f4cf738f715c"
      },
      "outputs": [
        {
          "output_type": "stream",
          "name": "stdout",
          "text": [
            "['year' 'price' 'mileage' 'tax' 'mpg' 'engineSize']\n"
          ]
        }
      ],
      "source": [
        "# отбор числовых колонок\n",
        "df_numeric=df.select_dtypes(include=[np.number])\n",
        "numeric_cols=df_numeric.columns.values\n",
        "print(numeric_cols)"
      ]
    },
    {
      "cell_type": "code",
      "execution_count": 6,
      "metadata": {
        "colab": {
          "base_uri": "https://localhost:8080/"
        },
        "id": "vu_M84_ORZBj",
        "outputId": "a640cd6c-db2f-4989-f7a5-31e0b20a644f"
      },
      "outputs": [
        {
          "output_type": "stream",
          "name": "stdout",
          "text": [
            "['model' 'transmission' 'fuelType']\n"
          ]
        }
      ],
      "source": [
        "# отбор нечисловых колонок\n",
        "df_non_numeric = df.select_dtypes(exclude=[np.number])\n",
        "non_numeric_cols = df_non_numeric.columns.values\n",
        "print(non_numeric_cols)"
      ]
    },
    {
      "cell_type": "markdown",
      "metadata": {
        "id": "9pyE9PMtXSP7"
      },
      "source": [
        "## 2.Удаление дублирующихся строк"
      ]
    },
    {
      "cell_type": "code",
      "execution_count": 7,
      "metadata": {
        "colab": {
          "base_uri": "https://localhost:8080/"
        },
        "id": "O46IWpgQXYw5",
        "outputId": "1ec3acd9-1e81-4c6e-88ee-f39cbfe4fa29"
      },
      "outputs": [
        {
          "output_type": "execute_result",
          "data": {
            "text/plain": [
              "(17812, 9)"
            ]
          },
          "metadata": {},
          "execution_count": 7
        }
      ],
      "source": [
        "df=df.drop_duplicates()\n",
        "df.shape"
      ]
    },
    {
      "cell_type": "markdown",
      "metadata": {
        "id": "xvWdK1i_Rqm1"
      },
      "source": [
        "## 3.Отсутствующие данные"
      ]
    },
    {
      "cell_type": "markdown",
      "metadata": {
        "id": "3y2F9kjBUhh4"
      },
      "source": [
        "### 3.1 Количество пропущенных значений"
      ]
    },
    {
      "cell_type": "code",
      "execution_count": 8,
      "metadata": {
        "colab": {
          "base_uri": "https://localhost:8080/"
        },
        "id": "Hc_mjBkBUnNY",
        "outputId": "e6f6a0f7-ef64-428b-c585-dd16ae89701c"
      },
      "outputs": [
        {
          "output_type": "execute_result",
          "data": {
            "text/plain": [
              "model           0\n",
              "year            0\n",
              "price           0\n",
              "transmission    0\n",
              "mileage         0\n",
              "fuelType        0\n",
              "tax             0\n",
              "mpg             0\n",
              "engineSize      0\n",
              "dtype: int64"
            ]
          },
          "metadata": {},
          "execution_count": 8
        }
      ],
      "source": [
        "df.isna().sum()"
      ]
    },
    {
      "cell_type": "markdown",
      "metadata": {
        "id": "0Y4iL_PnTh73"
      },
      "source": [
        "### 3.2 Тепловая карта пропущенных значений"
      ]
    },
    {
      "cell_type": "code",
      "execution_count": 9,
      "metadata": {
        "colab": {
          "base_uri": "https://localhost:8080/",
          "height": 505
        },
        "id": "jZXfgUAuRvCs",
        "outputId": "b5811a47-2973-4665-ed2a-ded74690bf5d"
      },
      "outputs": [
        {
          "output_type": "execute_result",
          "data": {
            "text/plain": [
              "<AxesSubplot:>"
            ]
          },
          "metadata": {},
          "execution_count": 9
        },
        {
          "output_type": "display_data",
          "data": {
            "text/plain": [
              "<Figure size 864x576 with 2 Axes>"
            ],
            "image/png": "[encoded data removed]"
          },
          "metadata": {
            "needs_background": "light"
          }
        }
      ],
      "source": [
        "\n",
        "cols=df.columns[:30]#первые 30 колонок\n",
        "#желтый-пропущенные данные,синий-не пропущенные\n",
        "colours=['#ffff00','#000099']\n",
        "sns.heatmap(df[cols].isnull(),cmap=sns.color_palette(colours))"
      ]
    },
    {
      "cell_type": "markdown",
      "metadata": {
        "id": "H-5SC_9RTncs"
      },
      "source": [
        "### 3.3 Процентный список пропущенных данных"
      ]
    },
    {
      "cell_type": "code",
      "execution_count": 10,
      "metadata": {
        "colab": {
          "base_uri": "https://localhost:8080/"
        },
        "id": "cfxlIywzTvZ6",
        "outputId": "f7531202-d548-4d2d-982f-cdad673d54fc"
      },
      "outputs": [
        {
          "output_type": "stream",
          "name": "stdout",
          "text": [
            "model-0%\n",
            "year-0%\n",
            "price-0%\n",
            "transmission-0%\n",
            "mileage-0%\n",
            "fuelType-0%\n",
            "tax-0%\n",
            "mpg-0%\n",
            "engineSize-0%\n"
          ]
        }
      ],
      "source": [
        "for col in df.columns:\n",
        "  pct_missing=np.mean(df[col].isnull())\n",
        "  print('{}-{}%'.format(col,round(pct_missing*100)))"
      ]
    },
    {
      "cell_type": "markdown",
      "metadata": {
        "id": "l89hue3uVVx1"
      },
      "source": [
        "## 4.Выбросы"
      ]
    },
    {
      "cell_type": "markdown",
      "metadata": {
        "id": "PPMN8G0wVwDy"
      },
      "source": [
        "### 4.1 Визуализация на boxplot"
      ]
    },
    {
      "cell_type": "code",
      "execution_count": 11,
      "metadata": {
        "id": "4UqXGC-IsTJ5"
      },
      "outputs": [],
      "source": [
        "df=df[df.year<2020]"
      ]
    },
    {
      "cell_type": "code",
      "execution_count": 12,
      "metadata": {
        "colab": {
          "base_uri": "https://localhost:8080/",
          "height": 501
        },
        "id": "64pw_Do3VX5T",
        "outputId": "8d2bea49-11de-4b46-f782-680570ad3608"
      },
      "outputs": [
        {
          "output_type": "execute_result",
          "data": {
            "text/plain": [
              "<AxesSubplot:>"
            ]
          },
          "metadata": {},
          "execution_count": 12
        },
        {
          "output_type": "display_data",
          "data": {
            "text/plain": [
              "<Figure size 864x576 with 1 Axes>"
            ],
            "image/png": "[encoded data removed]"
          },
          "metadata": {
            "needs_background": "light"
          }
        }
      ],
      "source": [
        "df.boxplot(column=['year'])"
      ]
    },
    {
      "cell_type": "markdown",
      "metadata": {
        "id": "r0_SVrc-V0ad"
      },
      "source": [
        "### 4.2 Визуализация на гистограмме"
      ]
    },
    {
      "cell_type": "code",
      "execution_count": 13,
      "metadata": {
        "colab": {
          "base_uri": "https://localhost:8080/",
          "height": 500
        },
        "id": "DeysBohQV4TO",
        "outputId": "bde31865-6073-4d8c-af43-67a0d06c29df"
      },
      "outputs": [
        {
          "output_type": "execute_result",
          "data": {
            "text/plain": [
              "<AxesSubplot:>"
            ]
          },
          "metadata": {},
          "execution_count": 13
        },
        {
          "output_type": "display_data",
          "data": {
            "text/plain": [
              "<Figure size 864x576 with 1 Axes>"
            ],
            "image/png": "[encoded data removed]"
          },
          "metadata": {
            "needs_background": "light"
          }
        }
      ],
      "source": [
        "df['year'].hist(bins=100)"
      ]
    },
    {
      "cell_type": "markdown",
      "metadata": {
        "id": "1u0_BYHiV_Xd"
      },
      "source": [
        "### 4.3 Описательная статистика"
      ]
    },
    {
      "cell_type": "code",
      "execution_count": 14,
      "metadata": {
        "colab": {
          "base_uri": "https://localhost:8080/"
        },
        "id": "Pcm2ChRLWCWs",
        "outputId": "66e6205c-7353-4d6e-af60-50bf798a1012"
      },
      "outputs": [
        {
          "output_type": "execute_result",
          "data": {
            "text/plain": [
              "count    17559.000000\n",
              "mean      2016.814910\n",
              "std          2.005495\n",
              "min       1996.000000\n",
              "25%       2016.000000\n",
              "50%       2017.000000\n",
              "75%       2018.000000\n",
              "max       2019.000000\n",
              "Name: year, dtype: float64"
            ]
          },
          "metadata": {},
          "execution_count": 14
        }
      ],
      "source": [
        "df['year'].describe()"
      ]
    },
    {
      "cell_type": "markdown",
      "metadata": {
        "id": "mQ78BxKvX1Wa"
      },
      "source": [
        "## 5.Неинформативные признаки"
      ]
    },
    {
      "cell_type": "code",
      "execution_count": 15,
      "metadata": {
        "colab": {
          "base_uri": "https://localhost:8080/"
        },
        "id": "ffCQjpPMX42o",
        "outputId": "066a6faf-ee4d-48f2-f463-ed4fa44f6650"
      },
      "outputs": [
        {
          "output_type": "stream",
          "name": "stdout",
          "text": [
            "model: 36.58523%\n",
            " Fiesta                   6424\n",
            " Focus                    4501\n",
            " Kuga                     2200\n",
            " EcoSport                 1101\n",
            " C-MAX                     542\n",
            " Ka+                       522\n",
            " Mondeo                    496\n",
            " B-MAX                     350\n",
            " S-MAX                     289\n",
            " Grand C-MAX               247\n",
            " Galaxy                    227\n",
            " Edge                      205\n",
            " KA                        197\n",
            " Tourneo Custom             69\n",
            " Grand Tourneo Connect      56\n",
            " Mustang                    46\n",
            " Puma                       34\n",
            " Tourneo Connect            31\n",
            " Fusion                     16\n",
            " Streetka                    2\n",
            " Ranger                      1\n",
            " Escort                      1\n",
            " Transit Tourneo             1\n",
            "Focus                        1\n",
            "Name: model, dtype: int64\n",
            "\n",
            "year: 27.64394%\n",
            "2017    4854\n",
            "2018    3982\n",
            "2019    3152\n",
            "2016    2314\n",
            "2015    1355\n",
            "2014     799\n",
            "2013     606\n",
            "2012     115\n",
            "2011      94\n",
            "2009      91\n",
            "2010      67\n",
            "2008      56\n",
            "2007      32\n",
            "2005      16\n",
            "2006      13\n",
            "2004       4\n",
            "2002       3\n",
            "2003       3\n",
            "1998       1\n",
            "1996       1\n",
            "2000       1\n",
            "Name: year, dtype: int64\n",
            "\n",
            "transmission: 86.42292%\n",
            "Manual       15175\n",
            "Automatic     1322\n",
            "Semi-Auto     1062\n",
            "Name: transmission, dtype: int64\n",
            "\n",
            "fuelType: 67.62344%\n",
            "Petrol      11874\n",
            "Diesel       5667\n",
            "Hybrid         15\n",
            "Electric        2\n",
            "Other           1\n",
            "Name: fuelType, dtype: int64\n",
            "\n",
            "tax: 49.25679%\n",
            "145    8649\n",
            "0      2137\n",
            "150    1889\n",
            "125    1403\n",
            "30     1226\n",
            "20     1198\n",
            "160     357\n",
            "200     247\n",
            "235     122\n",
            "165     113\n",
            "205      59\n",
            "260      41\n",
            "240      32\n",
            "265      15\n",
            "300      11\n",
            "140       6\n",
            "195       6\n",
            "325       6\n",
            "570       6\n",
            "135       5\n",
            "555       4\n",
            "115       3\n",
            "155       3\n",
            "220       3\n",
            "330       2\n",
            "305       2\n",
            "230       2\n",
            "580       2\n",
            "190       2\n",
            "120       2\n",
            "210       1\n",
            "185       1\n",
            "110       1\n",
            "270       1\n",
            "290       1\n",
            "22        1\n",
            "Name: tax, dtype: int64\n",
            "\n",
            "engineSize: 42.86121%\n",
            "1.0    7526\n",
            "1.5    3365\n",
            "2.0    3248\n",
            "1.2    1613\n",
            "1.6     918\n",
            "1.1     549\n",
            "1.4     111\n",
            "2.3      72\n",
            "0.0      50\n",
            "5.0      37\n",
            "1.8      35\n",
            "2.2      13\n",
            "1.3      12\n",
            "2.5       8\n",
            "3.2       1\n",
            "1.7       1\n",
            "Name: engineSize, dtype: int64\n",
            "\n"
          ]
        }
      ],
      "source": [
        "num_rows = len(df.index)\n",
        "low_information_cols = [] #\n",
        "\n",
        "for col in df.columns:\n",
        "    cnts = df[col].value_counts(dropna=False)\n",
        "    top_pct = (cnts/num_rows).iloc[0]\n",
        "    \n",
        "    if top_pct > 0.15:\n",
        "        low_information_cols.append(col)\n",
        "        print('{0}: {1:.5f}%'.format(col, top_pct*100))\n",
        "        print(cnts)\n",
        "        print()"
      ]
    },
    {
      "cell_type": "markdown",
      "metadata": {
        "id": "7VFRaaMzZ4gr"
      },
      "source": [
        "## 6.Разные регистры символов"
      ]
    },
    {
      "cell_type": "code",
      "execution_count": 16,
      "metadata": {
        "colab": {
          "base_uri": "https://localhost:8080/"
        },
        "id": "t7cqLv89Z90l",
        "outputId": "9712d942-8cec-4cf2-b993-8acb96352259"
      },
      "outputs": [
        {
          "output_type": "execute_result",
          "data": {
            "text/plain": [
              " Fiesta                   6424\n",
              " Focus                    4501\n",
              " Kuga                     2200\n",
              " EcoSport                 1101\n",
              " C-MAX                     542\n",
              " Ka+                       522\n",
              " Mondeo                    496\n",
              " B-MAX                     350\n",
              " S-MAX                     289\n",
              " Grand C-MAX               247\n",
              " Galaxy                    227\n",
              " Edge                      205\n",
              " KA                        197\n",
              " Tourneo Custom             69\n",
              " Grand Tourneo Connect      56\n",
              " Mustang                    46\n",
              " Puma                       34\n",
              " Tourneo Connect            31\n",
              " Fusion                     16\n",
              " Streetka                    2\n",
              " Ranger                      1\n",
              " Escort                      1\n",
              " Transit Tourneo             1\n",
              "Focus                        1\n",
              "Name: model, dtype: int64"
            ]
          },
          "metadata": {},
          "execution_count": 16
        }
      ],
      "source": [
        "df['model'].value_counts(dropna=False)"
      ]
    },
    {
      "cell_type": "markdown",
      "metadata": {
        "id": "O-TXrcCic18f"
      },
      "source": [
        "Тут видно, что один \"focus\" выбивается из общего списка, из-за пробелов в начале названия модели"
      ]
    },
    {
      "cell_type": "code",
      "execution_count": 17,
      "metadata": {
        "colab": {
          "base_uri": "https://localhost:8080/"
        },
        "id": "z51HNWetbfdA",
        "outputId": "08fd20d5-7f04-4bda-f432-4c8a77e62709"
      },
      "outputs": [
        {
          "output_type": "execute_result",
          "data": {
            "text/plain": [
              " fiesta                   6424\n",
              " focus                    4501\n",
              " kuga                     2200\n",
              " ecosport                 1101\n",
              " c-max                     542\n",
              " ka+                       522\n",
              " mondeo                    496\n",
              " b-max                     350\n",
              " s-max                     289\n",
              " grand c-max               247\n",
              " galaxy                    227\n",
              " edge                      205\n",
              " ka                        197\n",
              " tourneo custom             69\n",
              " grand tourneo connect      56\n",
              " mustang                    46\n",
              " puma                       34\n",
              " tourneo connect            31\n",
              " fusion                     16\n",
              " streetka                    2\n",
              " ranger                      1\n",
              " escort                      1\n",
              " transit tourneo             1\n",
              "focus                        1\n",
              "Name: model, dtype: int64"
            ]
          },
          "metadata": {},
          "execution_count": 17
        }
      ],
      "source": [
        "# пусть все будет в нижнем регистре\n",
        "df['model'] = df['model'].str.lower()\n",
        "df['model'].value_counts(dropna=False)"
      ]
    },
    {
      "cell_type": "markdown",
      "metadata": {
        "id": "LHleP7v5fICw"
      },
      "source": [
        "Теперь все пробелы,и другие ненужные знаки, в данных убраны и подобных выпадающих значений, как \"focus\" без пробела, теперь нету"
      ]
    },
    {
      "cell_type": "code",
      "execution_count": 18,
      "metadata": {
        "id": "Eh_4nGZicCO-"
      },
      "outputs": [],
      "source": [
        "for i in non_numeric_cols:\n",
        "  df[f'{i}']=df[i].str.strip('123.!? \\n\\t')\n",
        "  df[f'{i}'] = df[f'{i}'].str.lower()\n",
        "  df[f'{i}'].value_counts(dropna=False)\n",
        "  df[i]=df[f'{i}']"
      ]
    },
    {
      "cell_type": "code",
      "execution_count": 19,
      "metadata": {
        "colab": {
          "base_uri": "https://localhost:8080/"
        },
        "id": "-M2MXXzPleS9",
        "outputId": "3e685d90-9016-4f10-b90e-af8b64f72966"
      },
      "outputs": [
        {
          "output_type": "execute_result",
          "data": {
            "text/plain": [
              "fiesta                   6424\n",
              "focus                    4502\n",
              "kuga                     2200\n",
              "ecosport                 1101\n",
              "c-max                     542\n",
              "ka+                       522\n",
              "mondeo                    496\n",
              "b-max                     350\n",
              "s-max                     289\n",
              "grand c-max               247\n",
              "galaxy                    227\n",
              "edge                      205\n",
              "ka                        197\n",
              "tourneo custom             69\n",
              "grand tourneo connect      56\n",
              "mustang                    46\n",
              "puma                       34\n",
              "tourneo connect            31\n",
              "fusion                     16\n",
              "streetka                    2\n",
              "ranger                      1\n",
              "escort                      1\n",
              "transit tourneo             1\n",
              "Name: model, dtype: int64"
            ]
          },
          "metadata": {},
          "execution_count": 19
        }
      ],
      "source": [
        "df['model'].value_counts(dropna=False)"
      ]
    },
    {
      "cell_type": "code",
      "execution_count": 20,
      "metadata": {
        "colab": {
          "base_uri": "https://localhost:8080/",
          "height": 424
        },
        "id": "B8Orx1xPmPJ3",
        "outputId": "2f31dfcd-7d8b-4d0c-ff33-386f31939ff4"
      },
      "outputs": [
        {
          "output_type": "execute_result",
          "data": {
            "text/plain": [
              "        model  year  price transmission  mileage fuelType  tax   mpg  \\\n",
              "0      fiesta  2017  12000    automatic    15944   petrol  150  57.7   \n",
              "1       focus  2018  14000       manual     9083   petrol  150  57.7   \n",
              "2       focus  2017  13000       manual    12456   petrol  150  57.7   \n",
              "3      fiesta  2019  17500       manual    10460   petrol  145  40.3   \n",
              "4      fiesta  2019  16500    automatic     1482   petrol  145  48.7   \n",
              "...       ...   ...    ...          ...      ...      ...  ...   ...   \n",
              "17961   b-max  2017   8999       manual    16700   petrol  150  47.1   \n",
              "17962   b-max  2014   7499       manual    40700   petrol   30  57.7   \n",
              "17963   focus  2015   9999       manual     7010   diesel   20  67.3   \n",
              "17964      ka  2018   8299       manual     5007   petrol  145  57.7   \n",
              "17965   focus  2015   8299       manual     5007   petrol   22  57.7   \n",
              "\n",
              "       engineSize  \n",
              "0             1.0  \n",
              "1             1.0  \n",
              "2             1.0  \n",
              "3             1.5  \n",
              "4             1.0  \n",
              "...           ...  \n",
              "17961         1.4  \n",
              "17962         1.0  \n",
              "17963         1.6  \n",
              "17964         1.2  \n",
              "17965         1.0  \n",
              "\n",
              "[17559 rows x 9 columns]"
            ],
            "text/html": [
              "\n",
              "  <div id=\"df-54ddd627-35e7-4093-a99b-b2b1e151ad86\">\n",
              "    <div class=\"colab-df-container\">\n",
              "      <div>\n",
              "<style scoped>\n",
              "    .dataframe tbody tr th:only-of-type {\n",
              "        vertical-align: middle;\n",
              "    }\n",
              "\n",
              "    .dataframe tbody tr th {\n",
              "        vertical-align: top;\n",
              "    }\n",
              "\n",
              "    .dataframe thead th {\n",
              "        text-align: right;\n",
              "    }\n",
              "</style>\n",
              "<table border=\"1\" class=\"dataframe\">\n",
              "  <thead>\n",
              "    <tr style=\"text-align: right;\">\n",
              "      <th></th>\n",
              "      <th>model</th>\n",
              "      <th>year</th>\n",
              "      <th>price</th>\n",
              "      <th>transmission</th>\n",
              "      <th>mileage</th>\n",
              "      <th>fuelType</th>\n",
              "      <th>tax</th>\n",
              "      <th>mpg</th>\n",
              "      <th>engineSize</th>\n",
              "    </tr>\n",
              "  </thead>\n",
              "  <tbody>\n",
              "    <tr>\n",
              "      <th>0</th>\n",
              "      <td>fiesta</td>\n",
              "      <td>2017</td>\n",
              "      <td>12000</td>\n",
              "      <td>automatic</td>\n",
              "      <td>15944</td>\n",
              "      <td>petrol</td>\n",
              "      <td>150</td>\n",
              "      <td>57.7</td>\n",
              "      <td>1.0</td>\n",
              "    </tr>\n",
              "    <tr>\n",
              "      <th>1</th>\n",
              "      <td>focus</td>\n",
              "      <td>2018</td>\n",
              "      <td>14000</td>\n",
              "      <td>manual</td>\n",
              "      <td>9083</td>\n",
              "      <td>petrol</td>\n",
              "      <td>150</td>\n",
              "      <td>57.7</td>\n",
              "      <td>1.0</td>\n",
              "    </tr>\n",
              "    <tr>\n",
              "      <th>2</th>\n",
              "      <td>focus</td>\n",
              "      <td>2017</td>\n",
              "      <td>13000</td>\n",
              "      <td>manual</td>\n",
              "      <td>12456</td>\n",
              "      <td>petrol</td>\n",
              "      <td>150</td>\n",
              "      <td>57.7</td>\n",
              "      <td>1.0</td>\n",
              "    </tr>\n",
              "    <tr>\n",
              "      <th>3</th>\n",
              "      <td>fiesta</td>\n",
              "      <td>2019</td>\n",
              "      <td>17500</td>\n",
              "      <td>manual</td>\n",
              "      <td>10460</td>\n",
              "      <td>petrol</td>\n",
              "      <td>145</td>\n",
              "      <td>40.3</td>\n",
              "      <td>1.5</td>\n",
              "    </tr>\n",
              "    <tr>\n",
              "      <th>4</th>\n",
              "      <td>fiesta</td>\n",
              "      <td>2019</td>\n",
              "      <td>16500</td>\n",
              "      <td>automatic</td>\n",
              "      <td>1482</td>\n",
              "      <td>petrol</td>\n",
              "      <td>145</td>\n",
              "      <td>48.7</td>\n",
              "      <td>1.0</td>\n",
              "    </tr>\n",
              "    <tr>\n",
              "      <th>...</th>\n",
              "      <td>...</td>\n",
              "      <td>...</td>\n",
              "      <td>...</td>\n",
              "      <td>...</td>\n",
              "      <td>...</td>\n",
              "      <td>...</td>\n",
              "      <td>...</td>\n",
              "      <td>...</td>\n",
              "      <td>...</td>\n",
              "    </tr>\n",
              "    <tr>\n",
              "      <th>17961</th>\n",
              "      <td>b-max</td>\n",
              "      <td>2017</td>\n",
              "      <td>8999</td>\n",
              "      <td>manual</td>\n",
              "      <td>16700</td>\n",
              "      <td>petrol</td>\n",
              "      <td>150</td>\n",
              "      <td>47.1</td>\n",
              "      <td>1.4</td>\n",
              "    </tr>\n",
              "    <tr>\n",
              "      <th>17962</th>\n",
              "      <td>b-max</td>\n",
              "      <td>2014</td>\n",
              "      <td>7499</td>\n",
              "      <td>manual</td>\n",
              "      <td>40700</td>\n",
              "      <td>petrol</td>\n",
              "      <td>30</td>\n",
              "      <td>57.7</td>\n",
              "      <td>1.0</td>\n",
              "    </tr>\n",
              "    <tr>\n",
              "      <th>17963</th>\n",
              "      <td>focus</td>\n",
              "      <td>2015</td>\n",
              "      <td>9999</td>\n",
              "      <td>manual</td>\n",
              "      <td>7010</td>\n",
              "      <td>diesel</td>\n",
              "      <td>20</td>\n",
              "      <td>67.3</td>\n",
              "      <td>1.6</td>\n",
              "    </tr>\n",
              "    <tr>\n",
              "      <th>17964</th>\n",
              "      <td>ka</td>\n",
              "      <td>2018</td>\n",
              "      <td>8299</td>\n",
              "      <td>manual</td>\n",
              "      <td>5007</td>\n",
              "      <td>petrol</td>\n",
              "      <td>145</td>\n",
              "      <td>57.7</td>\n",
              "      <td>1.2</td>\n",
              "    </tr>\n",
              "    <tr>\n",
              "      <th>17965</th>\n",
              "      <td>focus</td>\n",
              "      <td>2015</td>\n",
              "      <td>8299</td>\n",
              "      <td>manual</td>\n",
              "      <td>5007</td>\n",
              "      <td>petrol</td>\n",
              "      <td>22</td>\n",
              "      <td>57.7</td>\n",
              "      <td>1.0</td>\n",
              "    </tr>\n",
              "  </tbody>\n",
              "</table>\n",
              "<p>17559 rows × 9 columns</p>\n",
              "</div>\n",
              "      <button class=\"colab-df-convert\" onclick=\"convertToInteractive('df-54ddd627-35e7-4093-a99b-b2b1e151ad86')\"\n",
              "              title=\"Convert this dataframe to an interactive table.\"\n",
              "              style=\"display:none;\">\n",
              "        \n",
              "  <svg xmlns=\"http://www.w3.org/2000/svg\" height=\"24px\"viewBox=\"0 0 24 24\"\n",
              "       width=\"24px\">\n",
              "    <path d=\"M0 0h24v24H0V0z\" fill=\"none\"/>\n",
              "    <path d=\"M18.56 5.44l.94 2.06.94-2.06 2.06-.94-2.06-.94-.94-2.06-.94 2.06-2.06.94zm-11 1L8.5 8.5l.94-2.06 2.06-.94-2.06-.94L8.5 2.5l-.94 2.06-2.06.94zm10 10l.94 2.06.94-2.06 2.06-.94-2.06-.94-.94-2.06-.94 2.06-2.06.94z\"/><path d=\"M17.41 7.96l-1.37-1.37c-.4-.4-.92-.59-1.43-.59-.52 0-1.04.2-1.43.59L10.3 9.45l-7.72 7.72c-.78.78-.78 2.05 0 2.83L4 21.41c.39.39.9.59 1.41.59.51 0 1.02-.2 1.41-.59l7.78-7.78 2.81-2.81c.8-.78.8-2.07 0-2.86zM5.41 20L4 18.59l7.72-7.72 1.47 1.35L5.41 20z\"/>\n",
              "  </svg>\n",
              "      </button>\n",
              "      \n",
              "  <style>\n",
              "    .colab-df-container {\n",
              "      display:flex;\n",
              "      flex-wrap:wrap;\n",
              "      gap: 12px;\n",
              "    }\n",
              "\n",
              "    .colab-df-convert {\n",
              "      background-color: #E8F0FE;\n",
              "      border: none;\n",
              "      border-radius: 50%;\n",
              "      cursor: pointer;\n",
              "      display: none;\n",
              "      fill: #1967D2;\n",
              "      height: 32px;\n",
              "      padding: 0 0 0 0;\n",
              "      width: 32px;\n",
              "    }\n",
              "\n",
              "    .colab-df-convert:hover {\n",
              "      background-color: #E2EBFA;\n",
              "      box-shadow: 0px 1px 2px rgba(60, 64, 67, 0.3), 0px 1px 3px 1px rgba(60, 64, 67, 0.15);\n",
              "      fill: #174EA6;\n",
              "    }\n",
              "\n",
              "    [theme=dark] .colab-df-convert {\n",
              "      background-color: #3B4455;\n",
              "      fill: #D2E3FC;\n",
              "    }\n",
              "\n",
              "    [theme=dark] .colab-df-convert:hover {\n",
              "      background-color: #434B5C;\n",
              "      box-shadow: 0px 1px 3px 1px rgba(0, 0, 0, 0.15);\n",
              "      filter: drop-shadow(0px 1px 2px rgba(0, 0, 0, 0.3));\n",
              "      fill: #FFFFFF;\n",
              "    }\n",
              "  </style>\n",
              "\n",
              "      <script>\n",
              "        const buttonEl =\n",
              "          document.querySelector('#df-54ddd627-35e7-4093-a99b-b2b1e151ad86 button.colab-df-convert');\n",
              "        buttonEl.style.display =\n",
              "          google.colab.kernel.accessAllowed ? 'block' : 'none';\n",
              "\n",
              "        async function convertToInteractive(key) {\n",
              "          const element = document.querySelector('#df-54ddd627-35e7-4093-a99b-b2b1e151ad86');\n",
              "          const dataTable =\n",
              "            await google.colab.kernel.invokeFunction('convertToInteractive',\n",
              "                                                     [key], {});\n",
              "          if (!dataTable) return;\n",
              "\n",
              "          const docLinkHtml = 'Like what you see? Visit the ' +\n",
              "            '<a target=\"_blank\" href=https://colab.research.google.com/notebooks/data_table.ipynb>data table notebook</a>'\n",
              "            + ' to learn more about interactive tables.';\n",
              "          element.innerHTML = '';\n",
              "          dataTable['output_type'] = 'display_data';\n",
              "          await google.colab.output.renderOutput(dataTable, element);\n",
              "          const docLink = document.createElement('div');\n",
              "          docLink.innerHTML = docLinkHtml;\n",
              "          element.appendChild(docLink);\n",
              "        }\n",
              "      </script>\n",
              "    </div>\n",
              "  </div>\n",
              "  "
            ]
          },
          "metadata": {},
          "execution_count": 20
        }
      ],
      "source": [
        "df"
      ]
    },
    {
      "cell_type": "code",
      "execution_count": 21,
      "metadata": {
        "id": "LeEvd2iAq4Sx"
      },
      "outputs": [],
      "source": [
        "df.columns=df.columns.str.lower()"
      ]
    },
    {
      "cell_type": "code",
      "execution_count": 22,
      "metadata": {
        "colab": {
          "base_uri": "https://localhost:8080/",
          "height": 424
        },
        "id": "wqF1-JdQruqA",
        "outputId": "e788d93f-3c05-4dbb-ec99-2e1f94ee3780"
      },
      "outputs": [
        {
          "output_type": "execute_result",
          "data": {
            "text/plain": [
              "        model  year  price transmission  mileage fueltype  tax   mpg  \\\n",
              "0      fiesta  2017  12000    automatic    15944   petrol  150  57.7   \n",
              "1       focus  2018  14000       manual     9083   petrol  150  57.7   \n",
              "2       focus  2017  13000       manual    12456   petrol  150  57.7   \n",
              "3      fiesta  2019  17500       manual    10460   petrol  145  40.3   \n",
              "4      fiesta  2019  16500    automatic     1482   petrol  145  48.7   \n",
              "...       ...   ...    ...          ...      ...      ...  ...   ...   \n",
              "17961   b-max  2017   8999       manual    16700   petrol  150  47.1   \n",
              "17962   b-max  2014   7499       manual    40700   petrol   30  57.7   \n",
              "17963   focus  2015   9999       manual     7010   diesel   20  67.3   \n",
              "17964      ka  2018   8299       manual     5007   petrol  145  57.7   \n",
              "17965   focus  2015   8299       manual     5007   petrol   22  57.7   \n",
              "\n",
              "       enginesize  \n",
              "0             1.0  \n",
              "1             1.0  \n",
              "2             1.0  \n",
              "3             1.5  \n",
              "4             1.0  \n",
              "...           ...  \n",
              "17961         1.4  \n",
              "17962         1.0  \n",
              "17963         1.6  \n",
              "17964         1.2  \n",
              "17965         1.0  \n",
              "\n",
              "[17559 rows x 9 columns]"
            ],
            "text/html": [
              "\n",
              "  <div id=\"df-698db6cb-8b38-44d4-9a83-ab8f05c01acd\">\n",
              "    <div class=\"colab-df-container\">\n",
              "      <div>\n",
              "<style scoped>\n",
              "    .dataframe tbody tr th:only-of-type {\n",
              "        vertical-align: middle;\n",
              "    }\n",
              "\n",
              "    .dataframe tbody tr th {\n",
              "        vertical-align: top;\n",
              "    }\n",
              "\n",
              "    .dataframe thead th {\n",
              "        text-align: right;\n",
              "    }\n",
              "</style>\n",
              "<table border=\"1\" class=\"dataframe\">\n",
              "  <thead>\n",
              "    <tr style=\"text-align: right;\">\n",
              "      <th></th>\n",
              "      <th>model</th>\n",
              "      <th>year</th>\n",
              "      <th>price</th>\n",
              "      <th>transmission</th>\n",
              "      <th>mileage</th>\n",
              "      <th>fueltype</th>\n",
              "      <th>tax</th>\n",
              "      <th>mpg</th>\n",
              "      <th>enginesize</th>\n",
              "    </tr>\n",
              "  </thead>\n",
              "  <tbody>\n",
              "    <tr>\n",
              "      <th>0</th>\n",
              "      <td>fiesta</td>\n",
              "      <td>2017</td>\n",
              "      <td>12000</td>\n",
              "      <td>automatic</td>\n",
              "      <td>15944</td>\n",
              "      <td>petrol</td>\n",
              "      <td>150</td>\n",
              "      <td>57.7</td>\n",
              "      <td>1.0</td>\n",
              "    </tr>\n",
              "    <tr>\n",
              "      <th>1</th>\n",
              "      <td>focus</td>\n",
              "      <td>2018</td>\n",
              "      <td>14000</td>\n",
              "      <td>manual</td>\n",
              "      <td>9083</td>\n",
              "      <td>petrol</td>\n",
              "      <td>150</td>\n",
              "      <td>57.7</td>\n",
              "      <td>1.0</td>\n",
              "    </tr>\n",
              "    <tr>\n",
              "      <th>2</th>\n",
              "      <td>focus</td>\n",
              "      <td>2017</td>\n",
              "      <td>13000</td>\n",
              "      <td>manual</td>\n",
              "      <td>12456</td>\n",
              "      <td>petrol</td>\n",
              "      <td>150</td>\n",
              "      <td>57.7</td>\n",
              "      <td>1.0</td>\n",
              "    </tr>\n",
              "    <tr>\n",
              "      <th>3</th>\n",
              "      <td>fiesta</td>\n",
              "      <td>2019</td>\n",
              "      <td>17500</td>\n",
              "      <td>manual</td>\n",
              "      <td>10460</td>\n",
              "      <td>petrol</td>\n",
              "      <td>145</td>\n",
              "      <td>40.3</td>\n",
              "      <td>1.5</td>\n",
              "    </tr>\n",
              "    <tr>\n",
              "      <th>4</th>\n",
              "      <td>fiesta</td>\n",
              "      <td>2019</td>\n",
              "      <td>16500</td>\n",
              "      <td>automatic</td>\n",
              "      <td>1482</td>\n",
              "      <td>petrol</td>\n",
              "      <td>145</td>\n",
              "      <td>48.7</td>\n",
              "      <td>1.0</td>\n",
              "    </tr>\n",
              "    <tr>\n",
              "      <th>...</th>\n",
              "      <td>...</td>\n",
              "      <td>...</td>\n",
              "      <td>...</td>\n",
              "      <td>...</td>\n",
              "      <td>...</td>\n",
              "      <td>...</td>\n",
              "      <td>...</td>\n",
              "      <td>...</td>\n",
              "      <td>...</td>\n",
              "    </tr>\n",
              "    <tr>\n",
              "      <th>17961</th>\n",
              "      <td>b-max</td>\n",
              "      <td>2017</td>\n",
              "      <td>8999</td>\n",
              "      <td>manual</td>\n",
              "      <td>16700</td>\n",
              "      <td>petrol</td>\n",
              "      <td>150</td>\n",
              "      <td>47.1</td>\n",
              "      <td>1.4</td>\n",
              "    </tr>\n",
              "    <tr>\n",
              "      <th>17962</th>\n",
              "      <td>b-max</td>\n",
              "      <td>2014</td>\n",
              "      <td>7499</td>\n",
              "      <td>manual</td>\n",
              "      <td>40700</td>\n",
              "      <td>petrol</td>\n",
              "      <td>30</td>\n",
              "      <td>57.7</td>\n",
              "      <td>1.0</td>\n",
              "    </tr>\n",
              "    <tr>\n",
              "      <th>17963</th>\n",
              "      <td>focus</td>\n",
              "      <td>2015</td>\n",
              "      <td>9999</td>\n",
              "      <td>manual</td>\n",
              "      <td>7010</td>\n",
              "      <td>diesel</td>\n",
              "      <td>20</td>\n",
              "      <td>67.3</td>\n",
              "      <td>1.6</td>\n",
              "    </tr>\n",
              "    <tr>\n",
              "      <th>17964</th>\n",
              "      <td>ka</td>\n",
              "      <td>2018</td>\n",
              "      <td>8299</td>\n",
              "      <td>manual</td>\n",
              "      <td>5007</td>\n",
              "      <td>petrol</td>\n",
              "      <td>145</td>\n",
              "      <td>57.7</td>\n",
              "      <td>1.2</td>\n",
              "    </tr>\n",
              "    <tr>\n",
              "      <th>17965</th>\n",
              "      <td>focus</td>\n",
              "      <td>2015</td>\n",
              "      <td>8299</td>\n",
              "      <td>manual</td>\n",
              "      <td>5007</td>\n",
              "      <td>petrol</td>\n",
              "      <td>22</td>\n",
              "      <td>57.7</td>\n",
              "      <td>1.0</td>\n",
              "    </tr>\n",
              "  </tbody>\n",
              "</table>\n",
              "<p>17559 rows × 9 columns</p>\n",
              "</div>\n",
              "      <button class=\"colab-df-convert\" onclick=\"convertToInteractive('df-698db6cb-8b38-44d4-9a83-ab8f05c01acd')\"\n",
              "              title=\"Convert this dataframe to an interactive table.\"\n",
              "              style=\"display:none;\">\n",
              "        \n",
              "  <svg xmlns=\"http://www.w3.org/2000/svg\" height=\"24px\"viewBox=\"0 0 24 24\"\n",
              "       width=\"24px\">\n",
              "    <path d=\"M0 0h24v24H0V0z\" fill=\"none\"/>\n",
              "    <path d=\"M18.56 5.44l.94 2.06.94-2.06 2.06-.94-2.06-.94-.94-2.06-.94 2.06-2.06.94zm-11 1L8.5 8.5l.94-2.06 2.06-.94-2.06-.94L8.5 2.5l-.94 2.06-2.06.94zm10 10l.94 2.06.94-2.06 2.06-.94-2.06-.94-.94-2.06-.94 2.06-2.06.94z\"/><path d=\"M17.41 7.96l-1.37-1.37c-.4-.4-.92-.59-1.43-.59-.52 0-1.04.2-1.43.59L10.3 9.45l-7.72 7.72c-.78.78-.78 2.05 0 2.83L4 21.41c.39.39.9.59 1.41.59.51 0 1.02-.2 1.41-.59l7.78-7.78 2.81-2.81c.8-.78.8-2.07 0-2.86zM5.41 20L4 18.59l7.72-7.72 1.47 1.35L5.41 20z\"/>\n",
              "  </svg>\n",
              "      </button>\n",
              "      \n",
              "  <style>\n",
              "    .colab-df-container {\n",
              "      display:flex;\n",
              "      flex-wrap:wrap;\n",
              "      gap: 12px;\n",
              "    }\n",
              "\n",
              "    .colab-df-convert {\n",
              "      background-color: #E8F0FE;\n",
              "      border: none;\n",
              "      border-radius: 50%;\n",
              "      cursor: pointer;\n",
              "      display: none;\n",
              "      fill: #1967D2;\n",
              "      height: 32px;\n",
              "      padding: 0 0 0 0;\n",
              "      width: 32px;\n",
              "    }\n",
              "\n",
              "    .colab-df-convert:hover {\n",
              "      background-color: #E2EBFA;\n",
              "      box-shadow: 0px 1px 2px rgba(60, 64, 67, 0.3), 0px 1px 3px 1px rgba(60, 64, 67, 0.15);\n",
              "      fill: #174EA6;\n",
              "    }\n",
              "\n",
              "    [theme=dark] .colab-df-convert {\n",
              "      background-color: #3B4455;\n",
              "      fill: #D2E3FC;\n",
              "    }\n",
              "\n",
              "    [theme=dark] .colab-df-convert:hover {\n",
              "      background-color: #434B5C;\n",
              "      box-shadow: 0px 1px 3px 1px rgba(0, 0, 0, 0.15);\n",
              "      filter: drop-shadow(0px 1px 2px rgba(0, 0, 0, 0.3));\n",
              "      fill: #FFFFFF;\n",
              "    }\n",
              "  </style>\n",
              "\n",
              "      <script>\n",
              "        const buttonEl =\n",
              "          document.querySelector('#df-698db6cb-8b38-44d4-9a83-ab8f05c01acd button.colab-df-convert');\n",
              "        buttonEl.style.display =\n",
              "          google.colab.kernel.accessAllowed ? 'block' : 'none';\n",
              "\n",
              "        async function convertToInteractive(key) {\n",
              "          const element = document.querySelector('#df-698db6cb-8b38-44d4-9a83-ab8f05c01acd');\n",
              "          const dataTable =\n",
              "            await google.colab.kernel.invokeFunction('convertToInteractive',\n",
              "                                                     [key], {});\n",
              "          if (!dataTable) return;\n",
              "\n",
              "          const docLinkHtml = 'Like what you see? Visit the ' +\n",
              "            '<a target=\"_blank\" href=https://colab.research.google.com/notebooks/data_table.ipynb>data table notebook</a>'\n",
              "            + ' to learn more about interactive tables.';\n",
              "          element.innerHTML = '';\n",
              "          dataTable['output_type'] = 'display_data';\n",
              "          await google.colab.output.renderOutput(dataTable, element);\n",
              "          const docLink = document.createElement('div');\n",
              "          docLink.innerHTML = docLinkHtml;\n",
              "          element.appendChild(docLink);\n",
              "        }\n",
              "      </script>\n",
              "    </div>\n",
              "  </div>\n",
              "  "
            ]
          },
          "metadata": {},
          "execution_count": 22
        }
      ],
      "source": [
        "df"
      ]
    },
    {
      "cell_type": "markdown",
      "metadata": {
        "id": "XeJL1E_VrcQn"
      },
      "source": [
        "После того как данные приведены в примерный порядок, можно строить кластеризацию"
      ]
    },
    {
      "cell_type": "markdown",
      "source": [
        "## 7.K-means и метод elbow."
      ],
      "metadata": {
        "id": "4u9FhFbsrKDd"
      }
    },
    {
      "cell_type": "code",
      "execution_count": 23,
      "metadata": {
        "colab": {
          "base_uri": "https://localhost:8080/",
          "height": 500
        },
        "id": "tegCCMperjmF",
        "outputId": "96bbe7bc-bcd6-4c9d-8297-34f1ea8e4500"
      },
      "outputs": [
        {
          "output_type": "execute_result",
          "data": {
            "text/plain": [
              "<matplotlib.collections.PathCollection at 0x7f8aa2a02a10>"
            ]
          },
          "metadata": {},
          "execution_count": 23
        },
        {
          "output_type": "display_data",
          "data": {
            "text/plain": [
              "<Figure size 864x576 with 1 Axes>"
            ],
            "image/png": "[encoded data removed]"
          },
          "metadata": {
            "needs_background": "light"
          }
        }
      ],
      "source": [
        "plt.scatter(df.tax,df.enginesize)"
      ]
    },
    {
      "cell_type": "code",
      "execution_count": 24,
      "metadata": {
        "id": "H1bIlvtqtJkd"
      },
      "outputs": [],
      "source": [
        "km=KMeans(n_clusters=3)"
      ]
    },
    {
      "cell_type": "code",
      "execution_count": 25,
      "metadata": {
        "id": "pZOzVrFpuGJ-"
      },
      "outputs": [],
      "source": [
        "y_predicted=km.fit_predict(df[['tax','enginesize']])\n",
        "# print(*y_predicted)"
      ]
    },
    {
      "cell_type": "code",
      "execution_count": 26,
      "metadata": {
        "colab": {
          "base_uri": "https://localhost:8080/",
          "height": 206
        },
        "id": "VlCEzubwuo6r",
        "outputId": "0b579c59-ef42-42ec-d904-d2e5ce247fa4"
      },
      "outputs": [
        {
          "output_type": "execute_result",
          "data": {
            "text/plain": [
              "    model  year  price transmission  mileage fueltype  tax   mpg  enginesize  \\\n",
              "0  fiesta  2017  12000    automatic    15944   petrol  150  57.7         1.0   \n",
              "1   focus  2018  14000       manual     9083   petrol  150  57.7         1.0   \n",
              "2   focus  2017  13000       manual    12456   petrol  150  57.7         1.0   \n",
              "3  fiesta  2019  17500       manual    10460   petrol  145  40.3         1.5   \n",
              "4  fiesta  2019  16500    automatic     1482   petrol  145  48.7         1.0   \n",
              "\n",
              "   cluster  \n",
              "0        0  \n",
              "1        0  \n",
              "2        0  \n",
              "3        0  \n",
              "4        0  "
            ],
            "text/html": [
              "\n",
              "  <div id=\"df-c12ca5d9-079b-4940-8d5d-e19516f10cc1\">\n",
              "    <div class=\"colab-df-container\">\n",
              "      <div>\n",
              "<style scoped>\n",
              "    .dataframe tbody tr th:only-of-type {\n",
              "        vertical-align: middle;\n",
              "    }\n",
              "\n",
              "    .dataframe tbody tr th {\n",
              "        vertical-align: top;\n",
              "    }\n",
              "\n",
              "    .dataframe thead th {\n",
              "        text-align: right;\n",
              "    }\n",
              "</style>\n",
              "<table border=\"1\" class=\"dataframe\">\n",
              "  <thead>\n",
              "    <tr style=\"text-align: right;\">\n",
              "      <th></th>\n",
              "      <th>model</th>\n",
              "      <th>year</th>\n",
              "      <th>price</th>\n",
              "      <th>transmission</th>\n",
              "      <th>mileage</th>\n",
              "      <th>fueltype</th>\n",
              "      <th>tax</th>\n",
              "      <th>mpg</th>\n",
              "      <th>enginesize</th>\n",
              "      <th>cluster</th>\n",
              "    </tr>\n",
              "  </thead>\n",
              "  <tbody>\n",
              "    <tr>\n",
              "      <th>0</th>\n",
              "      <td>fiesta</td>\n",
              "      <td>2017</td>\n",
              "      <td>12000</td>\n",
              "      <td>automatic</td>\n",
              "      <td>15944</td>\n",
              "      <td>petrol</td>\n",
              "      <td>150</td>\n",
              "      <td>57.7</td>\n",
              "      <td>1.0</td>\n",
              "      <td>0</td>\n",
              "    </tr>\n",
              "    <tr>\n",
              "      <th>1</th>\n",
              "      <td>focus</td>\n",
              "      <td>2018</td>\n",
              "      <td>14000</td>\n",
              "      <td>manual</td>\n",
              "      <td>9083</td>\n",
              "      <td>petrol</td>\n",
              "      <td>150</td>\n",
              "      <td>57.7</td>\n",
              "      <td>1.0</td>\n",
              "      <td>0</td>\n",
              "    </tr>\n",
              "    <tr>\n",
              "      <th>2</th>\n",
              "      <td>focus</td>\n",
              "      <td>2017</td>\n",
              "      <td>13000</td>\n",
              "      <td>manual</td>\n",
              "      <td>12456</td>\n",
              "      <td>petrol</td>\n",
              "      <td>150</td>\n",
              "      <td>57.7</td>\n",
              "      <td>1.0</td>\n",
              "      <td>0</td>\n",
              "    </tr>\n",
              "    <tr>\n",
              "      <th>3</th>\n",
              "      <td>fiesta</td>\n",
              "      <td>2019</td>\n",
              "      <td>17500</td>\n",
              "      <td>manual</td>\n",
              "      <td>10460</td>\n",
              "      <td>petrol</td>\n",
              "      <td>145</td>\n",
              "      <td>40.3</td>\n",
              "      <td>1.5</td>\n",
              "      <td>0</td>\n",
              "    </tr>\n",
              "    <tr>\n",
              "      <th>4</th>\n",
              "      <td>fiesta</td>\n",
              "      <td>2019</td>\n",
              "      <td>16500</td>\n",
              "      <td>automatic</td>\n",
              "      <td>1482</td>\n",
              "      <td>petrol</td>\n",
              "      <td>145</td>\n",
              "      <td>48.7</td>\n",
              "      <td>1.0</td>\n",
              "      <td>0</td>\n",
              "    </tr>\n",
              "  </tbody>\n",
              "</table>\n",
              "</div>\n",
              "      <button class=\"colab-df-convert\" onclick=\"convertToInteractive('df-c12ca5d9-079b-4940-8d5d-e19516f10cc1')\"\n",
              "              title=\"Convert this dataframe to an interactive table.\"\n",
              "              style=\"display:none;\">\n",
              "        \n",
              "  <svg xmlns=\"http://www.w3.org/2000/svg\" height=\"24px\"viewBox=\"0 0 24 24\"\n",
              "       width=\"24px\">\n",
              "    <path d=\"M0 0h24v24H0V0z\" fill=\"none\"/>\n",
              "    <path d=\"M18.56 5.44l.94 2.06.94-2.06 2.06-.94-2.06-.94-.94-2.06-.94 2.06-2.06.94zm-11 1L8.5 8.5l.94-2.06 2.06-.94-2.06-.94L8.5 2.5l-.94 2.06-2.06.94zm10 10l.94 2.06.94-2.06 2.06-.94-2.06-.94-.94-2.06-.94 2.06-2.06.94z\"/><path d=\"M17.41 7.96l-1.37-1.37c-.4-.4-.92-.59-1.43-.59-.52 0-1.04.2-1.43.59L10.3 9.45l-7.72 7.72c-.78.78-.78 2.05 0 2.83L4 21.41c.39.39.9.59 1.41.59.51 0 1.02-.2 1.41-.59l7.78-7.78 2.81-2.81c.8-.78.8-2.07 0-2.86zM5.41 20L4 18.59l7.72-7.72 1.47 1.35L5.41 20z\"/>\n",
              "  </svg>\n",
              "      </button>\n",
              "      \n",
              "  <style>\n",
              "    .colab-df-container {\n",
              "      display:flex;\n",
              "      flex-wrap:wrap;\n",
              "      gap: 12px;\n",
              "    }\n",
              "\n",
              "    .colab-df-convert {\n",
              "      background-color: #E8F0FE;\n",
              "      border: none;\n",
              "      border-radius: 50%;\n",
              "      cursor: pointer;\n",
              "      display: none;\n",
              "      fill: #1967D2;\n",
              "      height: 32px;\n",
              "      padding: 0 0 0 0;\n",
              "      width: 32px;\n",
              "    }\n",
              "\n",
              "    .colab-df-convert:hover {\n",
              "      background-color: #E2EBFA;\n",
              "      box-shadow: 0px 1px 2px rgba(60, 64, 67, 0.3), 0px 1px 3px 1px rgba(60, 64, 67, 0.15);\n",
              "      fill: #174EA6;\n",
              "    }\n",
              "\n",
              "    [theme=dark] .colab-df-convert {\n",
              "      background-color: #3B4455;\n",
              "      fill: #D2E3FC;\n",
              "    }\n",
              "\n",
              "    [theme=dark] .colab-df-convert:hover {\n",
              "      background-color: #434B5C;\n",
              "      box-shadow: 0px 1px 3px 1px rgba(0, 0, 0, 0.15);\n",
              "      filter: drop-shadow(0px 1px 2px rgba(0, 0, 0, 0.3));\n",
              "      fill: #FFFFFF;\n",
              "    }\n",
              "  </style>\n",
              "\n",
              "      <script>\n",
              "        const buttonEl =\n",
              "          document.querySelector('#df-c12ca5d9-079b-4940-8d5d-e19516f10cc1 button.colab-df-convert');\n",
              "        buttonEl.style.display =\n",
              "          google.colab.kernel.accessAllowed ? 'block' : 'none';\n",
              "\n",
              "        async function convertToInteractive(key) {\n",
              "          const element = document.querySelector('#df-c12ca5d9-079b-4940-8d5d-e19516f10cc1');\n",
              "          const dataTable =\n",
              "            await google.colab.kernel.invokeFunction('convertToInteractive',\n",
              "                                                     [key], {});\n",
              "          if (!dataTable) return;\n",
              "\n",
              "          const docLinkHtml = 'Like what you see? Visit the ' +\n",
              "            '<a target=\"_blank\" href=https://colab.research.google.com/notebooks/data_table.ipynb>data table notebook</a>'\n",
              "            + ' to learn more about interactive tables.';\n",
              "          element.innerHTML = '';\n",
              "          dataTable['output_type'] = 'display_data';\n",
              "          await google.colab.output.renderOutput(dataTable, element);\n",
              "          const docLink = document.createElement('div');\n",
              "          docLink.innerHTML = docLinkHtml;\n",
              "          element.appendChild(docLink);\n",
              "        }\n",
              "      </script>\n",
              "    </div>\n",
              "  </div>\n",
              "  "
            ]
          },
          "metadata": {},
          "execution_count": 26
        }
      ],
      "source": [
        "df['cluster']=y_predicted\n",
        "df.head()"
      ]
    },
    {
      "cell_type": "code",
      "source": [
        "km.cluster_centers_"
      ],
      "metadata": {
        "colab": {
          "base_uri": "https://localhost:8080/"
        },
        "id": "XO9Gp05NhAf7",
        "outputId": "1cfdad6a-d49c-486d-d24b-007af1d4b078"
      },
      "execution_count": 27,
      "outputs": [
        {
          "output_type": "execute_result",
          "data": {
            "text/plain": [
              "array([[144.10030566,   1.35707046],\n",
              "       [ 13.31915826,   1.26473038],\n",
              "       [228.74336283,   1.90283186]])"
            ]
          },
          "metadata": {},
          "execution_count": 27
        }
      ]
    },
    {
      "cell_type": "code",
      "execution_count": 28,
      "metadata": {
        "colab": {
          "base_uri": "https://localhost:8080/",
          "height": 535
        },
        "id": "a7FXO-LSuvpO",
        "outputId": "eabc3e45-1582-4286-bdd8-458b8b8f3429"
      },
      "outputs": [
        {
          "output_type": "stream",
          "name": "stderr",
          "text": [
            "WARNING:matplotlib.legend:No artists with labels found to put in legend.  Note that artists whose label start with an underscore are ignored when legend() is called with no argument.\n"
          ]
        },
        {
          "output_type": "execute_result",
          "data": {
            "text/plain": [
              "<matplotlib.legend.Legend at 0x7f8aa1da8310>"
            ]
          },
          "metadata": {},
          "execution_count": 28
        },
        {
          "output_type": "display_data",
          "data": {
            "text/plain": [
              "<Figure size 864x576 with 1 Axes>"
            ],
            "image/png": "[encoded data removed]"
          },
          "metadata": {
            "needs_background": "light"
          }
        }
      ],
      "source": [
        "df1=df[df.cluster==0]\n",
        "df2=df[df.cluster==1]\n",
        "df3=df[df.cluster==2]\n",
        "\n",
        "plt.scatter(df1.tax,df1.enginesize,color='green')\n",
        "plt.scatter(df2.tax,df2.enginesize,color='red')\n",
        "plt.scatter(df3.tax,df3.enginesize,color='black')\n",
        "\n",
        "# plt.scatter(km.cluster_centres_[:,0],km.cluster_centers_[:,1],color='purple',maker='*',label='центроид')\n",
        "plt.xlabel('налог')\n",
        "plt.ylabel('объем двигаетеля')\n",
        "plt.legend()"
      ]
    },
    {
      "cell_type": "code",
      "execution_count": 29,
      "metadata": {
        "colab": {
          "base_uri": "https://localhost:8080/",
          "height": 424
        },
        "id": "SLUfrrHvwWcX",
        "outputId": "3202c4e6-5ae5-4796-ce6b-05d6d3557f06"
      },
      "outputs": [
        {
          "output_type": "execute_result",
          "data": {
            "text/plain": [
              "        model  year  price transmission  mileage fueltype       tax   mpg  \\\n",
              "0      fiesta  2017  12000    automatic    15944   petrol  0.258621  57.7   \n",
              "1       focus  2018  14000       manual     9083   petrol  0.258621  57.7   \n",
              "2       focus  2017  13000       manual    12456   petrol  0.258621  57.7   \n",
              "3      fiesta  2019  17500       manual    10460   petrol  0.250000  40.3   \n",
              "4      fiesta  2019  16500    automatic     1482   petrol  0.250000  48.7   \n",
              "...       ...   ...    ...          ...      ...      ...       ...   ...   \n",
              "17961   b-max  2017   8999       manual    16700   petrol  0.258621  47.1   \n",
              "17962   b-max  2014   7499       manual    40700   petrol  0.051724  57.7   \n",
              "17963   focus  2015   9999       manual     7010   diesel  0.034483  67.3   \n",
              "17964      ka  2018   8299       manual     5007   petrol  0.250000  57.7   \n",
              "17965   focus  2015   8299       manual     5007   petrol  0.037931  57.7   \n",
              "\n",
              "       enginesize  cluster  \n",
              "0            0.20        0  \n",
              "1            0.20        0  \n",
              "2            0.20        0  \n",
              "3            0.30        0  \n",
              "4            0.20        0  \n",
              "...           ...      ...  \n",
              "17961        0.28        0  \n",
              "17962        0.20        1  \n",
              "17963        0.32        1  \n",
              "17964        0.24        0  \n",
              "17965        0.20        1  \n",
              "\n",
              "[17559 rows x 10 columns]"
            ],
            "text/html": [
              "\n",
              "  <div id=\"df-b9952c74-9401-46cb-8166-d4bbc6c6af42\">\n",
              "    <div class=\"colab-df-container\">\n",
              "      <div>\n",
              "<style scoped>\n",
              "    .dataframe tbody tr th:only-of-type {\n",
              "        vertical-align: middle;\n",
              "    }\n",
              "\n",
              "    .dataframe tbody tr th {\n",
              "        vertical-align: top;\n",
              "    }\n",
              "\n",
              "    .dataframe thead th {\n",
              "        text-align: right;\n",
              "    }\n",
              "</style>\n",
              "<table border=\"1\" class=\"dataframe\">\n",
              "  <thead>\n",
              "    <tr style=\"text-align: right;\">\n",
              "      <th></th>\n",
              "      <th>model</th>\n",
              "      <th>year</th>\n",
              "      <th>price</th>\n",
              "      <th>transmission</th>\n",
              "      <th>mileage</th>\n",
              "      <th>fueltype</th>\n",
              "      <th>tax</th>\n",
              "      <th>mpg</th>\n",
              "      <th>enginesize</th>\n",
              "      <th>cluster</th>\n",
              "    </tr>\n",
              "  </thead>\n",
              "  <tbody>\n",
              "    <tr>\n",
              "      <th>0</th>\n",
              "      <td>fiesta</td>\n",
              "      <td>2017</td>\n",
              "      <td>12000</td>\n",
              "      <td>automatic</td>\n",
              "      <td>15944</td>\n",
              "      <td>petrol</td>\n",
              "      <td>0.258621</td>\n",
              "      <td>57.7</td>\n",
              "      <td>0.20</td>\n",
              "      <td>0</td>\n",
              "    </tr>\n",
              "    <tr>\n",
              "      <th>1</th>\n",
              "      <td>focus</td>\n",
              "      <td>2018</td>\n",
              "      <td>14000</td>\n",
              "      <td>manual</td>\n",
              "      <td>9083</td>\n",
              "      <td>petrol</td>\n",
              "      <td>0.258621</td>\n",
              "      <td>57.7</td>\n",
              "      <td>0.20</td>\n",
              "      <td>0</td>\n",
              "    </tr>\n",
              "    <tr>\n",
              "      <th>2</th>\n",
              "      <td>focus</td>\n",
              "      <td>2017</td>\n",
              "      <td>13000</td>\n",
              "      <td>manual</td>\n",
              "      <td>12456</td>\n",
              "      <td>petrol</td>\n",
              "      <td>0.258621</td>\n",
              "      <td>57.7</td>\n",
              "      <td>0.20</td>\n",
              "      <td>0</td>\n",
              "    </tr>\n",
              "    <tr>\n",
              "      <th>3</th>\n",
              "      <td>fiesta</td>\n",
              "      <td>2019</td>\n",
              "      <td>17500</td>\n",
              "      <td>manual</td>\n",
              "      <td>10460</td>\n",
              "      <td>petrol</td>\n",
              "      <td>0.250000</td>\n",
              "      <td>40.3</td>\n",
              "      <td>0.30</td>\n",
              "      <td>0</td>\n",
              "    </tr>\n",
              "    <tr>\n",
              "      <th>4</th>\n",
              "      <td>fiesta</td>\n",
              "      <td>2019</td>\n",
              "      <td>16500</td>\n",
              "      <td>automatic</td>\n",
              "      <td>1482</td>\n",
              "      <td>petrol</td>\n",
              "      <td>0.250000</td>\n",
              "      <td>48.7</td>\n",
              "      <td>0.20</td>\n",
              "      <td>0</td>\n",
              "    </tr>\n",
              "    <tr>\n",
              "      <th>...</th>\n",
              "      <td>...</td>\n",
              "      <td>...</td>\n",
              "      <td>...</td>\n",
              "      <td>...</td>\n",
              "      <td>...</td>\n",
              "      <td>...</td>\n",
              "      <td>...</td>\n",
              "      <td>...</td>\n",
              "      <td>...</td>\n",
              "      <td>...</td>\n",
              "    </tr>\n",
              "    <tr>\n",
              "      <th>17961</th>\n",
              "      <td>b-max</td>\n",
              "      <td>2017</td>\n",
              "      <td>8999</td>\n",
              "      <td>manual</td>\n",
              "      <td>16700</td>\n",
              "      <td>petrol</td>\n",
              "      <td>0.258621</td>\n",
              "      <td>47.1</td>\n",
              "      <td>0.28</td>\n",
              "      <td>0</td>\n",
              "    </tr>\n",
              "    <tr>\n",
              "      <th>17962</th>\n",
              "      <td>b-max</td>\n",
              "      <td>2014</td>\n",
              "      <td>7499</td>\n",
              "      <td>manual</td>\n",
              "      <td>40700</td>\n",
              "      <td>petrol</td>\n",
              "      <td>0.051724</td>\n",
              "      <td>57.7</td>\n",
              "      <td>0.20</td>\n",
              "      <td>1</td>\n",
              "    </tr>\n",
              "    <tr>\n",
              "      <th>17963</th>\n",
              "      <td>focus</td>\n",
              "      <td>2015</td>\n",
              "      <td>9999</td>\n",
              "      <td>manual</td>\n",
              "      <td>7010</td>\n",
              "      <td>diesel</td>\n",
              "      <td>0.034483</td>\n",
              "      <td>67.3</td>\n",
              "      <td>0.32</td>\n",
              "      <td>1</td>\n",
              "    </tr>\n",
              "    <tr>\n",
              "      <th>17964</th>\n",
              "      <td>ka</td>\n",
              "      <td>2018</td>\n",
              "      <td>8299</td>\n",
              "      <td>manual</td>\n",
              "      <td>5007</td>\n",
              "      <td>petrol</td>\n",
              "      <td>0.250000</td>\n",
              "      <td>57.7</td>\n",
              "      <td>0.24</td>\n",
              "      <td>0</td>\n",
              "    </tr>\n",
              "    <tr>\n",
              "      <th>17965</th>\n",
              "      <td>focus</td>\n",
              "      <td>2015</td>\n",
              "      <td>8299</td>\n",
              "      <td>manual</td>\n",
              "      <td>5007</td>\n",
              "      <td>petrol</td>\n",
              "      <td>0.037931</td>\n",
              "      <td>57.7</td>\n",
              "      <td>0.20</td>\n",
              "      <td>1</td>\n",
              "    </tr>\n",
              "  </tbody>\n",
              "</table>\n",
              "<p>17559 rows × 10 columns</p>\n",
              "</div>\n",
              "      <button class=\"colab-df-convert\" onclick=\"convertToInteractive('df-b9952c74-9401-46cb-8166-d4bbc6c6af42')\"\n",
              "              title=\"Convert this dataframe to an interactive table.\"\n",
              "              style=\"display:none;\">\n",
              "        \n",
              "  <svg xmlns=\"http://www.w3.org/2000/svg\" height=\"24px\"viewBox=\"0 0 24 24\"\n",
              "       width=\"24px\">\n",
              "    <path d=\"M0 0h24v24H0V0z\" fill=\"none\"/>\n",
              "    <path d=\"M18.56 5.44l.94 2.06.94-2.06 2.06-.94-2.06-.94-.94-2.06-.94 2.06-2.06.94zm-11 1L8.5 8.5l.94-2.06 2.06-.94-2.06-.94L8.5 2.5l-.94 2.06-2.06.94zm10 10l.94 2.06.94-2.06 2.06-.94-2.06-.94-.94-2.06-.94 2.06-2.06.94z\"/><path d=\"M17.41 7.96l-1.37-1.37c-.4-.4-.92-.59-1.43-.59-.52 0-1.04.2-1.43.59L10.3 9.45l-7.72 7.72c-.78.78-.78 2.05 0 2.83L4 21.41c.39.39.9.59 1.41.59.51 0 1.02-.2 1.41-.59l7.78-7.78 2.81-2.81c.8-.78.8-2.07 0-2.86zM5.41 20L4 18.59l7.72-7.72 1.47 1.35L5.41 20z\"/>\n",
              "  </svg>\n",
              "      </button>\n",
              "      \n",
              "  <style>\n",
              "    .colab-df-container {\n",
              "      display:flex;\n",
              "      flex-wrap:wrap;\n",
              "      gap: 12px;\n",
              "    }\n",
              "\n",
              "    .colab-df-convert {\n",
              "      background-color: #E8F0FE;\n",
              "      border: none;\n",
              "      border-radius: 50%;\n",
              "      cursor: pointer;\n",
              "      display: none;\n",
              "      fill: #1967D2;\n",
              "      height: 32px;\n",
              "      padding: 0 0 0 0;\n",
              "      width: 32px;\n",
              "    }\n",
              "\n",
              "    .colab-df-convert:hover {\n",
              "      background-color: #E2EBFA;\n",
              "      box-shadow: 0px 1px 2px rgba(60, 64, 67, 0.3), 0px 1px 3px 1px rgba(60, 64, 67, 0.15);\n",
              "      fill: #174EA6;\n",
              "    }\n",
              "\n",
              "    [theme=dark] .colab-df-convert {\n",
              "      background-color: #3B4455;\n",
              "      fill: #D2E3FC;\n",
              "    }\n",
              "\n",
              "    [theme=dark] .colab-df-convert:hover {\n",
              "      background-color: #434B5C;\n",
              "      box-shadow: 0px 1px 3px 1px rgba(0, 0, 0, 0.15);\n",
              "      filter: drop-shadow(0px 1px 2px rgba(0, 0, 0, 0.3));\n",
              "      fill: #FFFFFF;\n",
              "    }\n",
              "  </style>\n",
              "\n",
              "      <script>\n",
              "        const buttonEl =\n",
              "          document.querySelector('#df-b9952c74-9401-46cb-8166-d4bbc6c6af42 button.colab-df-convert');\n",
              "        buttonEl.style.display =\n",
              "          google.colab.kernel.accessAllowed ? 'block' : 'none';\n",
              "\n",
              "        async function convertToInteractive(key) {\n",
              "          const element = document.querySelector('#df-b9952c74-9401-46cb-8166-d4bbc6c6af42');\n",
              "          const dataTable =\n",
              "            await google.colab.kernel.invokeFunction('convertToInteractive',\n",
              "                                                     [key], {});\n",
              "          if (!dataTable) return;\n",
              "\n",
              "          const docLinkHtml = 'Like what you see? Visit the ' +\n",
              "            '<a target=\"_blank\" href=https://colab.research.google.com/notebooks/data_table.ipynb>data table notebook</a>'\n",
              "            + ' to learn more about interactive tables.';\n",
              "          element.innerHTML = '';\n",
              "          dataTable['output_type'] = 'display_data';\n",
              "          await google.colab.output.renderOutput(dataTable, element);\n",
              "          const docLink = document.createElement('div');\n",
              "          docLink.innerHTML = docLinkHtml;\n",
              "          element.appendChild(docLink);\n",
              "        }\n",
              "      </script>\n",
              "    </div>\n",
              "  </div>\n",
              "  "
            ]
          },
          "metadata": {},
          "execution_count": 29
        }
      ],
      "source": [
        "scaler=MinMaxScaler()\n",
        "scaler.fit(df[['tax']])\n",
        "df['tax']=scaler.transform(df[['tax']])\n",
        "scaler.fit(df[['enginesize']])\n",
        "df.enginesize=scaler.transform(df[['enginesize']])\n",
        "df"
      ]
    },
    {
      "cell_type": "code",
      "execution_count": 30,
      "metadata": {
        "colab": {
          "base_uri": "https://localhost:8080/"
        },
        "id": "xc7M1tv8x27d",
        "outputId": "5211a8fc-a044-462a-b523-275806702fdc"
      },
      "outputs": [
        {
          "output_type": "execute_result",
          "data": {
            "text/plain": [
              "array([0, 0, 0, ..., 1, 0, 1], dtype=int32)"
            ]
          },
          "metadata": {},
          "execution_count": 30
        }
      ],
      "source": [
        "km=KMeans(n_clusters=3)\n",
        "y_predicted=km.fit_predict(df[['tax','enginesize']])\n",
        "y_predicted"
      ]
    },
    {
      "cell_type": "code",
      "execution_count": 31,
      "metadata": {
        "colab": {
          "base_uri": "https://localhost:8080/",
          "height": 424
        },
        "id": "ZymnT1h0yFNs",
        "outputId": "e5e59ed9-0ef3-4b3a-ca66-7d7327272992"
      },
      "outputs": [
        {
          "output_type": "execute_result",
          "data": {
            "text/plain": [
              "        model  year  price transmission  mileage fueltype       tax   mpg  \\\n",
              "0      fiesta  2017  12000    automatic    15944   petrol  0.258621  57.7   \n",
              "1       focus  2018  14000       manual     9083   petrol  0.258621  57.7   \n",
              "2       focus  2017  13000       manual    12456   petrol  0.258621  57.7   \n",
              "3      fiesta  2019  17500       manual    10460   petrol  0.250000  40.3   \n",
              "4      fiesta  2019  16500    automatic     1482   petrol  0.250000  48.7   \n",
              "...       ...   ...    ...          ...      ...      ...       ...   ...   \n",
              "17961   b-max  2017   8999       manual    16700   petrol  0.258621  47.1   \n",
              "17962   b-max  2014   7499       manual    40700   petrol  0.051724  57.7   \n",
              "17963   focus  2015   9999       manual     7010   diesel  0.034483  67.3   \n",
              "17964      ka  2018   8299       manual     5007   petrol  0.250000  57.7   \n",
              "17965   focus  2015   8299       manual     5007   petrol  0.037931  57.7   \n",
              "\n",
              "       enginesize  cluster  \n",
              "0            0.20        0  \n",
              "1            0.20        0  \n",
              "2            0.20        0  \n",
              "3            0.30        2  \n",
              "4            0.20        0  \n",
              "...           ...      ...  \n",
              "17961        0.28        0  \n",
              "17962        0.20        1  \n",
              "17963        0.32        1  \n",
              "17964        0.24        0  \n",
              "17965        0.20        1  \n",
              "\n",
              "[17559 rows x 10 columns]"
            ],
            "text/html": [
              "\n",
              "  <div id=\"df-8ecd4e97-3ea1-4f12-8e4e-a34519b0d36e\">\n",
              "    <div class=\"colab-df-container\">\n",
              "      <div>\n",
              "<style scoped>\n",
              "    .dataframe tbody tr th:only-of-type {\n",
              "        vertical-align: middle;\n",
              "    }\n",
              "\n",
              "    .dataframe tbody tr th {\n",
              "        vertical-align: top;\n",
              "    }\n",
              "\n",
              "    .dataframe thead th {\n",
              "        text-align: right;\n",
              "    }\n",
              "</style>\n",
              "<table border=\"1\" class=\"dataframe\">\n",
              "  <thead>\n",
              "    <tr style=\"text-align: right;\">\n",
              "      <th></th>\n",
              "      <th>model</th>\n",
              "      <th>year</th>\n",
              "      <th>price</th>\n",
              "      <th>transmission</th>\n",
              "      <th>mileage</th>\n",
              "      <th>fueltype</th>\n",
              "      <th>tax</th>\n",
              "      <th>mpg</th>\n",
              "      <th>enginesize</th>\n",
              "      <th>cluster</th>\n",
              "    </tr>\n",
              "  </thead>\n",
              "  <tbody>\n",
              "    <tr>\n",
              "      <th>0</th>\n",
              "      <td>fiesta</td>\n",
              "      <td>2017</td>\n",
              "      <td>12000</td>\n",
              "      <td>automatic</td>\n",
              "      <td>15944</td>\n",
              "      <td>petrol</td>\n",
              "      <td>0.258621</td>\n",
              "      <td>57.7</td>\n",
              "      <td>0.20</td>\n",
              "      <td>0</td>\n",
              "    </tr>\n",
              "    <tr>\n",
              "      <th>1</th>\n",
              "      <td>focus</td>\n",
              "      <td>2018</td>\n",
              "      <td>14000</td>\n",
              "      <td>manual</td>\n",
              "      <td>9083</td>\n",
              "      <td>petrol</td>\n",
              "      <td>0.258621</td>\n",
              "      <td>57.7</td>\n",
              "      <td>0.20</td>\n",
              "      <td>0</td>\n",
              "    </tr>\n",
              "    <tr>\n",
              "      <th>2</th>\n",
              "      <td>focus</td>\n",
              "      <td>2017</td>\n",
              "      <td>13000</td>\n",
              "      <td>manual</td>\n",
              "      <td>12456</td>\n",
              "      <td>petrol</td>\n",
              "      <td>0.258621</td>\n",
              "      <td>57.7</td>\n",
              "      <td>0.20</td>\n",
              "      <td>0</td>\n",
              "    </tr>\n",
              "    <tr>\n",
              "      <th>3</th>\n",
              "      <td>fiesta</td>\n",
              "      <td>2019</td>\n",
              "      <td>17500</td>\n",
              "      <td>manual</td>\n",
              "      <td>10460</td>\n",
              "      <td>petrol</td>\n",
              "      <td>0.250000</td>\n",
              "      <td>40.3</td>\n",
              "      <td>0.30</td>\n",
              "      <td>2</td>\n",
              "    </tr>\n",
              "    <tr>\n",
              "      <th>4</th>\n",
              "      <td>fiesta</td>\n",
              "      <td>2019</td>\n",
              "      <td>16500</td>\n",
              "      <td>automatic</td>\n",
              "      <td>1482</td>\n",
              "      <td>petrol</td>\n",
              "      <td>0.250000</td>\n",
              "      <td>48.7</td>\n",
              "      <td>0.20</td>\n",
              "      <td>0</td>\n",
              "    </tr>\n",
              "    <tr>\n",
              "      <th>...</th>\n",
              "      <td>...</td>\n",
              "      <td>...</td>\n",
              "      <td>...</td>\n",
              "      <td>...</td>\n",
              "      <td>...</td>\n",
              "      <td>...</td>\n",
              "      <td>...</td>\n",
              "      <td>...</td>\n",
              "      <td>...</td>\n",
              "      <td>...</td>\n",
              "    </tr>\n",
              "    <tr>\n",
              "      <th>17961</th>\n",
              "      <td>b-max</td>\n",
              "      <td>2017</td>\n",
              "      <td>8999</td>\n",
              "      <td>manual</td>\n",
              "      <td>16700</td>\n",
              "      <td>petrol</td>\n",
              "      <td>0.258621</td>\n",
              "      <td>47.1</td>\n",
              "      <td>0.28</td>\n",
              "      <td>0</td>\n",
              "    </tr>\n",
              "    <tr>\n",
              "      <th>17962</th>\n",
              "      <td>b-max</td>\n",
              "      <td>2014</td>\n",
              "      <td>7499</td>\n",
              "      <td>manual</td>\n",
              "      <td>40700</td>\n",
              "      <td>petrol</td>\n",
              "      <td>0.051724</td>\n",
              "      <td>57.7</td>\n",
              "      <td>0.20</td>\n",
              "      <td>1</td>\n",
              "    </tr>\n",
              "    <tr>\n",
              "      <th>17963</th>\n",
              "      <td>focus</td>\n",
              "      <td>2015</td>\n",
              "      <td>9999</td>\n",
              "      <td>manual</td>\n",
              "      <td>7010</td>\n",
              "      <td>diesel</td>\n",
              "      <td>0.034483</td>\n",
              "      <td>67.3</td>\n",
              "      <td>0.32</td>\n",
              "      <td>1</td>\n",
              "    </tr>\n",
              "    <tr>\n",
              "      <th>17964</th>\n",
              "      <td>ka</td>\n",
              "      <td>2018</td>\n",
              "      <td>8299</td>\n",
              "      <td>manual</td>\n",
              "      <td>5007</td>\n",
              "      <td>petrol</td>\n",
              "      <td>0.250000</td>\n",
              "      <td>57.7</td>\n",
              "      <td>0.24</td>\n",
              "      <td>0</td>\n",
              "    </tr>\n",
              "    <tr>\n",
              "      <th>17965</th>\n",
              "      <td>focus</td>\n",
              "      <td>2015</td>\n",
              "      <td>8299</td>\n",
              "      <td>manual</td>\n",
              "      <td>5007</td>\n",
              "      <td>petrol</td>\n",
              "      <td>0.037931</td>\n",
              "      <td>57.7</td>\n",
              "      <td>0.20</td>\n",
              "      <td>1</td>\n",
              "    </tr>\n",
              "  </tbody>\n",
              "</table>\n",
              "<p>17559 rows × 10 columns</p>\n",
              "</div>\n",
              "      <button class=\"colab-df-convert\" onclick=\"convertToInteractive('df-8ecd4e97-3ea1-4f12-8e4e-a34519b0d36e')\"\n",
              "              title=\"Convert this dataframe to an interactive table.\"\n",
              "              style=\"display:none;\">\n",
              "        \n",
              "  <svg xmlns=\"http://www.w3.org/2000/svg\" height=\"24px\"viewBox=\"0 0 24 24\"\n",
              "       width=\"24px\">\n",
              "    <path d=\"M0 0h24v24H0V0z\" fill=\"none\"/>\n",
              "    <path d=\"M18.56 5.44l.94 2.06.94-2.06 2.06-.94-2.06-.94-.94-2.06-.94 2.06-2.06.94zm-11 1L8.5 8.5l.94-2.06 2.06-.94-2.06-.94L8.5 2.5l-.94 2.06-2.06.94zm10 10l.94 2.06.94-2.06 2.06-.94-2.06-.94-.94-2.06-.94 2.06-2.06.94z\"/><path d=\"M17.41 7.96l-1.37-1.37c-.4-.4-.92-.59-1.43-.59-.52 0-1.04.2-1.43.59L10.3 9.45l-7.72 7.72c-.78.78-.78 2.05 0 2.83L4 21.41c.39.39.9.59 1.41.59.51 0 1.02-.2 1.41-.59l7.78-7.78 2.81-2.81c.8-.78.8-2.07 0-2.86zM5.41 20L4 18.59l7.72-7.72 1.47 1.35L5.41 20z\"/>\n",
              "  </svg>\n",
              "      </button>\n",
              "      \n",
              "  <style>\n",
              "    .colab-df-container {\n",
              "      display:flex;\n",
              "      flex-wrap:wrap;\n",
              "      gap: 12px;\n",
              "    }\n",
              "\n",
              "    .colab-df-convert {\n",
              "      background-color: #E8F0FE;\n",
              "      border: none;\n",
              "      border-radius: 50%;\n",
              "      cursor: pointer;\n",
              "      display: none;\n",
              "      fill: #1967D2;\n",
              "      height: 32px;\n",
              "      padding: 0 0 0 0;\n",
              "      width: 32px;\n",
              "    }\n",
              "\n",
              "    .colab-df-convert:hover {\n",
              "      background-color: #E2EBFA;\n",
              "      box-shadow: 0px 1px 2px rgba(60, 64, 67, 0.3), 0px 1px 3px 1px rgba(60, 64, 67, 0.15);\n",
              "      fill: #174EA6;\n",
              "    }\n",
              "\n",
              "    [theme=dark] .colab-df-convert {\n",
              "      background-color: #3B4455;\n",
              "      fill: #D2E3FC;\n",
              "    }\n",
              "\n",
              "    [theme=dark] .colab-df-convert:hover {\n",
              "      background-color: #434B5C;\n",
              "      box-shadow: 0px 1px 3px 1px rgba(0, 0, 0, 0.15);\n",
              "      filter: drop-shadow(0px 1px 2px rgba(0, 0, 0, 0.3));\n",
              "      fill: #FFFFFF;\n",
              "    }\n",
              "  </style>\n",
              "\n",
              "      <script>\n",
              "        const buttonEl =\n",
              "          document.querySelector('#df-8ecd4e97-3ea1-4f12-8e4e-a34519b0d36e button.colab-df-convert');\n",
              "        buttonEl.style.display =\n",
              "          google.colab.kernel.accessAllowed ? 'block' : 'none';\n",
              "\n",
              "        async function convertToInteractive(key) {\n",
              "          const element = document.querySelector('#df-8ecd4e97-3ea1-4f12-8e4e-a34519b0d36e');\n",
              "          const dataTable =\n",
              "            await google.colab.kernel.invokeFunction('convertToInteractive',\n",
              "                                                     [key], {});\n",
              "          if (!dataTable) return;\n",
              "\n",
              "          const docLinkHtml = 'Like what you see? Visit the ' +\n",
              "            '<a target=\"_blank\" href=https://colab.research.google.com/notebooks/data_table.ipynb>data table notebook</a>'\n",
              "            + ' to learn more about interactive tables.';\n",
              "          element.innerHTML = '';\n",
              "          dataTable['output_type'] = 'display_data';\n",
              "          await google.colab.output.renderOutput(dataTable, element);\n",
              "          const docLink = document.createElement('div');\n",
              "          docLink.innerHTML = docLinkHtml;\n",
              "          element.appendChild(docLink);\n",
              "        }\n",
              "      </script>\n",
              "    </div>\n",
              "  </div>\n",
              "  "
            ]
          },
          "metadata": {},
          "execution_count": 31
        }
      ],
      "source": [
        "df['cluster']=y_predicted\n",
        "# df.drop('cluter',axis='columns',inplace=True)\n",
        "df"
      ]
    },
    {
      "cell_type": "code",
      "source": [],
      "metadata": {
        "id": "6cGP5aZjg5CJ"
      },
      "execution_count": 31,
      "outputs": []
    },
    {
      "cell_type": "code",
      "execution_count": 32,
      "metadata": {
        "id": "fx8jIk1E2a3V"
      },
      "outputs": [],
      "source": [
        "#на графике выше были явно видны выбросы, поэтому я решил их убрать\n",
        "df=df[(df.tax<0.8) & (df.enginesize<0.8)]\n",
        "# df=df[(df.tax<0) & (df.enginesize==0)]"
      ]
    },
    {
      "cell_type": "code",
      "source": [
        "km.cluster_centers_"
      ],
      "metadata": {
        "colab": {
          "base_uri": "https://localhost:8080/"
        },
        "id": "zvCElfy5drPk",
        "outputId": "f38268fc-d514-43c7-95cc-49ef0294e215"
      },
      "execution_count": 33,
      "outputs": [
        {
          "output_type": "execute_result",
          "data": {
            "text/plain": [
              "array([[0.24770331, 0.20780427],\n",
              "       [0.02296407, 0.25294608],\n",
              "       [0.2635246 , 0.36034684]])"
            ]
          },
          "metadata": {},
          "execution_count": 33
        }
      ]
    },
    {
      "cell_type": "code",
      "execution_count": 34,
      "metadata": {
        "colab": {
          "base_uri": "https://localhost:8080/",
          "height": 517
        },
        "id": "j017ZaUTyl9v",
        "outputId": "f0b0be86-4f7e-4d39-d41c-951c5aefd3bd"
      },
      "outputs": [
        {
          "output_type": "execute_result",
          "data": {
            "text/plain": [
              "<matplotlib.legend.Legend at 0x7f8aa1bb21d0>"
            ]
          },
          "metadata": {},
          "execution_count": 34
        },
        {
          "output_type": "display_data",
          "data": {
            "text/plain": [
              "<Figure size 864x576 with 1 Axes>"
            ],
            "image/png": "[encoded data removed]"
          },
          "metadata": {
            "needs_background": "light"
          }
        }
      ],
      "source": [
        "df1=df[df.cluster==0]\n",
        "df2=df[df.cluster==1]\n",
        "df3=df[df.cluster==2]\n",
        "\n",
        "plt.scatter(df1.tax,df1.enginesize,color='green')\n",
        "plt.scatter(df2.tax,df2.enginesize,color='red')\n",
        "plt.scatter(df3.tax,df3.enginesize,color='purple')\n",
        "\n",
        "# plt.scatter(km.cluster_centres_[:,0],km.cluster_centers_[:,1],color='purple',maker='*',label='центроид')\n",
        "plt.xlabel('налог')\n",
        "plt.ylabel('объем двигаетеля')\n",
        "plt.scatter(km.cluster_centers_[:,0],km.cluster_centers_[:,1],color='black',marker='*',label='центроид')\n",
        "plt.legend()"
      ]
    },
    {
      "cell_type": "code",
      "execution_count": 35,
      "metadata": {
        "id": "BjBYvkaez-Jo"
      },
      "outputs": [],
      "source": [
        "k_rng=range(1,10)\n",
        "sse=[]\n",
        "for k in k_rng:\n",
        "  km=KMeans(n_clusters=k)\n",
        "  km.fit(df[['tax','enginesize']])\n",
        "  sse.append(km.inertia_)"
      ]
    },
    {
      "cell_type": "code",
      "execution_count": 36,
      "metadata": {
        "colab": {
          "base_uri": "https://localhost:8080/"
        },
        "id": "3MC4USDn0fxC",
        "outputId": "aca0fe4f-cc6b-458a-efc9-33d46134f03c"
      },
      "outputs": [
        {
          "output_type": "execute_result",
          "data": {
            "text/plain": [
              "[302.59900809430326,\n",
              " 120.81895353611444,\n",
              " 49.684075442451025,\n",
              " 35.800893762334226,\n",
              " 21.961322415591052,\n",
              " 14.26998176195433,\n",
              " 12.61805826047099,\n",
              " 10.199967780541398,\n",
              " 8.844057847175215]"
            ]
          },
          "metadata": {},
          "execution_count": 36
        }
      ],
      "source": [
        "sse"
      ]
    },
    {
      "cell_type": "code",
      "execution_count": 37,
      "metadata": {
        "colab": {
          "base_uri": "https://localhost:8080/",
          "height": 534
        },
        "id": "uwgqfVky0iQ9",
        "outputId": "dd9ea060-cf16-47b6-ffbb-3d494e3d2d69"
      },
      "outputs": [
        {
          "output_type": "execute_result",
          "data": {
            "text/plain": [
              "[<matplotlib.lines.Line2D at 0x7f8aa1ae1f90>]"
            ]
          },
          "metadata": {},
          "execution_count": 37
        },
        {
          "output_type": "display_data",
          "data": {
            "text/plain": [
              "<Figure size 864x576 with 1 Axes>"
            ],
            "image/png": "[encoded data removed]"
          },
          "metadata": {
            "needs_background": "light"
          }
        }
      ],
      "source": [
        "#поздно, конечно, показал, на методе локтя, сколько надо брать кластеров, но я угадал.\n",
        "#на графике видно, что надо было брать 3 кластера\n",
        "plt.xlabel('K')\n",
        "plt.ylabel('Sum of squared error')\n",
        "plt.title('Elbow plot')\n",
        "plt.plot(k_rng,sse)"
      ]
    },
    {
      "cell_type": "code",
      "source": [
        "df"
      ],
      "metadata": {
        "colab": {
          "base_uri": "https://localhost:8080/",
          "height": 424
        },
        "id": "wY7zw8tv3m8l",
        "outputId": "84c85867-b6b8-4d2e-bb4e-5745030c068c"
      },
      "execution_count": 38,
      "outputs": [
        {
          "output_type": "execute_result",
          "data": {
            "text/plain": [
              "        model  year  price transmission  mileage fueltype       tax   mpg  \\\n",
              "0      fiesta  2017  12000    automatic    15944   petrol  0.258621  57.7   \n",
              "1       focus  2018  14000       manual     9083   petrol  0.258621  57.7   \n",
              "2       focus  2017  13000       manual    12456   petrol  0.258621  57.7   \n",
              "3      fiesta  2019  17500       manual    10460   petrol  0.250000  40.3   \n",
              "4      fiesta  2019  16500    automatic     1482   petrol  0.250000  48.7   \n",
              "...       ...   ...    ...          ...      ...      ...       ...   ...   \n",
              "17961   b-max  2017   8999       manual    16700   petrol  0.258621  47.1   \n",
              "17962   b-max  2014   7499       manual    40700   petrol  0.051724  57.7   \n",
              "17963   focus  2015   9999       manual     7010   diesel  0.034483  67.3   \n",
              "17964      ka  2018   8299       manual     5007   petrol  0.250000  57.7   \n",
              "17965   focus  2015   8299       manual     5007   petrol  0.037931  57.7   \n",
              "\n",
              "       enginesize  cluster  \n",
              "0            0.20        0  \n",
              "1            0.20        0  \n",
              "2            0.20        0  \n",
              "3            0.30        2  \n",
              "4            0.20        0  \n",
              "...           ...      ...  \n",
              "17961        0.28        0  \n",
              "17962        0.20        1  \n",
              "17963        0.32        1  \n",
              "17964        0.24        0  \n",
              "17965        0.20        1  \n",
              "\n",
              "[17518 rows x 10 columns]"
            ],
            "text/html": [
              "\n",
              "  <div id=\"df-42b6e84a-239d-454b-983e-812529c569cc\">\n",
              "    <div class=\"colab-df-container\">\n",
              "      <div>\n",
              "<style scoped>\n",
              "    .dataframe tbody tr th:only-of-type {\n",
              "        vertical-align: middle;\n",
              "    }\n",
              "\n",
              "    .dataframe tbody tr th {\n",
              "        vertical-align: top;\n",
              "    }\n",
              "\n",
              "    .dataframe thead th {\n",
              "        text-align: right;\n",
              "    }\n",
              "</style>\n",
              "<table border=\"1\" class=\"dataframe\">\n",
              "  <thead>\n",
              "    <tr style=\"text-align: right;\">\n",
              "      <th></th>\n",
              "      <th>model</th>\n",
              "      <th>year</th>\n",
              "      <th>price</th>\n",
              "      <th>transmission</th>\n",
              "      <th>mileage</th>\n",
              "      <th>fueltype</th>\n",
              "      <th>tax</th>\n",
              "      <th>mpg</th>\n",
              "      <th>enginesize</th>\n",
              "      <th>cluster</th>\n",
              "    </tr>\n",
              "  </thead>\n",
              "  <tbody>\n",
              "    <tr>\n",
              "      <th>0</th>\n",
              "      <td>fiesta</td>\n",
              "      <td>2017</td>\n",
              "      <td>12000</td>\n",
              "      <td>automatic</td>\n",
              "      <td>15944</td>\n",
              "      <td>petrol</td>\n",
              "      <td>0.258621</td>\n",
              "      <td>57.7</td>\n",
              "      <td>0.20</td>\n",
              "      <td>0</td>\n",
              "    </tr>\n",
              "    <tr>\n",
              "      <th>1</th>\n",
              "      <td>focus</td>\n",
              "      <td>2018</td>\n",
              "      <td>14000</td>\n",
              "      <td>manual</td>\n",
              "      <td>9083</td>\n",
              "      <td>petrol</td>\n",
              "      <td>0.258621</td>\n",
              "      <td>57.7</td>\n",
              "      <td>0.20</td>\n",
              "      <td>0</td>\n",
              "    </tr>\n",
              "    <tr>\n",
              "      <th>2</th>\n",
              "      <td>focus</td>\n",
              "      <td>2017</td>\n",
              "      <td>13000</td>\n",
              "      <td>manual</td>\n",
              "      <td>12456</td>\n",
              "      <td>petrol</td>\n",
              "      <td>0.258621</td>\n",
              "      <td>57.7</td>\n",
              "      <td>0.20</td>\n",
              "      <td>0</td>\n",
              "    </tr>\n",
              "    <tr>\n",
              "      <th>3</th>\n",
              "      <td>fiesta</td>\n",
              "      <td>2019</td>\n",
              "      <td>17500</td>\n",
              "      <td>manual</td>\n",
              "      <td>10460</td>\n",
              "      <td>petrol</td>\n",
              "      <td>0.250000</td>\n",
              "      <td>40.3</td>\n",
              "      <td>0.30</td>\n",
              "      <td>2</td>\n",
              "    </tr>\n",
              "    <tr>\n",
              "      <th>4</th>\n",
              "      <td>fiesta</td>\n",
              "      <td>2019</td>\n",
              "      <td>16500</td>\n",
              "      <td>automatic</td>\n",
              "      <td>1482</td>\n",
              "      <td>petrol</td>\n",
              "      <td>0.250000</td>\n",
              "      <td>48.7</td>\n",
              "      <td>0.20</td>\n",
              "      <td>0</td>\n",
              "    </tr>\n",
              "    <tr>\n",
              "      <th>...</th>\n",
              "      <td>...</td>\n",
              "      <td>...</td>\n",
              "      <td>...</td>\n",
              "      <td>...</td>\n",
              "      <td>...</td>\n",
              "      <td>...</td>\n",
              "      <td>...</td>\n",
              "      <td>...</td>\n",
              "      <td>...</td>\n",
              "      <td>...</td>\n",
              "    </tr>\n",
              "    <tr>\n",
              "      <th>17961</th>\n",
              "      <td>b-max</td>\n",
              "      <td>2017</td>\n",
              "      <td>8999</td>\n",
              "      <td>manual</td>\n",
              "      <td>16700</td>\n",
              "      <td>petrol</td>\n",
              "      <td>0.258621</td>\n",
              "      <td>47.1</td>\n",
              "      <td>0.28</td>\n",
              "      <td>0</td>\n",
              "    </tr>\n",
              "    <tr>\n",
              "      <th>17962</th>\n",
              "      <td>b-max</td>\n",
              "      <td>2014</td>\n",
              "      <td>7499</td>\n",
              "      <td>manual</td>\n",
              "      <td>40700</td>\n",
              "      <td>petrol</td>\n",
              "      <td>0.051724</td>\n",
              "      <td>57.7</td>\n",
              "      <td>0.20</td>\n",
              "      <td>1</td>\n",
              "    </tr>\n",
              "    <tr>\n",
              "      <th>17963</th>\n",
              "      <td>focus</td>\n",
              "      <td>2015</td>\n",
              "      <td>9999</td>\n",
              "      <td>manual</td>\n",
              "      <td>7010</td>\n",
              "      <td>diesel</td>\n",
              "      <td>0.034483</td>\n",
              "      <td>67.3</td>\n",
              "      <td>0.32</td>\n",
              "      <td>1</td>\n",
              "    </tr>\n",
              "    <tr>\n",
              "      <th>17964</th>\n",
              "      <td>ka</td>\n",
              "      <td>2018</td>\n",
              "      <td>8299</td>\n",
              "      <td>manual</td>\n",
              "      <td>5007</td>\n",
              "      <td>petrol</td>\n",
              "      <td>0.250000</td>\n",
              "      <td>57.7</td>\n",
              "      <td>0.24</td>\n",
              "      <td>0</td>\n",
              "    </tr>\n",
              "    <tr>\n",
              "      <th>17965</th>\n",
              "      <td>focus</td>\n",
              "      <td>2015</td>\n",
              "      <td>8299</td>\n",
              "      <td>manual</td>\n",
              "      <td>5007</td>\n",
              "      <td>petrol</td>\n",
              "      <td>0.037931</td>\n",
              "      <td>57.7</td>\n",
              "      <td>0.20</td>\n",
              "      <td>1</td>\n",
              "    </tr>\n",
              "  </tbody>\n",
              "</table>\n",
              "<p>17518 rows × 10 columns</p>\n",
              "</div>\n",
              "      <button class=\"colab-df-convert\" onclick=\"convertToInteractive('df-42b6e84a-239d-454b-983e-812529c569cc')\"\n",
              "              title=\"Convert this dataframe to an interactive table.\"\n",
              "              style=\"display:none;\">\n",
              "        \n",
              "  <svg xmlns=\"http://www.w3.org/2000/svg\" height=\"24px\"viewBox=\"0 0 24 24\"\n",
              "       width=\"24px\">\n",
              "    <path d=\"M0 0h24v24H0V0z\" fill=\"none\"/>\n",
              "    <path d=\"M18.56 5.44l.94 2.06.94-2.06 2.06-.94-2.06-.94-.94-2.06-.94 2.06-2.06.94zm-11 1L8.5 8.5l.94-2.06 2.06-.94-2.06-.94L8.5 2.5l-.94 2.06-2.06.94zm10 10l.94 2.06.94-2.06 2.06-.94-2.06-.94-.94-2.06-.94 2.06-2.06.94z\"/><path d=\"M17.41 7.96l-1.37-1.37c-.4-.4-.92-.59-1.43-.59-.52 0-1.04.2-1.43.59L10.3 9.45l-7.72 7.72c-.78.78-.78 2.05 0 2.83L4 21.41c.39.39.9.59 1.41.59.51 0 1.02-.2 1.41-.59l7.78-7.78 2.81-2.81c.8-.78.8-2.07 0-2.86zM5.41 20L4 18.59l7.72-7.72 1.47 1.35L5.41 20z\"/>\n",
              "  </svg>\n",
              "      </button>\n",
              "      \n",
              "  <style>\n",
              "    .colab-df-container {\n",
              "      display:flex;\n",
              "      flex-wrap:wrap;\n",
              "      gap: 12px;\n",
              "    }\n",
              "\n",
              "    .colab-df-convert {\n",
              "      background-color: #E8F0FE;\n",
              "      border: none;\n",
              "      border-radius: 50%;\n",
              "      cursor: pointer;\n",
              "      display: none;\n",
              "      fill: #1967D2;\n",
              "      height: 32px;\n",
              "      padding: 0 0 0 0;\n",
              "      width: 32px;\n",
              "    }\n",
              "\n",
              "    .colab-df-convert:hover {\n",
              "      background-color: #E2EBFA;\n",
              "      box-shadow: 0px 1px 2px rgba(60, 64, 67, 0.3), 0px 1px 3px 1px rgba(60, 64, 67, 0.15);\n",
              "      fill: #174EA6;\n",
              "    }\n",
              "\n",
              "    [theme=dark] .colab-df-convert {\n",
              "      background-color: #3B4455;\n",
              "      fill: #D2E3FC;\n",
              "    }\n",
              "\n",
              "    [theme=dark] .colab-df-convert:hover {\n",
              "      background-color: #434B5C;\n",
              "      box-shadow: 0px 1px 3px 1px rgba(0, 0, 0, 0.15);\n",
              "      filter: drop-shadow(0px 1px 2px rgba(0, 0, 0, 0.3));\n",
              "      fill: #FFFFFF;\n",
              "    }\n",
              "  </style>\n",
              "\n",
              "      <script>\n",
              "        const buttonEl =\n",
              "          document.querySelector('#df-42b6e84a-239d-454b-983e-812529c569cc button.colab-df-convert');\n",
              "        buttonEl.style.display =\n",
              "          google.colab.kernel.accessAllowed ? 'block' : 'none';\n",
              "\n",
              "        async function convertToInteractive(key) {\n",
              "          const element = document.querySelector('#df-42b6e84a-239d-454b-983e-812529c569cc');\n",
              "          const dataTable =\n",
              "            await google.colab.kernel.invokeFunction('convertToInteractive',\n",
              "                                                     [key], {});\n",
              "          if (!dataTable) return;\n",
              "\n",
              "          const docLinkHtml = 'Like what you see? Visit the ' +\n",
              "            '<a target=\"_blank\" href=https://colab.research.google.com/notebooks/data_table.ipynb>data table notebook</a>'\n",
              "            + ' to learn more about interactive tables.';\n",
              "          element.innerHTML = '';\n",
              "          dataTable['output_type'] = 'display_data';\n",
              "          await google.colab.output.renderOutput(dataTable, element);\n",
              "          const docLink = document.createElement('div');\n",
              "          docLink.innerHTML = docLinkHtml;\n",
              "          element.appendChild(docLink);\n",
              "        }\n",
              "      </script>\n",
              "    </div>\n",
              "  </div>\n",
              "  "
            ]
          },
          "metadata": {},
          "execution_count": 38
        }
      ]
    },
    {
      "cell_type": "code",
      "source": [],
      "metadata": {
        "id": "-h1c2rFv3IIt"
      },
      "execution_count": 39,
      "outputs": []
    },
    {
      "cell_type": "markdown",
      "source": [
        "## 8.DBSCAN"
      ],
      "metadata": {
        "id": "O0pH8OV8HAsJ"
      }
    },
    {
      "cell_type": "code",
      "source": [
        "df_dbscan=df.iloc[:,[6,8]].values\n",
        "df_dbscan"
      ],
      "metadata": {
        "id": "GonNv6mKerF0",
        "colab": {
          "base_uri": "https://localhost:8080/"
        },
        "outputId": "a017e019-34a1-4538-8955-45a7aa665026"
      },
      "execution_count": 40,
      "outputs": [
        {
          "output_type": "execute_result",
          "data": {
            "text/plain": [
              "array([[0.25862069, 0.2       ],\n",
              "       [0.25862069, 0.2       ],\n",
              "       [0.25862069, 0.2       ],\n",
              "       ...,\n",
              "       [0.03448276, 0.32      ],\n",
              "       [0.25      , 0.24      ],\n",
              "       [0.03793103, 0.2       ]])"
            ]
          },
          "metadata": {},
          "execution_count": 40
        }
      ]
    },
    {
      "cell_type": "code",
      "source": [
        "plt.scatter(df_dbscan[:,0],df_dbscan[:,1],s=10,c=\"black\")\n",
        "plt.show()"
      ],
      "metadata": {
        "colab": {
          "base_uri": "https://localhost:8080/",
          "height": 483
        },
        "id": "ilhpQUbGwE8L",
        "outputId": "66665542-fc30-4c0a-c292-ab3d08c8ec39"
      },
      "execution_count": 41,
      "outputs": [
        {
          "output_type": "display_data",
          "data": {
            "text/plain": [
              "<Figure size 864x576 with 1 Axes>"
            ],
            "image/png": "[encoded data removed]"
          },
          "metadata": {
            "needs_background": "light"
          }
        }
      ]
    },
    {
      "cell_type": "markdown",
      "source": [
        "### вычисление наилучшего эпсилона для dbscan"
      ],
      "metadata": {
        "id": "koRUMhckKVHo"
      }
    },
    {
      "cell_type": "code",
      "source": [
        "clustering=DBSCAN(eps=0.11,min_samples=2).fit(df_dbscan)\n",
        "\n",
        "clustering.labels_"
      ],
      "metadata": {
        "colab": {
          "base_uri": "https://localhost:8080/"
        },
        "id": "UWv5yJ6aEy6o",
        "outputId": "3fa61d92-1017-404b-a347-986396e0a09e"
      },
      "execution_count": 42,
      "outputs": [
        {
          "output_type": "execute_result",
          "data": {
            "text/plain": [
              "array([0, 0, 0, ..., 1, 0, 1])"
            ]
          },
          "metadata": {},
          "execution_count": 42
        }
      ]
    },
    {
      "cell_type": "code",
      "source": [
        "samples=[df['tax'],df['enginesize']]\n",
        "neigh=NearestNeighbors(n_neighbors=1)\n",
        "neigh.fit(samples)"
      ],
      "metadata": {
        "colab": {
          "base_uri": "https://localhost:8080/"
        },
        "id": "Vzc78GQDGJ75",
        "outputId": "d78eff16-22e1-406a-f14c-d63854bbfa13"
      },
      "execution_count": 43,
      "outputs": [
        {
          "output_type": "execute_result",
          "data": {
            "text/plain": [
              "NearestNeighbors(n_neighbors=1)"
            ]
          },
          "metadata": {},
          "execution_count": 43
        }
      ]
    },
    {
      "cell_type": "code",
      "source": [
        "neigh=NearestNeighbors(n_neighbors=2)\n",
        "nbrs=neigh.fit(df_dbscan)\n",
        "distances,indices=nbrs.kneighbors(df_dbscan)"
      ],
      "metadata": {
        "id": "MRfsm4klIvrk"
      },
      "execution_count": 44,
      "outputs": []
    },
    {
      "cell_type": "code",
      "source": [
        "distances=np.sort(distances,axis=0)\n",
        "print(distances)\n",
        "distances=distances[:,1]\n",
        "plt.plot(distances)"
      ],
      "metadata": {
        "colab": {
          "base_uri": "https://localhost:8080/",
          "height": 622
        },
        "id": "A4P7Of01JTx4",
        "outputId": "82cdb52a-ff7b-4e70-cef5-1a056be15d5a"
      },
      "execution_count": 45,
      "outputs": [
        {
          "output_type": "stream",
          "name": "stdout",
          "text": [
            "[[0.         0.        ]\n",
            " [0.         0.        ]\n",
            " [0.         0.        ]\n",
            " ...\n",
            " [0.         0.04      ]\n",
            " [0.         0.1       ]\n",
            " [0.         0.18020632]]\n"
          ]
        },
        {
          "output_type": "execute_result",
          "data": {
            "text/plain": [
              "[<matplotlib.lines.Line2D at 0x7f8a9f1670d0>]"
            ]
          },
          "metadata": {},
          "execution_count": 45
        },
        {
          "output_type": "display_data",
          "data": {
            "text/plain": [
              "<Figure size 864x576 with 1 Axes>"
            ],
            "image/png": "[encoded data removed]"
          },
          "metadata": {
            "needs_background": "light"
          }
        }
      ]
    },
    {
      "cell_type": "markdown",
      "source": [
        "на графике примерно видно(очень плохо видно :) ), что эпсилон должен быть чуть меньше чем 0.0125"
      ],
      "metadata": {
        "id": "kKfUYgCKKgEP"
      }
    },
    {
      "cell_type": "code",
      "source": [
        "clusters=clustering.labels_"
      ],
      "metadata": {
        "id": "N0bRNR-AJ3O8"
      },
      "execution_count": 46,
      "outputs": []
    },
    {
      "cell_type": "code",
      "source": [
        "silhouette_score(df_dbscan,clusters)"
      ],
      "metadata": {
        "id": "BvCjWiJmKECg",
        "colab": {
          "base_uri": "https://localhost:8080/"
        },
        "outputId": "22ab30a3-f15f-4570-ac37-4b79fbf9a176"
      },
      "execution_count": 47,
      "outputs": [
        {
          "output_type": "execute_result",
          "data": {
            "text/plain": [
              "0.6052955387081331"
            ]
          },
          "metadata": {},
          "execution_count": 47
        }
      ]
    },
    {
      "cell_type": "markdown",
      "source": [
        "Оценка довольно высока и подтверждает показатель на графике"
      ],
      "metadata": {
        "id": "pTmxWlULKpd1"
      }
    },
    {
      "cell_type": "code",
      "source": [
        "labels=clustering.fit_predict(df_dbscan)\n",
        "np.unique(labels)"
      ],
      "metadata": {
        "id": "CpDNgVyOuvRq",
        "colab": {
          "base_uri": "https://localhost:8080/"
        },
        "outputId": "f4eafd1b-8970-4f91-d9d1-3cfd738edbb4"
      },
      "execution_count": 48,
      "outputs": [
        {
          "output_type": "execute_result",
          "data": {
            "text/plain": [
              "array([-1,  0,  1,  2,  3])"
            ]
          },
          "metadata": {},
          "execution_count": 48
        }
      ]
    },
    {
      "cell_type": "code",
      "source": [
        "df_dbscan=np.array(df_dbscan)"
      ],
      "metadata": {
        "id": "17aB-CdzzCtd"
      },
      "execution_count": 49,
      "outputs": []
    },
    {
      "cell_type": "markdown",
      "source": [
        "Визуализация кластеров"
      ],
      "metadata": {
        "id": "l5PTI7-C0H8S"
      }
    },
    {
      "cell_type": "code",
      "source": [
        "plt.scatter(df_dbscan[labels==-1,0],df_dbscan[labels==-1,1],s=10,c='black')\n",
        "plt.scatter(df_dbscan[labels==0,0],df_dbscan[labels==0,1],s=10,c='blue')\n",
        "plt.scatter(df_dbscan[labels==1,0],df_dbscan[labels==1,1],s=10,c='red')\n",
        "plt.scatter(df_dbscan[labels==2,0],df_dbscan[labels==2,1],s=10,c='green')\n",
        "plt.scatter(df_dbscan[labels==3,0],df_dbscan[labels==3,1],s=10,c='pink')\n",
        "\n",
        "plt.xlabel('Налог')\n",
        "plt.ylabel('Объем двигателя')\n",
        "plt.show()"
      ],
      "metadata": {
        "id": "hC3H5cLixduM",
        "colab": {
          "base_uri": "https://localhost:8080/",
          "height": 500
        },
        "outputId": "e0a1134e-486b-428d-b840-42390fdcd21c"
      },
      "execution_count": 50,
      "outputs": [
        {
          "output_type": "display_data",
          "data": {
            "text/plain": [
              "<Figure size 864x576 with 1 Axes>"
            ],
            "image/png": "[encoded data removed]"
          },
          "metadata": {
            "needs_background": "light"
          }
        }
      ]
    },
    {
      "cell_type": "code",
      "source": [
        "df"
      ],
      "metadata": {
        "id": "rRNs8Z_u17my",
        "colab": {
          "base_uri": "https://localhost:8080/",
          "height": 424
        },
        "outputId": "18aaabc9-f0bc-4c37-9fc9-2b04c8192b90"
      },
      "execution_count": 51,
      "outputs": [
        {
          "output_type": "execute_result",
          "data": {
            "text/plain": [
              "        model  year  price transmission  mileage fueltype       tax   mpg  \\\n",
              "0      fiesta  2017  12000    automatic    15944   petrol  0.258621  57.7   \n",
              "1       focus  2018  14000       manual     9083   petrol  0.258621  57.7   \n",
              "2       focus  2017  13000       manual    12456   petrol  0.258621  57.7   \n",
              "3      fiesta  2019  17500       manual    10460   petrol  0.250000  40.3   \n",
              "4      fiesta  2019  16500    automatic     1482   petrol  0.250000  48.7   \n",
              "...       ...   ...    ...          ...      ...      ...       ...   ...   \n",
              "17961   b-max  2017   8999       manual    16700   petrol  0.258621  47.1   \n",
              "17962   b-max  2014   7499       manual    40700   petrol  0.051724  57.7   \n",
              "17963   focus  2015   9999       manual     7010   diesel  0.034483  67.3   \n",
              "17964      ka  2018   8299       manual     5007   petrol  0.250000  57.7   \n",
              "17965   focus  2015   8299       manual     5007   petrol  0.037931  57.7   \n",
              "\n",
              "       enginesize  cluster  \n",
              "0            0.20        0  \n",
              "1            0.20        0  \n",
              "2            0.20        0  \n",
              "3            0.30        2  \n",
              "4            0.20        0  \n",
              "...           ...      ...  \n",
              "17961        0.28        0  \n",
              "17962        0.20        1  \n",
              "17963        0.32        1  \n",
              "17964        0.24        0  \n",
              "17965        0.20        1  \n",
              "\n",
              "[17518 rows x 10 columns]"
            ],
            "text/html": [
              "\n",
              "  <div id=\"df-15a12c8d-c36e-46a1-9558-0c8e66c5ec2c\">\n",
              "    <div class=\"colab-df-container\">\n",
              "      <div>\n",
              "<style scoped>\n",
              "    .dataframe tbody tr th:only-of-type {\n",
              "        vertical-align: middle;\n",
              "    }\n",
              "\n",
              "    .dataframe tbody tr th {\n",
              "        vertical-align: top;\n",
              "    }\n",
              "\n",
              "    .dataframe thead th {\n",
              "        text-align: right;\n",
              "    }\n",
              "</style>\n",
              "<table border=\"1\" class=\"dataframe\">\n",
              "  <thead>\n",
              "    <tr style=\"text-align: right;\">\n",
              "      <th></th>\n",
              "      <th>model</th>\n",
              "      <th>year</th>\n",
              "      <th>price</th>\n",
              "      <th>transmission</th>\n",
              "      <th>mileage</th>\n",
              "      <th>fueltype</th>\n",
              "      <th>tax</th>\n",
              "      <th>mpg</th>\n",
              "      <th>enginesize</th>\n",
              "      <th>cluster</th>\n",
              "    </tr>\n",
              "  </thead>\n",
              "  <tbody>\n",
              "    <tr>\n",
              "      <th>0</th>\n",
              "      <td>fiesta</td>\n",
              "      <td>2017</td>\n",
              "      <td>12000</td>\n",
              "      <td>automatic</td>\n",
              "      <td>15944</td>\n",
              "      <td>petrol</td>\n",
              "      <td>0.258621</td>\n",
              "      <td>57.7</td>\n",
              "      <td>0.20</td>\n",
              "      <td>0</td>\n",
              "    </tr>\n",
              "    <tr>\n",
              "      <th>1</th>\n",
              "      <td>focus</td>\n",
              "      <td>2018</td>\n",
              "      <td>14000</td>\n",
              "      <td>manual</td>\n",
              "      <td>9083</td>\n",
              "      <td>petrol</td>\n",
              "      <td>0.258621</td>\n",
              "      <td>57.7</td>\n",
              "      <td>0.20</td>\n",
              "      <td>0</td>\n",
              "    </tr>\n",
              "    <tr>\n",
              "      <th>2</th>\n",
              "      <td>focus</td>\n",
              "      <td>2017</td>\n",
              "      <td>13000</td>\n",
              "      <td>manual</td>\n",
              "      <td>12456</td>\n",
              "      <td>petrol</td>\n",
              "      <td>0.258621</td>\n",
              "      <td>57.7</td>\n",
              "      <td>0.20</td>\n",
              "      <td>0</td>\n",
              "    </tr>\n",
              "    <tr>\n",
              "      <th>3</th>\n",
              "      <td>fiesta</td>\n",
              "      <td>2019</td>\n",
              "      <td>17500</td>\n",
              "      <td>manual</td>\n",
              "      <td>10460</td>\n",
              "      <td>petrol</td>\n",
              "      <td>0.250000</td>\n",
              "      <td>40.3</td>\n",
              "      <td>0.30</td>\n",
              "      <td>2</td>\n",
              "    </tr>\n",
              "    <tr>\n",
              "      <th>4</th>\n",
              "      <td>fiesta</td>\n",
              "      <td>2019</td>\n",
              "      <td>16500</td>\n",
              "      <td>automatic</td>\n",
              "      <td>1482</td>\n",
              "      <td>petrol</td>\n",
              "      <td>0.250000</td>\n",
              "      <td>48.7</td>\n",
              "      <td>0.20</td>\n",
              "      <td>0</td>\n",
              "    </tr>\n",
              "    <tr>\n",
              "      <th>...</th>\n",
              "      <td>...</td>\n",
              "      <td>...</td>\n",
              "      <td>...</td>\n",
              "      <td>...</td>\n",
              "      <td>...</td>\n",
              "      <td>...</td>\n",
              "      <td>...</td>\n",
              "      <td>...</td>\n",
              "      <td>...</td>\n",
              "      <td>...</td>\n",
              "    </tr>\n",
              "    <tr>\n",
              "      <th>17961</th>\n",
              "      <td>b-max</td>\n",
              "      <td>2017</td>\n",
              "      <td>8999</td>\n",
              "      <td>manual</td>\n",
              "      <td>16700</td>\n",
              "      <td>petrol</td>\n",
              "      <td>0.258621</td>\n",
              "      <td>47.1</td>\n",
              "      <td>0.28</td>\n",
              "      <td>0</td>\n",
              "    </tr>\n",
              "    <tr>\n",
              "      <th>17962</th>\n",
              "      <td>b-max</td>\n",
              "      <td>2014</td>\n",
              "      <td>7499</td>\n",
              "      <td>manual</td>\n",
              "      <td>40700</td>\n",
              "      <td>petrol</td>\n",
              "      <td>0.051724</td>\n",
              "      <td>57.7</td>\n",
              "      <td>0.20</td>\n",
              "      <td>1</td>\n",
              "    </tr>\n",
              "    <tr>\n",
              "      <th>17963</th>\n",
              "      <td>focus</td>\n",
              "      <td>2015</td>\n",
              "      <td>9999</td>\n",
              "      <td>manual</td>\n",
              "      <td>7010</td>\n",
              "      <td>diesel</td>\n",
              "      <td>0.034483</td>\n",
              "      <td>67.3</td>\n",
              "      <td>0.32</td>\n",
              "      <td>1</td>\n",
              "    </tr>\n",
              "    <tr>\n",
              "      <th>17964</th>\n",
              "      <td>ka</td>\n",
              "      <td>2018</td>\n",
              "      <td>8299</td>\n",
              "      <td>manual</td>\n",
              "      <td>5007</td>\n",
              "      <td>petrol</td>\n",
              "      <td>0.250000</td>\n",
              "      <td>57.7</td>\n",
              "      <td>0.24</td>\n",
              "      <td>0</td>\n",
              "    </tr>\n",
              "    <tr>\n",
              "      <th>17965</th>\n",
              "      <td>focus</td>\n",
              "      <td>2015</td>\n",
              "      <td>8299</td>\n",
              "      <td>manual</td>\n",
              "      <td>5007</td>\n",
              "      <td>petrol</td>\n",
              "      <td>0.037931</td>\n",
              "      <td>57.7</td>\n",
              "      <td>0.20</td>\n",
              "      <td>1</td>\n",
              "    </tr>\n",
              "  </tbody>\n",
              "</table>\n",
              "<p>17518 rows × 10 columns</p>\n",
              "</div>\n",
              "      <button class=\"colab-df-convert\" onclick=\"convertToInteractive('df-15a12c8d-c36e-46a1-9558-0c8e66c5ec2c')\"\n",
              "              title=\"Convert this dataframe to an interactive table.\"\n",
              "              style=\"display:none;\">\n",
              "        \n",
              "  <svg xmlns=\"http://www.w3.org/2000/svg\" height=\"24px\"viewBox=\"0 0 24 24\"\n",
              "       width=\"24px\">\n",
              "    <path d=\"M0 0h24v24H0V0z\" fill=\"none\"/>\n",
              "    <path d=\"M18.56 5.44l.94 2.06.94-2.06 2.06-.94-2.06-.94-.94-2.06-.94 2.06-2.06.94zm-11 1L8.5 8.5l.94-2.06 2.06-.94-2.06-.94L8.5 2.5l-.94 2.06-2.06.94zm10 10l.94 2.06.94-2.06 2.06-.94-2.06-.94-.94-2.06-.94 2.06-2.06.94z\"/><path d=\"M17.41 7.96l-1.37-1.37c-.4-.4-.92-.59-1.43-.59-.52 0-1.04.2-1.43.59L10.3 9.45l-7.72 7.72c-.78.78-.78 2.05 0 2.83L4 21.41c.39.39.9.59 1.41.59.51 0 1.02-.2 1.41-.59l7.78-7.78 2.81-2.81c.8-.78.8-2.07 0-2.86zM5.41 20L4 18.59l7.72-7.72 1.47 1.35L5.41 20z\"/>\n",
              "  </svg>\n",
              "      </button>\n",
              "      \n",
              "  <style>\n",
              "    .colab-df-container {\n",
              "      display:flex;\n",
              "      flex-wrap:wrap;\n",
              "      gap: 12px;\n",
              "    }\n",
              "\n",
              "    .colab-df-convert {\n",
              "      background-color: #E8F0FE;\n",
              "      border: none;\n",
              "      border-radius: 50%;\n",
              "      cursor: pointer;\n",
              "      display: none;\n",
              "      fill: #1967D2;\n",
              "      height: 32px;\n",
              "      padding: 0 0 0 0;\n",
              "      width: 32px;\n",
              "    }\n",
              "\n",
              "    .colab-df-convert:hover {\n",
              "      background-color: #E2EBFA;\n",
              "      box-shadow: 0px 1px 2px rgba(60, 64, 67, 0.3), 0px 1px 3px 1px rgba(60, 64, 67, 0.15);\n",
              "      fill: #174EA6;\n",
              "    }\n",
              "\n",
              "    [theme=dark] .colab-df-convert {\n",
              "      background-color: #3B4455;\n",
              "      fill: #D2E3FC;\n",
              "    }\n",
              "\n",
              "    [theme=dark] .colab-df-convert:hover {\n",
              "      background-color: #434B5C;\n",
              "      box-shadow: 0px 1px 3px 1px rgba(0, 0, 0, 0.15);\n",
              "      filter: drop-shadow(0px 1px 2px rgba(0, 0, 0, 0.3));\n",
              "      fill: #FFFFFF;\n",
              "    }\n",
              "  </style>\n",
              "\n",
              "      <script>\n",
              "        const buttonEl =\n",
              "          document.querySelector('#df-15a12c8d-c36e-46a1-9558-0c8e66c5ec2c button.colab-df-convert');\n",
              "        buttonEl.style.display =\n",
              "          google.colab.kernel.accessAllowed ? 'block' : 'none';\n",
              "\n",
              "        async function convertToInteractive(key) {\n",
              "          const element = document.querySelector('#df-15a12c8d-c36e-46a1-9558-0c8e66c5ec2c');\n",
              "          const dataTable =\n",
              "            await google.colab.kernel.invokeFunction('convertToInteractive',\n",
              "                                                     [key], {});\n",
              "          if (!dataTable) return;\n",
              "\n",
              "          const docLinkHtml = 'Like what you see? Visit the ' +\n",
              "            '<a target=\"_blank\" href=https://colab.research.google.com/notebooks/data_table.ipynb>data table notebook</a>'\n",
              "            + ' to learn more about interactive tables.';\n",
              "          element.innerHTML = '';\n",
              "          dataTable['output_type'] = 'display_data';\n",
              "          await google.colab.output.renderOutput(dataTable, element);\n",
              "          const docLink = document.createElement('div');\n",
              "          docLink.innerHTML = docLinkHtml;\n",
              "          element.appendChild(docLink);\n",
              "        }\n",
              "      </script>\n",
              "    </div>\n",
              "  </div>\n",
              "  "
            ]
          },
          "metadata": {},
          "execution_count": 51
        }
      ]
    },
    {
      "cell_type": "code",
      "source": [
        "scaler.fit(df[['year']])\n",
        "df.year=scaler.transform(df[['year']])"
      ],
      "metadata": {
        "id": "Rk0cayO73gKV"
      },
      "execution_count": 56,
      "outputs": []
    },
    {
      "cell_type": "markdown",
      "source": [
        "## 9.3D визуализация "
      ],
      "metadata": {
        "id": "0BcvgQ7NNs2C"
      }
    },
    {
      "cell_type": "markdown",
      "source": [
        "###3D визуализация k-means"
      ],
      "metadata": {
        "id": "lBO_gOsiNkMy"
      }
    },
    {
      "cell_type": "code",
      "source": [
        "pip install ipympl "
      ],
      "metadata": {
        "id": "Vysu4C9W3-R4"
      },
      "execution_count": null,
      "outputs": []
    },
    {
      "cell_type": "code",
      "source": [
        "from google.colab import output\n",
        "output.enable_custom_widget_manager()\n",
        "%matplotlib widget\n",
        "\n",
        "colors = ['#DF2020', '#81DF20', '#2095DF']\n",
        "df['clusters'] = km.fit_predict(df[['tax', 'enginesize','year']])\n",
        "df['c'] = df.cluster.map({0:colors[0], 1:colors[1], 2:colors[2]})\n",
        "\n",
        "fig = plt.figure(figsize=(26,6))\n",
        "ax = fig.add_subplot(131, projection='3d')\n",
        "ax.scatter(df.tax, df.enginesize,df.year, c=df.c, s=15)\n",
        "ax.scatter(km.cluster_centers_[:,0],km.cluster_centers_[:,1],color='black',marker='*',label='центроид')\n",
        "ax.set_xlabel('tax')\n",
        "ax.set_ylabel('enignesize')\n",
        "ax.set_zlabel('year')\n",
        "plt.show()"
      ],
      "metadata": {
        "id": "2Av93H7r15xC",
        "colab": {
          "base_uri": "https://localhost:8080/",
          "height": 541,
          "referenced_widgets": [
            "8fe31066311145f3abd095e16446113f",
            "221862b500f149ec8d47532db4a51a4c",
            "5928d3c333d542678ec86e5887a64741",
            "4f5b01f0e01340198428bc0d7fc0a8e5"
          ]
        },
        "outputId": "78eb340f-9b92-4b9c-dd5f-df33b3f50b16"
      },
      "execution_count": 57,
      "outputs": [
        {
          "output_type": "display_data",
          "data": {
            "text/plain": [
              "Canvas(toolbar=Toolbar(toolitems=[('Home', 'Reset original view', 'home', 'home'), ('Back', 'Back to previous …"
            ],
            "image/png": "[encoded data removed]",
            "text/html": [
              "\n",
              "            <div style=\"display: inline-block;\">\n",
              "                <div class=\"jupyter-widgets widget-label\" style=\"text-align: center;\">\n",
              "                    Figure\n",
              "                </div>\n",
              "                <img src='data:image/png;base64,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' width=1872.0/>\n",
              "            </div>\n",
              "        "
            ],
            "application/vnd.jupyter.widget-view+json": {
              "version_major": 2,
              "version_minor": 0,
              "model_id": "8fe31066311145f3abd095e16446113f"
            }
          },
          "metadata": {
            "application/vnd.jupyter.widget-view+json": {
              "colab": {
                "custom_widget_manager": {
                  "url": "https://ssl.gstatic.com/colaboratory-static/widgets/colab-cdn-widget-manager/d2e234f7cc04bf79/manager.min.js"
                }
              }
            }
          }
        }
      ]
    },
    {
      "cell_type": "markdown",
      "source": [
        "###3D визуализация DBSCAN"
      ],
      "metadata": {
        "id": "9bpdfT1CNn8_"
      }
    },
    {
      "cell_type": "code",
      "source": [
        "# from google.colab import output\n",
        "# output.enable_custom_widget_manager()\n",
        "# %matplotlib widget\n",
        "\n",
        "# colors = ['#DF2020', '#81DF20', '#2095DF']\n",
        "# df['clusters'] = clustering.fit_predict(df[['tax', 'enginesize','year']])\n",
        "# df['c'] = df.cluster.map({0:colors[0], 1:colors[1], 2:colors[2]})\n",
        "\n",
        "# fig = plt.figure(figsize=(26,6))\n",
        "# ax = fig.add_subplot(131, projection='3d')\n",
        "# ax.scatter(df.tax, df.enginesize,df.year, c=df.c, s=15)\n",
        "# ax.set_xlabel('tax')\n",
        "# ax.set_ylabel('enignesize')\n",
        "# ax.set_zlabel('year')\n",
        "# plt.show()"
      ],
      "metadata": {
        "id": "TQKI9ThANLtZ"
      },
      "execution_count": 53,
      "outputs": []
    },
    {
      "cell_type": "code",
      "source": [
        "from google.colab import output\n",
        "output.enable_custom_widget_manager()\n",
        "%matplotlib widget\n",
        "\n",
        "colors = ['#DF2020', '#81DF20', '#2095DF']\n",
        "df['clusters'] = clustering.fit_predict(df[['tax', 'enginesize','year']])\n",
        "df['c'] = df.cluster.map({0:colors[0], 1:colors[1], 2:colors[2]})\n",
        "\n",
        "fig = plt.figure(figsize=(26,6))\n",
        "ax = fig.add_subplot(131, projection='3d')\n",
        "plt.scatter(df_dbscan[labels==-1,0],df_dbscan[labels==-1,1],s=10,c='black')\n",
        "plt.scatter(df_dbscan[labels==0,0],df_dbscan[labels==0,1],s=10,c='blue')\n",
        "plt.scatter(df_dbscan[labels==1,0],df_dbscan[labels==1,1],s=10,c='red')\n",
        "plt.scatter(df_dbscan[labels==2,0],df_dbscan[labels==2,1],s=10,c='green')\n",
        "plt.scatter(df_dbscan[labels==3,0],df_dbscan[labels==3,1],s=10,c='pink')\n",
        "ax.set_xlabel('tax')\n",
        "ax.set_ylabel('enignesize')\n",
        "ax.set_zlabel('year')\n",
        "plt.show()"
      ],
      "metadata": {
        "id": "FoPbSOi9yuH-",
        "colab": {
          "base_uri": "https://localhost:8080/",
          "height": 541,
          "referenced_widgets": [
            "2242c1e5b52a44269c4c332b062b3ca9",
            "aabf9af9725542a88105f1f85d36abe6",
            "477143f4699c40aba757abcb99dc21af",
            "8dc9a74c244240d7a4bf05982c9d845c"
          ]
        },
        "outputId": "8d8a56b2-90c2-47e3-80dd-177524d1e8ba"
      },
      "execution_count": 58,
      "outputs": [
        {
          "output_type": "display_data",
          "data": {
            "text/plain": [
              "Canvas(toolbar=Toolbar(toolitems=[('Home', 'Reset original view', 'home', 'home'), ('Back', 'Back to previous …"
            ],
            "image/png": "[encoded data removed]",
            "text/html": [
              "\n",
              "            <div style=\"display: inline-block;\">\n",
              "                <div class=\"jupyter-widgets widget-label\" style=\"text-align: center;\">\n",
              "                    Figure\n",
              "                </div>\n",
              "                <img src='data:image/png;base64,iVBORw0KGgoAAAANSUhEUgAAB1AAAAGwCAYAAAAXGfcYAAAAOXRFWHRTb2Z0d2FyZQBNYXRwbG90bGliIHZlcnNpb24zLjUuMywgaHR0cHM6Ly9tYXRwbG90bGliLm9yZy/NK7nSAAAACXBIWXMAAAsTAAALEwEAmpwYAAC37UlEQVR4nOzdeZhlB13n/8/Z73LuUtXdodNNOrRASEJCEggkwIAxE1BkUwIyA4RFBmQZNPBzBBlmhp+jDMwIDpjhB6gMCHlAjGEREQExgkBYE4gmCEgWTJN0dy1338/5/XHrnL5Vdavq7rX0+/U8edLVde9Z7r2d5uFTn+/XCMMwFAAAAAAAAAAAAABA5nZfAAAAAAAAAAAAAADsFASoAAAAAAAAAAAAALCCABUAAAAAAAAAAAAAVhCgAgAAAAAAAAAAAMAKAlQAAAAAAAAAAAAAWEGACgAAAAAAAAAAAAArCFABAAAAAAAAAAAAYAUBKgAAAAAAAAAAAACsIEAFAAAAAAAAAAAAgBUEqAAAAAAAAAAAAACwggAVAAAAAAAAAAAAAFYQoAIAAAAAAAAAAADACgJUAAAAAAAAAAAAAFhBgAoAAAAAAAAAAAAAKwhQAQAAAAAAAAAAAGAFASoAAAAAAAAAAAAArCBABQAAAAAAAAAAAIAVBKgAAAAAAAAAAAAAsIIAFQAAAAAAAAAAAABWEKACAAAAAAAAAAAAwAoCVAAAAAAAAAAAAABYQYAKAAAAAAAAAAAAACsIUAEAAAAAAAAAAABgBQEqAAAAAAAAAAAAAKwgQAUAAAAAAAAAAACAFQSoAAAAAAAAAAAAALCCABUAAAAAAAAAAAAAVhCgAgAAAAAAAAAAAMAKAlQAAAAAAAAAAAAAWEGACgAAAAAAAAAAAAArCFABAAAAAAAAAAAAYAUBKgAAAAAAAAAAAACsIEAFAAAAAAAAAAAAgBUEqAAAAAAAAAAAAACwggAVAAAAAAAAAAAAAFYQoAIAAAAAAAAAAADACgJUAAAAAAAAAAAAAFhBgAoAAAAAAAAAAAAAKwhQAQAAAAAAAAAAAGAFASoAAAAAAAAAAAAArCBABQAAAAAAAAAAAIAVBKgAAAAAAAAAAAAAsIIAFQAAAAAAAAAAAABWEKACAAAAAAAAAAAAwAoCVAAAAAAAAAAAAABYQYAKAAAAAAAAAAAAACsIUAEAAAAAAAAAAABgBQEqAAAAAAAAAAAAAKwgQAUAAAAAAAAAAACAFQSoAAAAAAAAAAAAALCCABUAAAAAAAAAAAAAVtjbfQEATh/Hjh3b7ksAgB3l0KFD230JAAAAAAAAANaggQoAAAAAAAAAAAAAKwhQAQAAAAAAAAAAAGAFASoAAAAAAAAAAAAArCBABQAAAAAAAAAAAIAVBKgAAAAAAAAAAAAAsIIAFQAAAAAAAAAAAABWEKACAAAAAAAAAAAAwAoCVAAAAAAAAAAAAABYQYAKAAAAAAAAAAAAACsIUAEAAAAAAAAAAABgBQEqAAAAAAAAAAAAAKwgQAUAAAAAAAAAAACAFQSoAAAAAAAAAAAAALCCABUAAAAAAAAAAAAAVhCgAgAAAAAAAAAAAMAKAlQAAAAAAAAAAAAAWEGACgAAAAAAAAAAAAArCFABAAAAAAAAAAAAYAUBKgAAAAAAAAAAAACsIEAFAAAAAAAAAAAAgBUEqAAAAAAAAAAAAACwggAVAAAAAAAAAAAAAFYQoAIAAAAAAAAAAADACgJUAAAAAAAAAAAAAFhBgAoAmCnXdWUYxnZfBgAAAAAAAAAAfdnbfQEAgNODaZqybf7aAQAAAAAAAADsbPw/2QCAqbNtW6Y5/NCDqKkahuGkLwkAAAAAAAAAgL4Y4QsAmBrDMOQ4zkjhqSR5nqd0Oj3hqwIAAAAAAAAAYGM0UAEAU7HZyF7DMGiVAgAAAAAAAAB2JAJUAMDEOY4Tj98FAAAAAAAAAGA3IUAFAExMNLJ3UmipAgAAAAAAAABmjQAVADARlmXJsqyJH5cmKwAAAAAAAABglghQAQBjY2QvAAAAAAAAAGCvMLf7AgAAu5dhGJqbm5Nt7/6fx3FdlxAYAAAAAAAAAECACgAYjW3b8b7TvRA8plKpqYwgBgAAAAAAAADsLru/MgQAmLlZjewNw3Dq5wAAAAAAAAAAoBcBKgBgYKZpznxc715otwIAAAAAAAAAdg8CVADAQGzblmmun/wehiEhJwAAAAAAAABgzyBABQBsyjAM2bZNSAoAAAAAAAAAOC0QoAIANmRZlizL2u7LAAAAAAAAAABgZtbPYgQAQJLjONsenu7V8cCe5237awsAAAAAAAAA6I8GKgBgFcMw5DjOwI/fqyHnNHmepzAM1el0tvtSAAAAAAAAAABrEKACAGKM7AUAAAAAAAAAnO4IUAEAMgxDiURiZo1IGqsAAAAAAAAAgJ2KABUATnOmacp1XaVSKZVKpaGfP+wI30QioUQioVarpUajoUajsWFwG4bh0NezGxiGsWfvDQAAAAAAAAB2OwJUADiN2bY9s5G9hmHI930FQaCFhQUZhiHXdZXNZmXb9qpANQiCVc8DAAAAAAAAAGBWCFAB4DRkGIZs246bkIZhTDWotG1bvu+rWq2q2WxKktrtttrttqrVqiTJcRy5rqt8Pi/LstRsNtVut6d2Tf3QCgUAAAAAAAAAEKACwGnGsqx1rdNxgsOtRvgmEgl5nqdisbiqWbpWq9VSq9VSpVKRJLmuGz93//79ajabajQaajabBJ1DSqVScVANAAAAAAAAANgcASoAnEYcx5nZSNzekb2FQmHo5zebTQVBINM0VSgU5LquXNdVJpORpHjcb9Ro3W1mGQInk0kCVAAAAAAAAAAYEAEqAJwGDMOQ4zgbfn+rFumw+o3sHUUUMoZhGAempVJJhmHI8zwlEglls9lV32+1WpO6jamZ5V5XdsgCAAAAAAAAwHAIUAFgj+s3sneSwjCUaZrx18lkUq7rbjmyd1D9AsAwDFWv11Wv1yVJpmnKdV2lUim5rqtOpxMHqrPeowoAAAAAAAAA2N0IUAFgDxtmZO+4TUXDMJTJZNRut0ca2TuOIAhWBaqWZcl1Xfm+L8dx1G6340C10+nM9Nq2m2EY7IwFAAAAAAAAgCEQoALAHmSapmx7dv+JN01TuVxu7JG9k9LpdFSr1VSr1SR1Rwq7rqtsNivbttVqteJAdRIt2VEQagIAAAAAAADAzkSACgB7jG3bq0bqTpvrunIcR4VCYdvCyK202221221Vq1VJ3Wau67rK5/OyLEvNZlOWZc1sX+isd6AS1gIAAAAAAADA4AhQAWCPMAxD6XR6Zg3QaGRvGIZTa3JOK/hrtVpqtVqqVCqSFLdT8/m8JKnZbKrRaKjZbBI+jiCRSMTjlAEAAAAAAABgtyFABYA9IBrZm0wmZxKg2rYt3/fjANJxnKmdaxZtzWazqXa7rVKppCAI5LquXNdVJpORpHjc704YTzysWTdQTdNUKpUiQAUAAAAAAACwaxGgAsAu5zhOHDLOImxMJpNyHEfFYlFBEEw1PN0OUaO20WioVCrJMAx5nqdEIqFsNrvq+61Wa7svd8dhZDAAAAAAAACA3Y4AFQB2KcMwZhpeRiN72+22isVi/PthGM50p+eshWGoer0eNypN05TneUqlUnJdV51OJw5U2+32UMedBQJNAAAAAAAAABgOASoA7EKWZcmyrJmdz3EcpdNpVSqVibQud3PgGgSBarWaarWapO574bqufN+X4zhqt9txoNrpdPoeYzff/1YIbAEAAAAAAADsdgSoALDL9I7snYW1I3tnaTe0WzudzqpA1bZtua6rbDYr27bVarXiQHXWr580+0CTABUAAAAAAADAbkeACgC7xE4Z2bvWbgg5Z6ndbqvdbqtarUrqBt6u6yqfz8uyLDWbTZmmyWsGAAAAAAAAADsUASoA7AK2bcs0zZmdb9Ije09nrVZLrVZLlUpFkuS6bhyoGoahZrOpRqOhZrO5J5qb29FAtW17qP2zAAAAAAAAALAZAlQA2OFmNbI3Cr1SqZRs21ahUNgTgd5O02w2FQSBFhcXJZ0KVDOZjCTF436bzeZEznc6jPDNZrNaXl7elhHJAAAAAAAAAPYeAlQA2KFM05Rtz/Y/09lsVq1Wa9ORvWsxwnd0YRjGgWmpVJJhGPI8T4lEQtlsdtX3d1MTeNYBKntXAQAAAAAAAEwSASoA7ECjjuwdNURyHEeWZalUKu2ooO50C2fDMFS9Xle9XpfUDdE9z1MqlZLruup0OnGgOujI2u1ooM4aASoAAAAAAACASSJABYAdxLIsOY4z01Gk0cjedrvNHskdJggC1Wo11Wo1Sd3Ph+u68n1fjuOo3W7HgWqn09nmq+0izAQAAAAAAACw2xGgAsAOYVmWEomEHMdRtVod6RhRY3OQAMs0Tfm+H4/szWazI4dfp1NLdBJGfZ07nc6qQNW2bbmuq2w2K9u21Wq14kA1CuG3I9AkQAUAAAAAAACwmxGgAsAO4DhOHHTNIox0HEfpdFrlcjlunY4aeg37PMMwlMlk4vZks9kc6bxQ3BqOAnfHceS6rvL5vCzLUrPZVBiGM200E6YDAAAAAAAA2O0IUAFgGxmGIcdxJna8QRqo0cjeQqEw86agbdvyfV+VSkWdTkfJZFLZbFZBEAy92xPrtVottVotVSoVSZLrukqn00okEkokEmo2m3FoPa333jCMmQa2AAAAAAAAADBpBKgAsE0sy5JlWat+b5oNVNM0lclk1Gw2VSwW131/2u3XZDIp13VVLBbV6XTUarVUr9clrd/tGY2ipZ06nmazKdu21Wg0VKvV5LquXNdVJpORpDi0nuTrfDruQM3lciqVSgTHAAAAAAAAwB5BgAoA2yAa2bvWuCHmRs/vN7J3Ura6ZsMw5Pu+giBQoVDo+5h+uz09z1Mul5Nt28rlcnHYd7qFc5MQhqHCMIxfw1KpJMMw5HmeEomEstnsqu+3Wq3tvuRdJZFIqFQqbfdlAAAAAAAAAJgQAlQAmCHTNGXbs/1P76Aje6fRQLUsS5lMRtVqdaiWY7Tbs1KpaP/+/arVavI8T+l0WoZhTKU5uVdt1AgNw1D1ej1uAZumKc/zlEql5LquOp3OSGOVT8cGqmmatE8BAAAAAACAPYQAFQBmxLZtWZY11RCz9/lbjeydtqjdWCwWxw6Xms1mHJYahiHXdePm5KT2p05zfPF2GyTQDIJgVQvYsix5nhePVW632/Hr3Ol0NjzOrAPU0zGwBQAAAAAAADBdBKgAMGWGYci27ZkGPa7rKpVKTWVk7yB835ekDUf2jqN31Kx0qjk5bNB3uhg1GO50OqpWq6pWq5K6PwDguq6y2axs24731DYajW1tX253gLrd5wcAAAAAAAAweQSoADBFlmXJsqyBHz+JBmoymZSkLUf2Tvrc0qnWa71ejwPOaVvbnOzdn2pZlprNJvtTJyAaqxwFqo7jyHVd5fP5Va/z6dZA3e7zAwAAAAAAAJg8AlQAmBLHcUYKJEcNMaMmZrPZVKVSGekY44har6VSaVubn737U6Prcl131f7UKOw7HUwr4Gu1Wmq1Wute50QiIdd1V+2pnWbAuN0B5nafHwAAAAAAAMDkEaACwIQZhiHHcWZ6zii8bDabarVaIx9n3PB22NbrLET7U8vlcrw/1fM8ZTKZdeOAMbrodbZtW6VSKR75m8lkJGlVoDpJ2x1gmqa5rSOMAQAAAAAAAEweASoATJBlWZqbm1OxWJzZOdPptEzTVKFQUCKRGPk4o4RQ0cheSSqVSiOfe1Y22p+aTqfjsb/R+OG9sj91O0bqSqcC01KpJMMw5HmeEomEstnsqvdhnMA/Oh8NVAAAAAAAAACTRIAKABMSjew1TXMm54vCy0ajsWpk77h7TAflOI7S6bTK5bLS6fRMzjlpvftT5+bmVKlUZNu2stmsbNuOR/02m01ahgPqFyiGYah6va56vS7pVHCdSqXkuq46nU4cqLbb7bHPN0vbfX4AAAAAAAAAk0eACgBjMk1Ttj3b/5xGI3vL5fKqwGmcICcMw4HD12QyKcdx4pG9swptp63T6ajZbKparUrqhsRRQ9UwjFWB6m4JzbYj4NvqfL3BtdRtbnueJ9/35TiO2u12HKju9CYwASoAAAAAAACw9xCgAsAYbNueWeM00juyt1/Tb5phpmEYymQyarfbMx1TvF1arZZardaW+1PHHUO7l4zy+et0OqpWq3FwHe1PjZrArVYrfq3XNoG3O8Dc7vMDAAAAAAAAmDwCVAAYgWEYsm27b1g0rTBlo5G9k7JV+GrbtnzfV6VSOS0Dw432p0ZjaHdqa3I7dqCOe752u612u72uCZzP52VZ1qom8HYHmKZpMt4ZAAAAAAAA2GMIUAFgSFuN7I2CyFFDnX7Pi0b2lkqlTcO5MAyn0ohNJBLyPE/FYpGwaMVGY2gHaU1iOFETOOK6rlzXVTqdlmVZceC6HaOVtzvABQAAAAAAADB5BKgAMATHcbYcUTpugLrWZiN7p80wDPm+ryAIVCgUZnru3WbtGNqoNTk3N7duf+qs7bWAr9lsqtlsqlwux38+XNdVJpORpDi4nsVrTYAKAAAAAAAA7D0EqAAwAMMw5DjOTM4VBbCmacr3/aFG9o6zA3Vte9WyLGUyGVWr1W0J/Xa7zfanRuOQZ7E/dZo7cXcCwzDUarVUr9dVKpVkGIY8z1MikVA2m536rlrDMGgYAwAAAAAAAHsMASoAbMGyLFmWNfDjxwkxI1EAtNXI3mnZ7vPvNWv3p+7fv1/tdjven9rpdOLvt9vtbb7a3WVtAzQMQ9XrddXrdUnrd9VO+rWmgQoAAAAAAADsPQSoALCJQUb2rjVugGpZlhzHGXlk7zgN1Ghkr6ShRvYSIA2vN+SL9qdG7dRJ7k/d6wHfVve30a5a3/flOI7a7Xb8Wo/ywwKmae7p1xcAAAAAAAA4HRGgAkAf447sHSXEtCwr3jdarVZHCmXGCXKi0ae1Wi0O9jAbw+xPJaxbbdiAeO1rbdu2XNdVNpsdKbxmhC8AAAAAAACw9xCgAsAanueNFVKN8txoZG65XFYymRzr3KOEt67rKp1Ox7sksb1696dKWrU/NQzDVYHqVk73BupW2u222u32uvA6n8/LsqxVr3W/oHSvv74AAAAAAADA6YgAFQB6OI6jbDY71PjatYYNMdeOzJ3EDtVhpFIp2batcrks13VHOkZ0zQRJ09FsNtVsNlUqleKmcDKZVC6XO+33p076cxeF1xHXdeMfMOjXBh70/HfccYduvPFGhWGoyy+/XFddddW681533XX68Y9/rEwmo2uvvVZnnHFG/P2TJ0/qta99rZ7znOfoGc94xsTuFwAAAAAAAMB6BKgAoO4eQ9ue3H8SBwlAo5G99XpdjUZj6Of3M0z4ahiGMpmMWq2WisXiRO9/q/NGoXGj0VC9Xh9p9+TpKgzDofan7vVge9r3F4XX5XJZhmHEgerx48d1/fXX6/zzz9dZZ52lI0eObDj2OwgC3XDDDXrlK1+pfD6vd7zjHbrgggt08ODB+DFf/OIXlU6n9Yd/+If6yle+ouuvv16vfe1r4+9/8IMf1CWXXDK1+wQAAAAAAABwCgEqgNOebdsyTTP+etz25yBhTu/I3rXh4SzCLsdxlE6nValU4rbdLJqvUWhcq9VUq9XkeV68ezJq9jUajT0d+E1av52e0Qha0zRlWZYSicRMXtftCGtnec4wDOPPaC6X00te8hKdOHFC3/72t/WJT3xCiURC/+E//Ad5nrfqeXfffbf279+v/fv3S5IuueQS3XbbbasC1G9961t6znOeI0m6/PLL9f73vz/+M/mNb3xDZ5xxxrrjAgAAAAAAAJgOAlQApy3DMGTb9rrQcNwwZqsgcu3I3mGfv5WtnptMJuU4jgqFwkzDLtd1lUqlVCqV1G631wV/0e7JaFRqFFRhONFOz0qlIkk6cOCAHMdZ1foddH/qbrCdDdtkMqnHPOYxOvvssxWGoUqlUt+Qs1AoaG5uLv46n8/r7rvvXvWYxcVF7du3T1L3Bw2iPyuu6+qTn/yk/st/+S/61Kc+Nd0bAgAAAAAAACCJABXAacqyLFmW1fd74+7zDMNwVaO195yZTEa1Wm1qweBm1xyN7G232yoWixM/72avWSqVkmVZq0LbtY+Pdk9Go1KjPZ+2bWt+fv603vM5jijYW7s/NZvNKgiCib6ue31ccD+995zJZCZ+/I997GN66lOfqkQiMfFjAwAAAAAAAOiPABXAacdxnC1bmpMOgqKRvaVSact9n9NooNq2Ld/3Va1WN2weTmOEb++e1VKptOk1rr2WaM9n1Jbt3fPJuN/R9Nuf6rqufN+X4zhqtVrxazvKXtrTMUAdRC6X09LSUvz18vKycrncqsfMz89rYWFB+/bti9vZmUxGP/rRj/T1r39d119/vSqVSryH9Rd+4RdmfRsAAAAAAADAaYMAFcBpwzAMOY6z5eMmOcLXMAyl02lJG4/snaR+155IJOR5norFooIgmPo1RKLQtnfP6qgGHfe7V8bSzkqn04n30Uqn9qfmcjlZljVSUH06BaiDBsZHjhzRyZMntbCwoFwup1tuuUXXXHPNqsc86lGP0k033aRzzjlHN998sx7+8IfLMAz9zu/8TvyYj33sY0okEoSnAAAAAAAAwJQRoAI4LWw2snetcZuY0fNHHdk7yQaq7/sKw3Cg8Hac8659btS4nVZou9G431wup06ns+PH/e7UkHHt/lTXdYcKqifdYN7pBg1QLcvS1Vdfrfe85z0KgkCXXXaZzjzzTH3mM5/RxRdfrEsvvVRXXnmlrrvuOr3mNa+R7/u69tprp38DAAAAAAAAAPoywp36/+IC2HOOHTu2LecdZGRvr3Q6PVb4Ztu2UqmUDMNQqVQaOkB0XVeWZcWtwGHl83mVSiX5vq96vT5weBuN2x1lP6rv+6rVaup0OvJ9X5JULpc3fU6r1RoofNq3b58WFhYGvhbLsuR5njzPWzXut9lsbvpezM3NqVgsjjS6dhiGYcTjWmdh//79Onny5NjHiUbHep4n13UVBEH82kYNY8dxlEqlZtK2jkzq/kZh27bm5uZ04sSJkY9x6NChCV4RAAAAAAAAgEmggQpgzzJNU7Y9/H/mxmliGoahVCol0zS1vLw80jHGZRiGfN9XuVyeehi49ry5XE6NRiPesTnJYw/68z6M+52OMAzj107q/vmKXlfHceL26umEna8AAAAAAADA3kSACmBPsm1blmWNHG6MEqBGI3vr9fpAu1Y3Mk6AG4WExWJx6HsfNzjOZDIqlUoDhWizDJ02GvebzWYVBMGqUBCDC4Jg3f7UVColz/N04MCBgZu/uxkBKgAAAAAAALA3EaAC2FMsy5Jt2wrDcORgY5TnJRIJeZ4Xj791XXekc4/KNE1lMhk1Gg0FQTDTUCeZTMq2bZXL5R3fQAzDUPV6PW7IRuN+M5mMPM9TNptVrVbb06HftLTbbTUaDYVhqFKp1Lf5G4Wqk7LdAeZ2nx8AAAAAAADAdBCgAtgzLMtSMpkca3+oNFwTMxqXGwRBvPdx1BbnKOeXuiNq0+l0HGAmEomRzz3MeXvvvdlsDhUkjfsaTUrvuN+5uTlVq9X49ZzWuN+9HLr13tva5m+0PzWTyawaBxztTx33fNthu88PAAAAAAAAYDoIUAHsCY7jxGHGrAJM27bl+76q1eqqgG3caxjm+alUSrZtq1AozDTIsSxLvu/Hbc1UKjW1UHSW9xW1KHtDv37jfnd603anGWR/avT9Yfb2bneAaZomTWUAAAAAAABgDyJABbCrGYaxat/opAJU0zQ3fUzvyN5+Acq0G5bRztFWqxWPDZ4V13WVSqVUKpWGCrvGsR1B2drQr3fcr23barVaqtfrjPvtMej7tHZ/avTaZrNZ2bY98P7U7Q5Qt/v8AAAAAAAAAKaDABXArmVZlizLWvV7026g9hvZO2lb3UPUfK1UKmONPx1FKpWSZVkzb7zuBL3jfiX13fE56XG/u82ogeJWr21voNp7/O0OMLf7/AAAAAAAAACmgwAVwK4UjexdaxIB6kY2Gtk7S8lkUq7rbth8laYz8ra38VoqlTZ8zOmk347PRCKx5bjfWYZuuzXgG3R/6nbf33afHwAAAAAAAMB0EKAC2HVs294wrJtWA3WQ4HJS+p1/2ObrJIOdQRqv0wyRdkNANci4397v71WGYUz8z0e//anRGGnP8ySd2l07q5HSkWncLwAAAAAAAIDtR4AKYE+ZdIA6i5G9m51f6oZxmUxm4ObrJANHz/OUSCRmEhxvZre1WzcaSTs3NyfDMOJW5SyazLMMoGfRyAyCQPV6XfV6XZ7nxSFqtD+1N6ye9mfWNM11DWMAAAAAAAAAux8BKoA9Z1IB6k4Y2TtqgDmJIMv3fUmaWXC8l/WOpLVtW7lcbqBxv+PabcHzsKIG6GZh9Ub7Uyd5fgAAAAAAAAB7CwEqgF1n2g23MAxlWZbS6fTIzctxrzFqvkrDB5jjnts0TWUyGTUaDdXr9YHPudfDukkJw1CdTkfFYlHS5uN+JxHO7bUG6lbn67c/1XXdVftTm83mRH4ogh2oAAAAAAAAwN5EgAoAPQzDUCaTkWEYWl5eHvtYo4QrpmnKsizVarWZ78w0DEPZbFblcpnRpFOyNmjeatxvFKaOEvjNOtTeCQFqr979qaVSKd6fmkwmlcvl1Ol0xmr/EqACAAAAAAAAexMBKgCsiEb2VioVpVKpsY41aqjiuq5SqVQc7Ix67lGCs2QyGQfHOykU2knXMgv9GpSzGPc7KbMOUIdp6fbuT5XGb/8SoAIAAAAAAAB7EwEqAKgbHrquO/LI3rWiEHOYcCWdTss0TRUKBeVyubGvYVDRuOAgCNTpdEYKhIYNbaMds61Wa+DHn456G5TS8IHfdjRCZ2nc+9uo/ZvP52Wa5pb7U03TJEAFAAAAAAAA9iACVAC7zlaBxTCBRjSyt91ur9o1Om4QNEygGO0cbTabqlQqY5132HNblqVMJqNqtapmszmT4NayLPm+r3a7Ldu21W63Va/XJ7bzczcYNXSb5rjfSdhpI3yHFbV/I67rxoF1GIarAtXo/IN8Zu+44w7deOONCsNQl19+ua666qp1573uuuv04x//WJlMRtdee63OOOMMfe9739P1118f/1m55pprdMEFF0zsfgEAAAAAAAD0R4AKYM8ZtP3pOI7S6bQqlcrATchJi65h0jtHBwlQo3HBpVJJnU5H0mjN2WH0nrNerysMQ9m2vSoEbDabqtfr2xYCTtskW5pbjfvdjjG/uzlAXavZbKrZbKpUKskwDHmep2Qyqbvuukuf/exnddFFF+nQoUM6ePDghu9rEAS64YYb9MpXvlL5fF7veMc7dMEFF+jgwYPxY774xS8qnU7rD//wD/WVr3xF119/vV772tcqk8no9a9/vebn53XPPffo937v9/Te9753avcLAAAAAAAAoIsAFcCeM0gImEwm5TjOhiN7xw1lBmmBRtdQKBQmGgINcqxUKiXLsiZ27jAMZZrmpo9Ze7/Re9Rut9Vut1WpVPqGgKZpyrKsHbvzc6dYO+7XNE2l02m5rqsDBw4Mvd9zFLtthO8wwjCM96ceOnRIz3rWs/TTn/5Un/vc53TffffpgQ98oJ73vOetew3uvvtu7d+/X/v375ckXXLJJbrttttWBajf+ta39JznPEeSdPnll+v973+/wjDU0aNH48ecddZZajabarVachxnBncMAAAAAAAAnL4IUAHsOoOM8N0oyOkd2VssFjc8xjRH+A5yDdMKhaJzt1otlUqlvueddCgV7VjtdDqbvubR+dfu/Mzn8/J9X9lsNh6h2mg02D25hSAI1Gg0ZBiGisXiunG/02j67vYRvsPI5/M677zzdN555ykIAi0sLPT9M18oFDQ3N7fqeXffffeqxywuLmrfvn2Sup/5qKWdzWbjx3z961/Xz/zMzxCeAgAAAAAAADNAgApgz9kovBxmZO+0QhnbtuX7/kDXMGo4tNH9D3PuSYn2u9ZqtZGCuk6no3a7rWq1qlarFe+k9H0/Dlvr9Trt1AFsNe43CqbHeS1PpwC199ymaerAgQNTO9dPfvITXX/99frP//k/T+0cAAAAAAAAAE4hQAWw5/QLEFOplGzbHnhk7bhNzH7XkEgk5HnehmOD1z5/koY596jW3m8UWPfuWB1X705K0zTjMNVxnJmMqJ2EWYZ+G52r37jf3fhaSrPdudrLNM2BXptcLqelpaX46+XlZeVyuVWPmZ+f18LCgvbt26dOp6NqtapMJiNJWlhY0O///u/r1a9+9aqxvwAAAAAAAACmhwAVwK4zzAjfQUf2bnSMSQSo0QjbIAhUKBSmfv614a3v+5I00LkH2d260fN6TWu/a68gCFSr1VSr1SRp3YjaKACc5IjavWqr17J3dPJmTtcG6maOHDmikydPamFhQblcTrfccouuueaaVY951KMepZtuuknnnHOObr75Zj384Q+XYRiqVCp661vfquc973k699xzp3UrAAAAAAAAANYgQAWwJxmGMdTI3mldg2VZ8QjbrcKnSYvG50Zjbmclk8koCIKhAutJWDui1vM8JZNJ5XI5tdvtOACcVBt2L+s37tfzvPi9ncS430kYd1fxuOceJEC1LEtXX3213vOe9ygIAl122WU688wz9ZnPfEZHjhzRoUOHdOWVV+q6667Ta17zGvm+r2uvvVaS9NnPflb33XefbrjhBt1www2SpDe96U3rGqwAAAAAAAAAJssIt6u6AeC0c+zYsYkdy3XdDb+XSCTkOI4Mw1CpVBqpoeb7vmq12shhm+d5chxHlmWpXC4PfZxxzu95nmzbluM4KpfLQ4Vc6XR6pGDMcRy5rivbtlWv1wcKi9vt9kAjULPZrOr1+lhNUsuy4jHGpmnGjcpmsxl/Pubm5lQsFqcesEa7R2cRMCcSCdm2rXK5PLFjRuN+o89477jf+fl5nTx5cmLn2sr+/ftner5erusqk8loYWFhrOMcOnRoQlcEAAAAAAAAYFJooALYU0zTVCKRUKfTGSugGnWUbSQK6paXl0c+xqjnj4LM5eXlmY03tSxLnuepUCjsyIZnp9NRpVJRpVKRdCrE7G1UzrLNuJt/dmntuF/btpVIJDQ3NyfbtpXNZgca97vbbef4YAAAAAAAAADTRYAKYM+IRvZOIrgZNUCNxua22+2xxpuOEsxEu1YlqV6vD3aMe+7p/vvIkVXHGUYymZTrurtqPG6z2YwbrVGj0rZtzc/Pr9r3OY2AbJZB7SxCvna7rXK5rHK5rP3796vRaOzIcb+TZprmQA1qAAAAAAAAALsPASqAXWltwJlKpWTbtgqFQjy+dpLHH4TrukqlUvHeyHGuYdjzR7tWq9Vq/PVWUs94htyvfU2S1Hz0o1X9zGeGDtt831cYhqpUKvI8b6jn7hRRozIaqxsFqul0WlI3bK3X69uyR3c36m2fRq+l7/vrxv3u9vCRBioAAAAAAACwdxGgAtjVosZns9mMR/aOO353FL0BbhiGsm17Ztfguq6SyaRKpZI6nU68/3Ur9re+JWMl5LVvuWWoc0ave7Tv1LKsmb/m09JqtdRqteIg3PM8pVIpua6rdrsd3/NuCAC3O+TbbNyvYRh9d9HuFtv92gIAAAAAAACYHgJUALtWNLK3XC6vGg86iQB10GMYhqFMJqNWq7Vq5+q41zDo89PptEzTVLFYHD7McV1ppbGqZHLD82YOHJAhqShJJ05s+LpPy3YE4r3nrtfrqtfrkroBoOd5yufzMk0zbqdG44Cxud5xv4ZhyHXdeNxv9FrvlnG/BKgAAAAAAADA3kWACmBXSqVSchwnbnz2mlWAGgWJlUplKuNdNzt/b3BbqVRWfW/Q+y9+6UvKPO1pUhiq9Fd/1fcx2QMH4r8o8pLqiYQ8z1PRcRRI0okTA93LXhHttq1UKnEAmEgklM1m432f9Xp9012wswzeDMOYelP2+PHjuvnmm3X55Zdr//79Az8vDMNdPe6XABUAAAAAAADYuwhQAexKjUYjHgu61qQCVNM0N/x+MpmU4zgqFot9w51JNFA3Ytu2fN8fP7g9ckSl731v04cYa35tWZYM11VeUiipfuCAaidObGtLdLusDQAty5Lnecpms7JtOx5P22g09mzQdvz4cT3rWc/SnXfeqaNHj+qmm26SbY/2Py2GHfe73QGmaZrsxQUAAAAAAAD2KAJUALtSu93eMOCcZgPVMAz5vq9Op7NqZO+kr2Gj5yeiBugGwe2451773KakxMqvA0mVRz9acytfG5I8Sf1j7NNPp9NRtVpVdWUscjSe1vf9dWHrrEw7ZLz55pt15513SpLuvPNOffnLX9bP/dzPTeTYW4373e6xydsd4E5Dp9ORZVnbfRkAAAAAAADAtiNABbArbRVcTKMNGTU/q9XqQOHNpK/B931JUqFQmOhxN9NaWpI3N6eypPbKuN5wZSeq1A1VR7XXG6vNZlPNZlOlUikeT5tOp+W6roIgUKfT2bHjaQd1+eWX6+jRo3ED9fGPf/xUztNv3G8ymZRlWTpw4MC2jPuddYD6qU99Sj/4wQ/0m7/5m/Hvvf/975dhGHruc5+rD37wg7rllltkGIZ+7ud+Tr/yK78i0zR133336b3vfa/uvvtuGYahiy66SC996UuVTqclSa9+9av1pCc9Sf/wD/+gY8eO6UMf+hAhKgAAAAAAAE57BKgA0MfaJuYgzc+1zx/3/FHD1jRNZTIZ1ev1gRqMk2qgxve8sLDqnpcl5SR1JJWjUHWKI3z3wnjg3vG0yWRStm3Lsqx4PG0U/k2jVTnNkO+MM87QjTfeqK9//et67GMfq4MHD2pxcXFq54tE+2Ydx9Hy8rJs25bnecrn8zJNc92432mYdYD6hCc8QX/+53+uSqWidDqtTqejr371q3rjG9+o//N//o9yuZze9a53qdFo6K1vfav27dunJz3pSZKkX/7lX9Z5552nWq2mt7/97frzP/9zvfjFL46P/ZWvfEVveMMblM1mCU8BAAAAAAAAEaACQF+9od2ozc9xQz/DMOQ4jtLptMrlstrt9ljHG8am93zihGbXgd2bgiBQpVJZNZ42mUwql8up3W7HgWqn0xnrPLMIns844ww9/elPl2VZMx9pG52v3W6r3W6rUqlIkjzPWzXut9FoqF6vT/TP0KwD1Lm5OZ133nn62te+pquuukq33nqrMpmM5ufndcstt+gDH/iAXNdVIpHQU5/6VP3t3/6tnvSkJ+ngwYM6ePCgJMlxHD31qU/VDTfcsOrYT3nKU7R///6Z3QsAAAAAAACw0xGgAtiVph1cRA3QXC43cPNz0ue3bVu2batQKAx2v697neY+9CFJ3XaoVtqhwzAMQ8lkUrVaTfV6fejnY3hrx9NaliXP85TL5WRZ1qp26k7euTnrQHGzcHjtuN9oF63jOBMb92ua5szfj5/92Z/V5z73OV111VX68pe/rCc+8Yk6efKkOp2OXv7yl8ePC8NQ+/btkyQtLy/rAx/4gO644w7V63UFQRD/gESE8BQAAAAAAABYjQAVAPpwHCcOL8dtAQ7LMAylUilJw7Ve5z70IZm9v/H970vnnjvw823bVjKZVLPZJDzdRp1OR9VqVdVqVZLkuu6qNmUU6A/Sppx1qDlLg95b7/hkSRMb92sYxsz31z760Y/WH//xH+uee+7Rt7/9bb3gBS+QZVmybVt/8id/0nf87kc+8hFJ0tvf/nb5vq9vfOMbev/73z/T6wYAAAAAAAB2GwJUAHvSOKFROp2WaZpqt9szD08ty1Imk1Gj0Yh3oG4lfeDAuv+Ybzm49cCBVQ1Vz/OUSCRUrVYHPm+vYfeUJpNJeZ6nTqcTtwFbrdaGx94pbrml++9LLhnvOMPcU7PZVLPZVKlU6tumjALV7X6dtqOBOsr5Bhn3u9nncdzzj8N1XV122WV617vepYc85CFxc/Siiy7Sn/7pn+q5z32uEomEjh8/rsXFRZ1//vmq1WpKpVJKpVJaXFzUX/7lX870mgEAAAAAAIDdiAAVwK60VXARBXrDBBymacbhZaVSUS6XG/cyhxLtwSyVSpK6IeNWcj3habDyj6GVEb792qcHDmh+5ZfhgQNaesxjlL7pJhmGoUKhIMdx+rbYJsn3fYVhqIWFBQVBoEQioXQ6vWkgOItdnls5fDgvyV35qq6nPa2j/+f/qeicc4Y7zjj3srZN6TiOPM9TOp2WYRjxrs8o/JtlyLdbAtS1+o377f08bjTud9Dz33HHHbrxxhsVhqEuv/xyXXXVVau+32q1dN111+nHP/6xMpmMrr32Wp1xxhmSpI9//OP64he/KNM09ZKXvEQXX3yxrrjiCn3xi1/UK1/5yvgY//E//kddf/31et3rXqdaraYHPOABeuYznylJes5znqPrrrtOL3rRi3Tw4EE98YlP1F/91V+N9ZoBAAAAAAAAe50RbndlBcBp49ixYxM7lmEYchxnw+9nMhlVKpWBR2w6jqN0Oq1yuRyPRs3lckON0F0rn89reXl5oMdGrddyuawwDGVZlpLJpMrl8qbPmztwIB7bG0palKQTJzY8d/7AAfXGo21JDdNUcuV1qkqyKpV4fOwwtnq9DMNQNpuNQ75Op7Ou4RsFgp7nSVLcxG21WnFoOC1zc3MqFosbto4PHz4g9QxJTiYl2w70jW+cUDY7+Hmi8cyjvMabMQwjfu1c11W73Y4/U7PY4eu6rhKJhIrF4tTPJXV/wMA0zbhJOg3RuF/P8+Jxv4uLiwqCQGeffbZ++tOfbvr8IAj0e7/3e3rlK1+pfD6vd7zjHXrhC1+ogwcPxo+57bbbdPfdd+vlL3+5vvKVr+gb3/iGXvva1+pf//Vf9c53vlNvectbtLS0pP/+3/+73vnOd2pxcVHXXnut3ve+98WfJQAAAAAAAACTRQMVwJ40zEjZVCoV7zudZOtxkJ9PMQxDmUxGrVZrVRC02fUbCwtK/a//JaNaVe8ZQmnVWN5e+ZWgtbPm8VVJmSCIR/6mJTVGvO/NXi/btuX7/qqAup9Wq6VWq6VyuRwHgr7vK5FIyPO8OHxd+9p2OtL3vmcrCKSLLmrLnsrfbqvP6XlSvW7qO9+xdMUVsx313E+0HzXaX2vbtvL5vHzfVyaTiXd9TitM3a0N1M30G/d77NgxfeITn1AqldLZZ5+tc889V4cPH+47+vruu+/W/v3741G7l1xyiW677bZVAeq3vvUtPec5z5EkXX755Xr/+9+vMAz1zW9+U4973OPkOI7OOOMMHTx4UD/4wQ90880363GPexzhKQAAAAAAADBFBKgA9qRBAtTe8HIarbmtxghHoWKlUlm3b3Gz6098+MMyT56UTFPtZz1LrRtvlC1po+5ntqd1aqsbokZjfmcRwUSjiYvF4sCNYOlUIGhZloIgULvdlud5mp/vDiHu3VX51a+6On7cVBhK//APCR050taDHtTW0aMdJRKhEonx7+MpTzmpv/7rbhBmmqbqdUOJRKBHPnL48HQWQWMU/kWhde+uzyAI4tdvs0B7GNsRoA7zeZqERqOhI0eO6Nprr5XjOPrKV76iL33pS2o2m3rJS16y7vGFQkFzc3Px1/l8XnffffeqxywuLmrfvn2SujuQU6mUSqWSFhcX9dCHPjR+XC6X0+/8zu/o4MGDeuMb3zilOwQAAAAAAAAgEaAC2KUG3YG6kc3Cy0HPMY6oUTlsqChJYSYjtduS40iuq8rx41KfezX+3/9X2Q99SGu/01H3P/7RAORQp7qVk4nSTkmlUrIsS8ViceTXM3pev3ZqtKsyDDvy/bbuuquj++4z9KAHSR/7WFI/8zMdvfnNobrdWkPSCd1772j38sd/LEknJUm33CJ95zuenvGMxlDje6Xt20va2z61LCsOU23bXtVO3S2T/Wcd2K49dy6X06WXXqpLL710Jue0LEu//uu/rssvv3wm5wMAAAAAAABOZwSoAPakzQLUZDIp13VHCi9HuYa1IY/v+wrDcNN9oZtdf/0FL5CaTZkLC6o/97l9w1M97Wma+5u/kaHVAakklebnNb+4uOrhiyujfy3LUnLM0cVSN2DyfV+dTkelUmkix+u1dlztQx7i6RvfSMq2PT34wd37qFYNZbNtSb4Ud3DPkHRckvSlLzk644yWzj13+Ou55BLpkkumv1d0WjqdjqrVaryH1XXdeFxyGIar2r2D2osjfMc9dy6X09LSUvz18vKycrncqsfMz89rYWFB+/bti9+XTCYT/35kcXExbl8DAAAAAAAAmC4CVAB71trQLQr1giDYNLyclLUhqGmaymQyqtfr4+2hdF3VX/GKTR9irISn0sq43lRKzVe9Sonf/33NLy4qXPn9aYjus1arqdlsTuksqx061NDTn95QGEq33upoednTJZd48v2M1u4ulaSf//l53XmnI8MIdfHFdT3oQaH+23+TMpmZXO5MDRL0NZtNNZtNlUolmaYp13Xjdm+r1YoD1c1+4IAAdb0jR47o5MmTWlhYUC6X0y233KJrrrlm1WMe9ahH6aabbtI555yjm2++WQ9/+MNlGIYuvfRSvetd79LTnvY0LS0t6ac//ake8pCHTOuWAAAAAAAAAPQgQAWwJ60NLy3LUiaTUbVaHTjU22qH6SCia3AcR+l0Ot5HOcxzRxGed550xx3dX0sqvuAFyr/97atC05a6Ieoko+ToPkulkjqd4XeDjsNaKZleemlLUkuNRlk/+pGtbgPVXHlUR77v6+67bSUSocpl6eabUyqVWnroQy1J+9R9xRYldUYe97tTjPIZCoJgVbvXtm0lEgnNzc3JMIw4TO3354gAdTXLsnT11VfrPe95j4Ig0GWXXaYzzzxTn/nMZ3TkyBFdcMEFuvLKK3XdddfpNa95jXzf17XXXitJOuuss/TYxz5Wr3vd62Sapl760pfKNM3NTwgAAAAAAABgIoxwtyw7A7DrHTt2bKLHc113w+95nifDMFSv1+V5nhKJhEql0lAjezOZjCqVyshjftPptBqNhhzHkeM4KpVKQwU++Xxey8vLI507n8+rfc45cu68U7XHP171T3xC8wcPylgJNUOdGtvbyzTNOAAd1tzcnIIgGHjfaafTGShkTaVSkhSPmx3F4cPdfx871t2deuGFWVUqpkolKZsNtLzc0amtsJFQUlsf/WhJF1/cUiYzmb8ufd9Xu92OA8ppmp+f1/Ly8sRGVRuGIdd1lUgk5LquOp1O3KhOJBIKgkC1Wm0i59pKPp8f6gcSJimRSCiZTK4azzuqQ4cOTeCKAAAAAAAAAEwSVQYAu9ZmIV3UHvV9X47jqFAoTHXf6UbXkE6nZRjGwKHiKKw77pD3f/+vjJ/+VFI35DJNU53bbtPSiROqf+ITkqTS9dcrtCyFhqHKb/zGRK8hus9CoTDwfQ7ajpzE63bvvd1/ot2pn/rUcT32sVX9/M9X9cAHSv0HMhiSbP3gB7bOPXdehw+focOHz9DDHia9+c1jX9I6J09KX/2qo3J5csecdEsz2o9aKBR04sSJeBR2NpuV7/tKJpPxDy/Mwk5voAIAAAAAAADYnWigApiZSTdQHcfZMKjxPE+pVErVanXkfaO+76tWq400itayLGWzWTUajZGbk4M0UM3vf1+ZV75SRqWi8MABlT/2MWUOH5YcR8uS1KdluhnDMJTJZFQsFod6fKvVkud5QzVmgyAYqD2YTCZlmqYqlcrAxx5GuSyVStKll+7XqZ8riv4dSqpISuvU1thog2xH99473Osr9W+g3nWXpWuumVOzaSiTCfWa15R08GCgxzympXGyyH379mlxcXEmYV8mk1EQBDJNU57nxWFrvV6fSkt0bm5OxWJx5qOipW4rOvrBjHHRQAUAAAAAAAB2HnagAthzXNdVMplUq9UaOTyV1u9RHVQ0MrjRaAwcHGUPHOjuIx0y8HS+8Q0ZlYpk2zJPnJB/8qT0oAcp2uYZHDigpSGPOahor2ylUokD1N3I97v/VKsdFYtLOniwI+mAukFpR1JyzTOiz8Tkhjh87GMJBYGUToe6915LX/6yp7POCtRsGnrCEwbb2dvPrJuS7XZbjUZDpVIpDlKjFnj057HRaEykDb4bdqACAAAAAAAA2J0Y4Qtg1+oXYKTTaXmep/IE5qCOEqCm02m5rhuPDB7k+fMHDshR9yda5g8cGOp8zSc/WcEDHiCz05HOPVfFgwdX/Yd9lP/ID3LNrusqk8moVCqp1WqNcJbhLC0ZKpcnMxb2jW/0dd55D9DDH36G3ve+hP7+7131riPtjvs9oXvvPam77lrS979/Ut0gNVj5JxLKNPu/wrWaoW99y9GxY/2/v/aze8UVdXU6hppNyTRDnXlmR4lEqOPHrZHu8dd+zdfhww+Q51n6xV/MjXSMYa0NFaN9qMvLyzpx4oQqlYosy9Lc3Jz279+vTCaz6R7jYc83SwSoAAAAAAAAwN5GAxXAnmCapjKZjJrNpiqVikzTHHsP4zABqmEYymaz8fmHfX58nDXn39KZZ0qf/rTqP/qRqocPS2taoMNGPIOcM5lMxuNLZxEi/dVfWfrWt1x1OobOOaelRCLUE5/YVCYz2rk/+cmULEuq1w295S05nXdeW4cOdXTDDesf6ziS44S6996TkqTbb5ee9KRuyP1f/2tNc3NzMgwjHlXbarXU6Uh//Mcp1WqGWi1Dz3teRUePdoPXZrN/QP2Yx3T09rcv6e/+LqGjRzu6/35LjUaoxz52tAb1pz99auTwd7+bkDT+qNmtbBUqtlottVotlctlGYYhz/OUTCaVy+Xi5mqj0Rh4JO92hpimac58pzIAAAAAAACA2SFABbDrOY6jdDqtcrkcj8wddfzuKGzblu/78SjbcWwWB82tjPntSCocOyYrkVAmk1G1WlXzwQ+OH7coaX7l1+P3cFeL9lwOuiN1Em6/3VYmI915p6EbbkjpUY9q6uUvzyrq137wg/frqqsGP57jdIPMVqv761wu1IkTlk6eDLS0ZOojH0mq05Ge9rSazjlndZh3/vlatfd0YeFUGJhKpeS6rk6ebKleN5RMtuW6of75nx0dPNjQM5+5TydOWDp+XJI8SWnde+9ifKzHP76txz+++441GpJtS9aQBdR3vzupL31p549SDsNQ9Xo93gNr27Y8z1Mul5Npmmo2m3GguhMZhkGACgAAAAAAAOxhBKgAdq0wDDdsQ04iQB3kGIlEQp7nqVgsrgtUwnDjEa+9FiXNrfx6qc/5wzDU3IED8TheW1Lu0CEZzaYajiNLknr3nJ44oabvq1arDdzm69XvnqOGb71e3zDUmlYbcP/+QMeOmTpxwtT+/R19+MOSZKnbsAz1ohcdWBVqbuV971vUb/1WTs1md/dpqWTojDM62r/f0Ic/7KnVMmQY0l//dVLnnLN1BL02DLQsW2eemdH99yfluoae+MSaPvIRR/fdZymZDNUNfrt//R4+fMbKfbRWhamjrJN929tSeu97MzJNQ64bqtnsvh/Pf/4g9yDddpujkydNPfaxDSXXrn0dwDiN0Ha7rXa7Hbe3Pc+T53lxYB+FqYPuFJ42RvgCAAAAAAAAexsBKoBdK51OyzCMDduQ0w5Qfd9XGIYqFPqPRx04xD1xYlVw2s/ao1iS5LpKrXydPHBAiycGDxGHETVsexu+s/SCFzT17W9Lf/EXNd11V17S5tfwwx9a+vznE8rlAv3Wb9UkdfeaRh7zmLZuumlBkvTP/2zpRz+y9LM/25RpzimRCNXpGDJNyXVHC8g6nbb+/b9f0vHjpvJ5aW7O1QUXJGRZpkwzVPfdjN7RqGLq6glPyOjZzw71spdVlEoNf+6/+7ukLMuQZXUD0Y9/fEG/+It5nTxZ2fK5//APjj73uaQcJ9Q//ZOj17xm+O7yJEPF3vapaZpKrLStbduO26nbiQAVAAAAAAAA2Nu2rkYBwA5VqVRUrVandvyNAlDTNJXL5dRqteLG3EbGCXF7z782LuroVAzXG8f1e+44PM9TOp1WsVjctvafbUu+H+iuu+bV/bkfT91XIJAU6q/+6lRwHIbSRz+aUqFg6rd+KyHpoKSDOnz4jJV/squO/bCHdfTUpzbl+92vf/mX6zpypK0HPKCt5z539M+WZUlnnhkomQxUr9f1mMcs6yUvKeoBD2irO6g5+ueUEydMlUqGPve50UbwXnttUVK3eZrLBXrEIwZ7v4JAuvtuW6lUKNeVlpYM7aRsMAgCVatVLS0t6cSJE6pWq3IcR7Zta9++ffJ9X47jzPSaCFABAAAAAACAvY0GKoBda9oBRr8QMtq3WiqVthyPO+719Z6/vrgoe35eLXWjw+a//IvmH/zgTXemjiuVSsmyrA0btmv1jhwe9PGmaSoMw02fE4ahXvQi6VRMbEgyde+99/d5bDcQ7HJ7nmOu/Dqlw4dt/e7v1vUrv1LT//7fof7zfz71/HRa+vf/vjbQ9a8976c/ndAPfmDr/PNbespT1jckf/3Xq/r1X6/qxS/O6vOfd9R9Jz1Fo4hf/nJXlUpb+fzGe3TrdWlpydSBA4HsNX+D/8IvtPS5z92vO+5wdeWVTSUSm19zsyn92q/l9ZOf2Nq3r6Nzz+0oCKRHPKKpUbL3WYWKrVZLrVZLnudpcXExDvkdx1G73Y7HTE9zR2n0uQUAAAAAAACwNxGgAsCAUqmUbNtet291I5Nqgbquq1QqpdLi4qrQdkHS/MqvF9c8Z9xzZ7NZtVotlUqlkY+xmSjcMgxj1XUGQbDqtf3v/93XDTekZVlSt7FprPy7f7vyrLMkKdnzuEhv+OroTW9q601v6u4fffe7Q3XDzI7uu2+0+/nhDy3ddJMn3w/1hS8kdOGFbT3wgR297nW+vvKVhN7+9oL+zb/pBqM33ijV6yU1m834+Xfeaenv/z6piy+29cu/nJZl+fEY2+hxhYKht789o3LZ0Oc+19HSUlpSqJtuOq6HPrR7nKNHpaNHm2svr6+/+RtPP/yho3Q61L332nre86p6whNampsbLXicRoD62c+6+su/TOk//IeSLrlk/Q8srN0/a9u2PM/T3NycDMNQs9lUvV5f9VpPgmEYUw1oAQAAAAAAAGwvAlQA2EAUQhqGoUwmo3a7veG+1c2eP875E4lE3AJdF06dOLEuOB2XaZqyLEvVanXioVNkbUi69vyRdjvURz+almkaarelAwdaOnFCMs26fvKTjUYnn6FTe0XXjso1V37dkpTQqSn2xsqvbR08OKd77z059D11OlrV2my3pec9L6u///u0JOm5z92n17ymrAc9qKOXvnT9848e7ejo0e7e0aWlbkDneZ6SyaRyuZza7ba++tW26nVDvh+uhKfd67/iigdIkhwn0F13Db4H99ChTnzNhiE96EEdzc/vnFDws5919Ru/MSfD6Ia9F17Y1vx8R//rfxW0b1//hne73Va73ValUpFhGHJdV4lEQtlsVkEQqNFoqF6vb9ke3wojfAEAAAAAAIC9jR2oAHatrQKMSYzQjfad1uv1qe5bXSsKfwzDULFYHPpeRglvHcdRNptVp9MZOTzd6pydTmfLe2m1pC9+0dG3v+3KMKQw7O7kPHIk1L33LvQNT3/7t6Wzz05r/TbYKBw11G2ZtiQ5Wt1ODXsea2kU557b0WMe01QqFeoJT2jo7LM7+uY3k6se893vOvrGN1x9+tPWQJ/der2uQqGgEydOqFQq6dxzQzlOQqYZNWwjpiRTrZalT31q8Gt+1KPa+tVfLeuss9p62cvKuuii8XbcbhQqFouG/vVfLQ1b2PzMZ7qvn2V1RxfffbelH/7Q0X/6T7mBAswwDNVoNFQsFnXy5Mn4hxCy2awOHDigXC6nRCIx0g85EKACAAAAAAAAexsNVAB71rA7OddyHEeO42h5eXmkcZ2jNlBN04wbr43G+l2a05BIJOR5ngqFgnK53EjH2GqPae9reM89ppaWTF1wQXtlPO8p7353Sv/8z92/nn7lVwL9zd9ImUxHH/xgQdbKg6O9qWEY6iEPSahWy+vU2N6NrqOpbvPUWPkn6HlO9O/RmomGIf3Kr6zenXrNNSW9971ZRWHnkSOBgqAbKPY6edLUG9+YlSS95S1F7d+//rPWbrc1P1/Wr/1aVXfc4eqP/qj3PRrsM7a42P3nIQ859XsveUlNL3nJ8DtfB/XjH1t617t8NRqGzjmnrWuvLQ+8X/VlLyvrb/82oUZDMk1Dvh/INKV6vfuzX8P+ue50OqpWq/EPQriuK8/z5Pt+HLY2Gg21WhvvoI0QoAIAAAAAAAB7GwEqgD1rnAA1nU7LNE212+2Rdx2O2gJNp9MqlUpxA3Xa5/Z9X5JUKBRGOtcg19L7Gn75y47+9E+TCgJDD394W6973epG6U9/aimV6jZw5+Yauvnm9WOTe3en1mo5rd5xGun0fF2X5K55XPTraKdqW/fdV9RW012/8x1Hn/xkUr4f6KUvrciypGw2XBcM/tf/WtUTn9jWl77k6uEPb+nWWz3lcoGuvnr141796rzuvrv71/ErX5nXn//5xoOZjxwJdORIXffeW9dFFyV06FBd3/ted4SvbQf61V/dv253qiQdPrxfp/7K7+iXfqmh5z+/qsc9brzWaa9OR3rzm33de6+jt71tSfPz0k03ebJtyXFC3X23pVrNUCo12J/HCy/s6AtfuF/f+Y6nkycNXX+9L8cJ9frXFycSYDabTTWbTZVKJZmmKc/zlE6n5TiOWq1W/Dr2+/M/7PkrlYo++MEPanFxUfPz83rxi1+sVCq17nE33XSTbrzxRknSs571LF1xxRVqNBp6xzveofvvv1+maepRj3qUnv/8549+4wAAAAAAAAC2RIAKYNcaZITnsAFk1P5sNBqqVqvKZDLjXOJQksmkHMfpv+90CqLdrs1mU/V6fSrnWBueSt0AspsddUO1MJTOPHNOp/5Kauq5z3VUrzf1tKcN0o7s6NRE+qhNKkmG7rrrfp177gNUryfXfL/3cdK9957Q3NyctlpxG4bShz+cUqdj6J57LD3/+fM6cqSjT3+6JcmX1Fm1Q/WKK5q64opukHn11d02cTqdU+806GLRkL1y66XS+s/rgx98hup1Q1deWdWHPlSKf/+7343es/vj31tYWL071bIsJZNJdUcTR8e29MlPpvWXf5nSRz96cmIh6rOeZenv/q4bxj/pSWfo298+rkc8oqXvfMeVYYSanw+VSPT/XAeB9KEPJfWTn9h6zWtKikrQZ54pPfWp3dftRS869Rk1jMn+z5cgCFSr1VSrdT9vjuPI8zzNzc3JMIxVofQo4e3f/u3f6pxzztFVV12lL3zhC/rCF76gZzzjGaseUy6XdcMNN+itb32rJOkNb3iDLr30UjmOo6c//em64IIL1G639Tu/8zu65ZZbdMkll0zm5gEAAAAAAACsww5UAHvWsAGqbdvKZrOqVCqq1+sjj+DtNejzM5mMTNNcte90nPNv9VzLspTL5VSr1daFp6OGt2vPGQRB3/beIx/ZUrUqlcuGjh7trDQ3bZ1qhbr67d9e0u/8TlGPe9zW41Q//vGyuuN4e8f3hjKMjv6//y+tet1cua61rdNAUiDPK490v/feayoMDX3pS5KUUfevVEeHDx/U4cMHdfXVG49C7n2Nf/VXKzKM7rW/8IWr9+yec84B1euWJFNf/GJaZ599UA972AN0550bH7d3d2q73ZZprv2r3pBpSkFg6Prr17cgR3X77d19pZbVfW8l6dJLW3rNa0p65jPrev3rS1p3KSt+93cz+oM/yOgv/iKpf/fv9m15rmmP0G21WiqXy1pYWNDCwoJarZaSyaT+8R//UX/6p3+qz33uc1pYWBj4eLfddpse/ehHS5Ie/ehH67bbblv3mFtvvVWPeMQj5Pu+fN/XIx7xCN16663yPE8XXHCBpO5/o44ePTrUuQEAAAAAAAAMjwYqgD1rmAAy2gFaLBZHHtk7iqjxWq/XZ7bv1HVdJZPJqd5rZ5M5uE94QktHj3a0uNjdgdrPwYP9n3/woNTdY1rXffd1f+/P/iyhX/ql1kqTta2Pf9xWLtfWsWMJ/dmfJSSFCsPu58A0Jc8LlUhI//iP9/c9x2YMQ3rRi6r6xCeSeshDpEbDUDcL6/2cdX99881JSevHIq/9TD7nOXVdfXVd5bKhP/qjtN7yloxe9KKKDh8OVKn0Jo6GOh2pUjH07Gcf0Le/fWKLa+2GjJVKRW98Y0VvecsD4uMEgSHTDPXKV3YD1kl8Dn75lwO9972WgkA655xT7+vDHtbRwx62+Vzk225z5HndXy8ubv2zXbPcQRqF0vV6XQ9/+MN1+PBh3XXXXfqLv/gLFYtFXXLJJfq3//bfbnqMUqkU7xbOZrMqlUrrHrO4uKh9+06Fx/Pz81pcXD3OuVKp6Nvf/rZ+8Rd/cQJ3BgAAAAAAAGAjBKgA9qxBA9RMJqMgCKa2A3QjvftO+wWO4zZQ1zcPT40J7m269jNOQLVZeBp54AMDPfCBQXwuqSXJWfnuct/ndMPTA+oGlBkdPBiFfk0985ndHZz794f67GcLuuSS7uPKZUvZbFvNZve1CIJuCHn0aDc4DMNw6Pu86KKWLrqopS9+0dN735vW0aOm7ryz/2jgtT77WU8//KGtn/1ZS494xKmQ0TSlP/qjtP7pnxyZpvSud2X0trcV9IIXlPXhD2fiY3ffF63bt7pWEHSboJFXv1p69au7gfGtt9r60IeSuuaali67zFIisX5M7Sj+5/8M9ZSnnNDx41Y8tnhQV19d1e//flbttnTxxVuPFJ5lgLr2vAcOHNA555yjSy65RK1WS8vLy5Kkd7/73Sr2mQH91Kc+dd0xRvlz3el09M53vlNPecpT9IAHPGDrJwAAAAAAAAAYGQEqgD1rqwBykPbnuCN8NzLIvtONQtBRZTIZdTqdviHP2vOOotFoyPd9BUGgZrOpRqOxZZhqmqby+byWlipqNJa3OMO8evebdvd6SpKno0drSqVCPf/5VX3zm456Q8wgMHTXXSfV6Ugf+EBCkvTiF9dXBVlhGMqyrE3ei+6u0kwmlGl2v/6zP0vJ90Odeaa0vNzR0pKp7ljg7nWl06vv/dvfdvShD6Xl+6a+85203vGOpubmTp2vVuuO1jUMqbUyufhtb6voJS+p6EtfSujmm13ddFNKrhvqz/+8f/s0CKSrr96nu+6yND8f6r3vDdRs2jrvvHYcul58cVsXX9xtQFYq3VajYRhxMzmXy6ndbqvRaKher/dtp950k6WXv3yfzj67pc9/fin+/Qsv7Ki7k3Y4/+7f1fXYxza1sGDu6AB17bkdx9GBAwckSa961as2fE4mk1GhUFAul1OhUJDv++seMz8/r9tvvz3+enFxUeeff3789Xvf+14dPHhwXSALAAAAAAAAYPIIUAHsaluFpBt9z3VdpVKpDduf0+T7vsIw3DLIHEfv6zKLMcG9Y05N05TnefFe1yhMbbVaOngwr1NN07aaTUOlUkmt1sa7Tg8enFP3r6uNxswaesMbKjpyZL/e8hZfp3ahdlub/+2/dcNCy5Je+tJ63yPk83k1m00ZhhEHqdE/rZb0X/5LVj/5iS3f7+iv/9qTaUpXXNGUaRq67z5T+/dLj350U0Egvec9J5VMrg/3fvpTS9GO1kbDULlsam7u1Gfvoovquv76eeXzHf3hH57ay3ruudK559b18pfXJW3+mfnSl1x9//u2XFe66y5D11xj6fDhrH7+5xt62csqGz4vDMO4gSp1d216nqd8Pi/TNFe1UxsN6fnP7zZ8b7/d0kMecoae97y6XvYy6ayzNr28TZ19dqCzzx5slPB2BqijjDy+4IIL9M1vflNXXXWVvvnNb+rCCy9c95iLL75YH/nIR1Qud9/77373u3re854nSfroRz+qarWqV7ziFePfAAAAAAAAAIAtEaAC2LM2anCmUinZtr1p+7P3GONeQ2TYIHOcEb4R27bl+77K5bLa7a2bfb3nHfTegyBY9dggCFSr1VSr1SR1w+pEIqFMJqNuOzO6J1vLywubhlEHDyZ0KnA9FUB2/23Gv/7Xf1U8pjc6fiIR6ujRtq65ZuNxsoZhKJ/Pq1arqV6vr/r96LX/p3+y9IMfOEqnQ33600lFu0g//3lPnmfoAQ9o6/DhjhoN6eDBQIlE/9ft3/7bur7yFU9LS92w9YEPPBWe1mrStdfuU6tlqFIx9L73pXXppcsbXvdGzjwzkL3yN3sQGMrnQ6VS0u23D/fXfbvdVrvd7ttOve22tnobvrWapX/5F1u/+7uW/s//UXz+adopDdRBXXXVVfrABz6gm2++WfPz83rRi14kSbrnnnv0qU99Sq94xSvk+76uvvpq/fZv/7Yk6dnPfrZ839fCwoJuvPFGHT58WK9//eslSb/wC7+w5d5VAAAAAAAAAKMjQAWwZ60NOQzDUCaTUbvdnmr7s59o3+kwQeY4wjCUbdvxvtNhG3ODGqS922w2e/ZqHlj1vWQyqUajoXa7reVl6fnPz2tpydSv/mpVb3pTXVJizdF6A+W6pFD33VdSN49evX80lZKOH7cUBN0do2tZlqVcLqdyudx37+cPfmDpxhsTOuusjtLpfrtNTXU60r332nrVq5aUyRh60pMaG+4nTSal//E/Csrl5lQuV9X70p04Yand7l5nEBj63vec/gfZwsMe1tZ/+k9F/cVfpJTJBApDR7WadO65o3/m1rZTH/hAW5Kn6PXw/VCWZarV6o4QngXDMKb2mR7k3MMGqOl0Wq9+9avX/f6RI0d0+eWXx19feeWVuvLKK1c9Zt++ffrYxz422sUCAAAAAAAAGAkBKoBdbbOWZu/3LMtSJpNRtVrtG5ZtdfxR225hGCqZTMp13YEar/3OPYpkMinTNLW8vDzS8wc572ijjxvqhm+SVFe73Y4bwS95iaF//mdT5bL0pjdlJGW1dhxvb4h5332nQnDPk571rIpuvDEtKVQmIzWbho4cCfqGp47jKJPJqFgs9g20q1XpzW/2Va+b+vSnQ91zj7MSDq4PUsPQkO8b+qVf6j8eeK3e6zl8+AydatIG8a9f//rRA/4XvrCmF76wJtO0dNddOS0uFnXRRZML7dvttn784/v0G7+R1SWXtHTnnUlVKrZ+6ZcMPeABc313py4vG/q938uqVDL07GfXdNVV442S3m0NVAAAAAAAAAC7CwEqgD0rCiA9z1MikRipiTlugGpZloIgUKFQGPq5owSoUcu20+mMFfpu9f1hX0fDMJTL5VQoNFSrnQoHGw3FzcZabU6GYa195tqzr/x7fVj57ndX9e53VyVJn/ucox/9yNaLX1xb9zjP85ROp7W8vLzhfZRKpmo1Q6Yp3Xmno06n+2vTlBKJQK7bfW8qFUNnndXRL/9ya93u1MGYPfcY3XuofH7rgPHw4f069dd4R497XFuvfnVRV1zRDbZN09AjHhFoeXm88PQnP7H0wx/auuyy5koTtxtYv+c90ftYk2mayufzKhSKSiQS8e7UZrOper2u973P1Q9/aMuypA98IK0rr2z0DbYHRYAKAAAAAAAAYJrG+L8vAWBnC8NQjuPIcRwVCoWRRn6OGpSYpqlcLqcgCFStVkc6xrCikbT1en3VPs9JGiU8tSxLc3Nzqlar8V7Ufv73/y7o0KG2pI2brffdd0J/9mfLetKTTP3qr+b0L//S/6+xJz+5pVe9qqZUavXvp1IpJZNJLS0tbXofZ5wR6KEPbatY7IamhtEdTxsEhi64oKMjRwL9wR8Udc89J/S1ry3KWsk+DcOQaZqyLEumaW7ajt6Yod/8zX2bfD9iqxu+GpIsffWrCT3/+Qf067+e05/8SUpDFK03dPvttl7zmrze+taMfv3X8xseMwoVO52OKpWKFhcXtbCwoEajoWQyqbm5lCzLlmFY8es5ju0MMU3TJEAFAAAAAAAA9jgCVAB7kmma8n1fklQul8c61rAtUNu2lc1mValU1Ol0Rh7DO0wDNRpJWyqV1Gw2xxr/u9FzgyAYOjx1HEe5XE7FYnHL0ckHDwb6+79f1H33LUhqqds2XX2++fl5/emf5rS0ZOunP7X07nenB76WTCYj27a1vLy8ZQD2d3/n6nvfc9RoGLryyqby+UDpdKAHPaitIJASie6+0c30hqlRoBr9/ik1nRpTHAn1ilcsDHxfK2eL//3JTyb1sY+l9D/+R3rsoO/v/95Tq2UokZDuv9/SiRNrG8IrZ+0TaEa7UwuFgl7wghO65JKafuZnOnrTmwwdOLBf2WxWruuOdF3b3UDdrv2rAAAAAAAAAGaDEb4AdrV+IYrjOEqn06pUKkomk4MdqNGQV6ypkUlKCS/+7WGDyEQiIc/z4nHB4wSZg0omk3HLdlqhUnQvw0gkEkomk5uOyt3Iffctxb8+eHBO3YBwUYuLkmXlFYa2TNPU/LypdDpQo9Hou8s0ksvl1G63ValUBjr/TTe5kgylUlKhYOi2207KtqUf/MDS3/yNpyuuaOjo0eHHGHueJ9u2ZRiGDMPQvfcWJHXHO59//j4VCrae8pSKXvayrY/30IfW9MMfRp/vU5+xAwcCOY50332WNmvzDuKqq+r6/OcTKhZNPfjBLZ1xxsbH2+zzkUyGetObTo1uXlgw5Lqukslk/N40Gg01Go2Bd+sywhcAAAAAAADAtBCgAthTksmkXNeNA8zU2hmu/TQayv3opzIlJY4vq3DkoJRJSBouQI0ar2v3nU6zger7vsIwVLFYXPX74wa3vc8dNNBae12WZWlpaWnrB2+hN0yVpDe9qajrrksrmQz1G79RVafjKpVKybZttVotNZvNeK+qYRjK5/Oq1WpDjTW+4oqmvvlNR7WaofPOC2Sv/G15zjkdnXPOaCOZo5bw8vKyJMWN1Ghn6u23D946XVqSfvrTpFy3G+YdOtTUfffZuvTSulotW4Yh/dIvNRSG/Ruj995r6l3vysj3A/3mb5aVTPYPBB/60I7e854l3X23pQsuaMlx+l/PsJ+1qJ0avU+WZSmRSCiXy63anbpRa3naP5SwGQJUAAAAAAAAYO8jQAWwZ2QyGQVBsCrAHCRo8Yq17jxz05AZhEosLKmeOVPSYEGkaZrKZDJqNBrrQrpxg5aNzm0YhrLZbN9zjiu65lH2nUqn2p5rg+RJOXIk0P/8n6X4696dr47jyPM8pdPd8bWWZalcLg/9Gl15ZVNnn93RT39q6rLLWmNfs+d5SqVSfdu4URs1EgWqm312qlVTnU60S9TQoUOhvvrV+yVJ5bIh05TyeUdS/wD1jW/M6557LAWB1OkYevObi30fJ3X3wZ5xxuafg3FDxWh3aqVSkWF026lRoNqvnbrdI3wJUAEAAAAAAIC9jQAVwK4WhWS+76ter8eNtmE0Mkklji/LDEKFkurpxKrvx+FWq6XMXfdJkkoPOig5jmzblu/7KpfLfUfIjruLtB/LspTJZFSpVNRq9Q/3xm2gOo6z5c7StUzTVC6XG7rtOUmtVkutVitue9ZqNSUSCaVSqbiZutFrttaDH9zRgx883ghcqduK9jxvoN2r0upAdaMw9fDhQE94QkNf/7qrVCrUO9+5HH/P98P4OBudr17vhq+mKS0tjd/mnGSoOEg71bKsbQsxTdMkQAUAAAAAAAD2OAJUALua67rKZDIqlUojjZqVJCU8FY4c7DZP0wnpwFz8rd6gZP4H98abJud/cK8qj3yYEolEPC54I5MapSsp3hu51TnHUalU4sBKUhw8brZj1LZtZbNZlUqlgQPKadmo7Rm1GjOZjDqdThzSTTMM831fpmnGY3uHtVk79f/+39HHI7/gBVV94ANpuW6oV7yiPPJxZqG3nSp1399EIqF9+/ap0+nEPzgx8p//IRmGMbU/ewAAAAAAAAB2BgJUALtaNCp27BAsk4jH9vbarMnpOI6C735fc5WGQsPQ8s+cqSDhrnv+pKRSKVmWpWKxOHCTcVhBECgMQ1WrVVWr1Xicau+O0UajsaqdGo3MLRQKMwuxNpJKpeS6bt+2Z7PZjK/btm25rqt8Pi9J8T1tFhIPK5vNKgiCdftpxzFIO7XXRt97+tPrevrTJ9cSnuVY20ajoSAIdPLkyb7t1N726jQwwhcAAAAAAADY+whQAexqnU5HpmlO7fhhGMbHD0zJWimehaah8vKy9lUaMiQZYajsPce1fM4D1z1/nAaq1A1sfN9Xp9NRqVTa+gkj6hd+rh2nGu0Y9X0/DlsNw9DS0tK2h0qZTEaSBmp7tttttdvtOCSOQmDLsvqGxMMwDEO5XE7NZlPVanWkYwx6ns12p477uRv2Wrbj/e/XTvU8L96HPI12KgEqAAAAAAAAsPcRoALY08YNOnoD0PKFD5F/sqhmq6nqgbzUM8YzlBRY64Pc3gB2VNlsVrVabeRAbythGA48kjTaMRpdV7SLMp/PDzTqd1qi848SWIZhqHq9Hu9tXRsSRwHyIK+RYRjK5/Pbsgd2bTt1mj9YsFOt3Z3qed7E26kEqAAAAAAAAMDeR4AKYE+LAtBxAo+ooZhIJFQMglNBmmmqfEZe6ZMFBbal4oMOTuiqu2zblmVZKhQKUwslhwlPI70Ny2g87dpRv+12e+qjVCXJNE3lcrmJBpa9IbFpmvI8T9lsdlUI12/Pq2VZyuVyKpfLUwu7B+U4TjxWOQq5p7m3cyeGip1OJx5FLU2unboT7xUAAAAAAADAZBGgAtjVtgoyxg1QwzCU4zgyDEOFQmHd9xsH8mocyG95/mElEgl5nqdOpzO18DQawTuMKCSsVCqrwtGNRv2m0+mhW5zDXkupVOobaE5CEASq1Wqq1WqSFAfpmUxG7XY7DlQty1I2m1WxWNyWBm4vx3GUyWRW7aQ1DEOWZUkabHfqsAzDmGpAOwmTaqcSoAIAAAAAAAB7HwEqgD1tnB2khmEonU4rDEOVy+WZnT+dTseBbT6fH+m8WxklPI2CuUFCws1anNF+0XFCz34h4Sz0hmy2bcvzPM3NzcmyrDhk3U6u68r3fS0vL28YaK4d9TvpMHU3GLWdOkp4WqlU9MEPflCLi4uan5/Xi1/8YqVSqXWPu+mmm3TjjTdKkp71rGfpiiuuWPX9t73tbTp+/Lje/va3D3V+AAAAAAAAAMMjQAWwp40aoFqWpUwmo2q1Ks/zpnBl6xmGoUwmo1arFYdx0wi2RgkcE4mEksnkpsHcRnpbnNGo32QyGbc4o0B10Hsd51omqd1uy7Isua6rhYUFua6rdDoty7LUarXi+5oVz/OUSqW0tLQ08GvZG6ZKowequ72VOWg7dZT7/Nu//Vudc845uuqqq/SFL3xBX/jCF/SMZzxj1WPK5bJuuOEGvfWtb5UkveENb9Cll14q3/clSV//+teVSCQmcKcAAAAAAAAABmFu9wUAwDSNEqB6niff91UsFtVqtUZusA5z/mgcbe+42EkLw3Ck8DSdTsvzPC0tLY0dWEajfovFohYXF1Wr1WTbtubm5pTP55VMJmWaG//VlEqllEgktj08ja6lN8it1+sqFApaXFxUvV6X67qan58f6L7GlUwm42sZd9+vaZqyLEumaQ782Z9lgDrtc0Xt1MXFRZ08eVKNRkOe5+k73/mO/uRP/kSf/exndfLkyYGPd9ttt+nRj360JOnRj360brvttnWPufXWW/WIRzxCvu/L93094hGP0K233ipJqtfr+vSnP62rr756IvcHAAAAAAAAYGs0UAHsacMGqOl0WqZprtp3Ou0A1XVdpVIplUqldQHnODtce58ThuFIgWMul1On0+m7/3USolG/lUpl3ajfqPkXjfrNZDKSpOXl5alcyzB835dpmhteS+8I46ilutF9ve99SX3hC54e+ciW3vCGytDXkkql5DjOxF+XSbVTd7uoffrIRz5SD3nIQ3TnnXfq4x//uAqFgi677DI94QlP2PT5pVJJuVxOkpTNZlUqldY9ZnFxUfv27Yu/np+f1+LioiTpox/9qJ7+9KfLdd0J3hUAAAAAAACAzRCgAtj1NgspBw1Qe8fnVirDh1hbHXsjyWRSjuOoUCj0DabGCVB7jzFseGqapnK5nOr1+sx2e2406jebzcowDDWbzb7h06xls1kFQaBisTjQ4zudzrr7SiQSymQy+sd/7OgP/sDV0pKpb37T0SMf2dKTnzz42N8oyJ1WwN1rs92pe6mBupn9+/fr6NGjuuiii9Rut+PPwLvf/e6+n4enPvWpq75eG0pv5a677tL999+vF7/4xTp+/Ph4Fw8AAAAAAABgYASoAPa0QQLUaN9ppVKJW4G9xm2gbsT3fYVhOHAQN8q5Pc9TvV4f6nm2bcdNuX6vxyxEo35brZZyuVy8f3Jubk5BEMT7RUcZSTwqwzCUy+XUbDZVrVZHOkZ0X9G+zZMnE2o0ujt2m01DlUpCltUZ6L6GDXInaW0QaFnWaRGg9p7btm3Nz89Lkl71qldt+JxMJqNCoaBcLqdCoRDvNe01Pz+v22+/Pf56cXFR559/vn7wgx/oxz/+sV796lfHTfA3v/nNevOb3zzZGwMAAAAAAACwCgEqgD1vswA0ajkWi8UNW5rjtj/Xnt80TWUyGdXr9ThIG+b5gyoUCkokEvH40Gh0bLvd3vA5ruvK930VCoWZhpP9RHthe4Pc3lG/mUym70jcaTAMQ/l8XrVabehAejMXXljXM5/p6JZbHP3Mz3T0nOc0lU77sixLrVYrDorXyuVyarfbE29LjyIKBIMgiIPUaY763SkB6qAuuOACffOb39RVV12lb37zm7rwwgvXPebiiy/WRz7yEZXLZUnSd7/7XT3vec+T7/t68pOfLEk6fvy43va2txGeAgAAAAAAADNAgApg19tqhO9GUqmULMtSsVicaiDTe222bcv3fZXL5U2DzHH0juytVquqVqsyDEOe5ymdTm8YziWTSSUSCS0tLW37nsvNgtzeUb+S5HlePBK33W7H9zWpe4iC3HK53DfMHIdhSH/wB6fGErfbUqHQDWgdx5HnefJ9f1XrNpPJqNFozGy08maivbS9Ldi17dQgCCb6edptAepVV12lD3zgA7r55ps1Pz+vF73oRZKke+65R1/96lf1ute9Tr7v6+qrr9Zv//ZvS5Ke/exn922qAgAAAAAAAJgNI9zu/5ccwGnj2LFjUzmubdsyTbPv9xzHkeM4q0au9u47HSSEyufzWl5eHvn6oudHQV+pVBp4J2k6nd6yNdpr0H2nruvG/3Q6HRmGsW3jYNdKJBJKJpMqFApD7261bVue58l1XYVhGLdTR23TRuOMi8Xi1ALvQViWFQfgQRCoXq+r2Wxu24hlqRuehmEYtyYHMYl2arRDdjs+q6lUKt5ZPCmHDh2a2LEAAAAAAAAATAYNVAB72tp2arTvtFqtTrxNuJmo7Tps8DLMCN9Bw9MgDPT5f/m8lupL2p/ar6c+/KmSuq/N3NxcvKNzO0b4ptNp2batpaWlkZ7fbrfj0bbjjvrdSeOMwzBUIpFQoVBQq9WKR09Pq3W7lWw2q06nM/QI4d526qhh6nY2UE3T3PZ2NgAAAAAAAIDpI0AFsOttFmj0BpBR6FQqlYYKxMYJTAzDiNuxpVJpi0ePbpgxqfdX7tdCfUEZL6OKUdE9J+9Rzu7uSd2O/aKRbDarMAwn1u5bO+o3ai5GoWN0b/1et6gFuxPGGffbBRuF3NKp1m0qlVr1vWmFvrlcTq1Wa1WrexRrR/0OGqhu9wjfYVvRAAAAAAAAAHYfAlQAe1oUoKZSKdm2PdK+0+gYwz7PNM14zOmoYdMgDdRhg7KUnZJhGkqn07p/+X5ZgRV/b23ouLCwoK8tfk0vvOyFU2s6GoahXC6nZrM5dii3mWazGbeOo9Axn89LWh06plIpua6r5eXlbQ9PBxkhvLZ1GzVnN9p1O458Pj+1/auDtlMJUAEAAAAAAABMGztQAczMtHagWpYly7L6fs80TeXzedXr9ZHDuUwmo0qlMlRw4jiO0um0SqWSMpnMyDtUk8mkOp3OhgHYKC1Dz/N0snVSt997uw77h/XAzAP7Pu7wew6ro1PHd+XqkQcfqS/96pcUBEEcOo4TKEXvT6VSiRuVsxaFjp7nyXEchWGoYrG4rftFpe5nKJPJjDVC2HGceCds9Dka5T2LQu56va56vT7StYyjN1CNmrbTDNs3Mqn2bS92oAIAAAAAAAA7Dw1UAHuWZVnyfV9BEIwVeAyzh1Tqjn/1PE+FQmGkHY+DnHvQfadrpdNpOY6jbDOry868bNPH9oanktRUUzffd7My/yOjn7zyJ/I8T9lsVoZhxMHcRi3JfqJ2Ze9o2u0QBIHq9bpc11W9Xlez2YxH/XY6nTgonuXPG0Ut0uXl5bEC6larFb+2lmXF75lpmnEzdavX3jAM5fN5VavVbQu5e9upjuPMdH/x2uvg584AAAAAAACAvY8AFcCu1y/QcF1XqVQqboDOSjqdlmEY6/Z4jhq89AtQRw1Ps9msgiAYuQ0baYSNVaN+DcOIX2/btgcaGxsFhOO0Kyclalf2jqYdZNTvtExr/2qn01G1WlW1Wo3fs2QyGe+E7TeeeSeEp71SqZQsy1Kz2Yxb56P+eRgFASoAAAAAAABweiBABbDnJJNJOY4TN0DHNUgD1TAMZTIZNZvNdSNOJxm4BEEw9PGiEKxerw+1u/Izz/yMfvGTv7ju902Zq74OwzAOFqVTY2N93+/b4JxWQDgK0zSVy+U2DAg32y8a7VSdZBsymUzK87yp719d+55FQXE0HrfRaKjVaimTyahcLm9b47NXKpWK/1z3MgxjVZg6but7M6ZpsgMVAAAAAAAAOA0QoALYMwzDiEO7YrE4seNuFaBalhXvSe03DjV6/qgNVNPsBpajtB4ty1IulxspBHvkmY/Ufa+4T5L04X/8sH7zH35TB72DuvUlt276vH5jY6MGZ/QaLC0tDXcjUxC9NoOOEI5G/UYBebQ3daOgeFjpdFq2bY/dEB7F2qA4kUgon88rCAJ5nidJ2xqibhSertU76ncaYSoNVAAAAAAAAOD0YIT8P4EAZuTYsWNTOa5hGPI8T5lMRrVabV3Qk8/nxwqlksmkOp1O3wApGoNaKpU2bKb5vq9arTZSAOq6rlzXVbFYHDq42UljciXFuzfDMIwbnFHTcdai/avFYnGova0biYLiKGwcdtRvNGa6VCqNfS3jioLl6LWJPoOu68Z/DhqNxsyamFGwvFV4upVJBKoHDhzQ0tLSRD4zkUOHDk3sWAAAAAAAAAAmgwYqgF0vCsNKpVLfwGrcnxPZqIEajQoeJdwcVLPZlGmampubUxAEcTC3VXiVTCaVSCR2xJjcfjtGpW7Am0gkNt3BOQ1RsLy8vDyxEHDtftGomWpZ1pY7YaPdtOVyeSLXMo614amkVWOKo6A4m83KMIw4TJ1koNgrnU7Lsqyxw1NpMu1UGqgAAAAAAADA6YEAFcCu1263J7bvdFCZTEZBEAw0KniQHaobPS8IAlUqFVUqlTi8yuVykjZuOfq+L9M0d8SYXNM0lc/nValU1u0Y7Q3mendw9u7nnHTLcRb7V8MwHHjUby6XU6vVUrVancq1DCP6QYTNGstrg2LXdZVKpWTb9sRD8Cg8neQ47khvmCoNHqgSoAIAAAAAAACnBwJUALveVsHHODtIe58vdQPBTCajer2+LhAc5PmDCoJg3fVu1nKMwshkMql2uz2V0GlYw4zJXbuDM2o5mqYZB47jthxTqZRc1515sNyvwZnP52Xb9qrvbSfHcZTJZIYa99wbdEvrQ/ConTrK+Ohphqf9DNpONU1zZqOLAQAAAAAAAGwfAlQAe94kAlTTNGXbtnzfV7lcntrIUql/eNrvmnpbjolEQtlsNv6e53kDB7zTMM7+1SAIVKvVVKvV1rUctxqHu5GolTvOLtxJ6HQ6qtVq8jwv3ncahYWj3tu4ovB03JHGa0Pw6DPQG/APcm+zDk/XGrWdCgAAAAAAAGDvIEAFsOeNOkK39/m2bct1XRWLxaFDpmHOP0pbz7ZtpVIpFQoFtVotOY4jz/OUTqcVBEHclp1VADTJ/atrW47RvfWOw202m5u+J9GO0Z3Qyo1GGpfL5ThMjELwUe5tXNPYBysp/txtNsa43735vi/DMHbEexWJAlXXdbf7UgAAAAAAAADMCAEqgD1v3ADV8zxZljVye3GQ80f7Tke5tnQ6varp2Wq11Gq1JK0eGSttvDd1UqLG4bTG5Pa7t412whqGoVwup0ajoVqtNpXrGYZlWcrlciqVSvE99Nrs3qJxuJNsPkfjdqe5DzbSb4xxNpuVYRjxvSUSCRmGETdzdxLHcZTL5bSwsLDdlwIAAAAAAABgBoyQmXQAZuTYsWNTO/Zm7bBUKrUqnBqUYRjKZDJxIFepVEa6tkQiETcp+xk1PI12ehYKhYECsGhvahQIR8HVsK/LRqKmZ7lcnsjxhrH23qImbqVS2dZRxpFoH+woI42je3Ndd6wxxr0SiYSSyaSWl5e3dTRt1OyMxvZGIXiz2dwxI3Mdx1E+n9fi4uJUxisfOnRo4scEAAAAAAAAMB4aqAD2hM1anqM0UC3Lku/7qtVq6nQ6SiaTU7m2Qfad9pPNZhWG4VCt2LV7Uz3PUzKZVCaTUbvdVr1eHykgMgxD+Xxe9Xp925qevfdmWZby+bza7bbS6bQ8z4vD4u0I5cbdMbr2fesd9RsEQRw6DnrsZDIpz/Om1hIeRhiGchxHrVZLi4uLsm07bsaGYRi/b9NqTG/Ftm3lcjktLS3NfDctAAAAAAAAgO1DgApgzxs2QHUcR+l0WqVSSZ1OR6Zpjr1D1TTNdb8/SngajaVtNpuqVqsjX5OkLXeLDhI49tvpuZ16m57RuNsolMvn83ETuNlsziSUi8LASe4Y7Tfqd+043I1G/Ubh6ajjqCctk8koDMN4bG+73Va73ValUpFpmvFnMmpM944CnjbbtpXP57W8vLwjWswAAAAAAAAAZocAFcCeN0yAmkgk1o3FHXeHqqR1zx8lvIt2aE4jrBxlb2oUVhaLxYnu5hyV67ryfX9dWNkvlMtkMjJNc+JjjHvNYkxup9NRtVpVtVqNx+GmUqm+o35TqZQcx9lx4elGI5+DIFCtVotbza7rrgv5m83mxILpXlF4WigUCE8BAAAAAACA0xABKoA9YauQc5AA1Pd9hWGoYrE41LEHubbeX48S+ERjYGcRVvaGcv0Cx3q9LtM0+4aV2yUKK5eWljYNK9eGcmvHGPe2cscR7aed5ZjcqF3br1VsGIaCIFChUJjZ9Wxmq/C0n972aRTy53K5+HubNW+HEY2ALhQK8dhkAAAAAAAAAKcXAlQAe94g4Wo2m1Wj0ZhKYBKdf9TwtLfJOOuwsl/gmMlkZNu2Go2GbNve9tG944SV/QLHdDo90m7RSDqdlm3b2970jFrFvu/LNE21Wi1ls1mZphnf23Y0h0cJT9farHkbBeHNZnPo5q9lWZqbm1OxWCQ8BQAAAAAAAE5jBKgA9rzNQhTLspTJZFSpVDYd4zpOAzUIAjmOo1QqNfS42Gj/4yybjJtxHEedTkdLS0sj702dpCgcnERYOc5u0Ugmk5GkHdf0jFrVtVptw8BxFqNqs9msOp2OKpXKxI7Zr3nruu6qIHyQnbe94Wn0AwMAAAAAAAAATk9GOMv/pxvAae3YsWNTO7ZlWbIsq+/3bNuW53nrQhvXdZVMJlUqlbZsGebz+ZFDuiAIFIahXNdVIpHou5+yn1wup06nM1ZTb5I2u54ocPQ8T2EYxqN+p9mYzeVy8W7TaTIMI743y7I2fO+mEQ6OY9DriYJw13XHat5O6nomKRpB7XnepjtvTdPU/Py8SqWSqtXqzK5Pkg4dOjTT8wEAAAAAAADYGgEqgJnZrgDVsiwlk8lVwV8qlZJlWSqXywM1JnO53Eitwo1ab72h1dr2pmmayuVyqtVqO2KMqGEYyufzqtfrAzXz1oZWkx4XaxiGcrmcGo3GtjQFXdeN/4neu0QioWazOfPwbSO5XE6tVmvo6+n33jWbzaFa0/3slHDZdV15nifHcdRqtfTlL39Z55xzjs466yxVKpVtuT4CVAAAAAAAAGDnYYQvgD1v7Q7UTCajTqejUqk01XNu1uDrHRcbNWTz+bykbuBbLBa3fbdodC25XE7lcnng6+ndm7p2XOwgzdvNROFytVqdycjZfprNZnz9tm0rl8tJ6u6Hlbp7VbcaFztN+Xx+5HC533uXTCaVyWRG3i26U8JTafV7FwSBisWiPvCBD6jZbOqcc87R+eefrwc+8IFjjewGAAAAAAAAsPvRQAUwM9NsoJqmKdvu/zMhhmEok8moXC4rk8moXq8PHb4N00DdKjzdiOu68n1fjUZDjuPIMIy4vbkdgZxt28pmsyoWixNrj27WvN1KFOaWSqWxG5GTsDbMNU0zbjhalrXhuNhpiZq59Xp9Ks3laLeo53kDj/odtQk7C4ZhaH5+XtVqVcePH9f3v/99/dM//ZOe/vSnxz/MMAs0UAEAAAAAAICdhwAVwMxsV4AqKQ5EyuXySGHgoAHqqOFpKpWS67oqFApxmLh292a0V3RSYeZmPM9TOp3W8vLy1PaYRs1b13UVhuGmgdw0wtxxmKapfD6/aZjbOy521PbmoKIxy7Ma+zzIbtGdHp7Ozc2pXq9PtYk+CAJUAAAAAAAAYOchQAUwM9sVoHqeJ9/3tbS0NHIYmM1mVSqVNg2/giAYKRzLZDIyDEPFYnHTx0WB1SRG4W4mmUzK87xVYe60bbY3NWrmTjPMHUbUhB0mzI3C4mHam4OKwtPtGmscjfqNPpvtdluWZanRaBCeDoAAFQAAAAAAANh52IEKYE9Lp9MyDEOdTmessCrao7pRoDjKiN1o5Gqz2RwoaIpCN6k7TjWRSMj3/Ym2G33fl2maWl5eHus4w9pob6rrupKkYrG4I8LTqAlbKBSGes/b7bba7bYqlUocFmezWRmGEbc3R2nWRk3YYXbUTlpve1jqtr3DMIzbxdFnczv3wkai8LTRaOyI8BQAAAAAAADAzkSACmBPWBscRntPW62WarXa2DsNowC13++PEuxFwVelUhmpNdhqteJxqVG7MZ1Oj9VuzOVyarfbWzZhpy0K5CzLkmmaqlarcYt42qNwNzOpJuxGYfGwzeJBxgjPWi6XU6PRUK1Wk3SqWZzJZDYc9TsrUVO32Wxu+2ccAAAAAAAAwM5GgApgz7EsS5lMRpVKZapBzajhqeM4ymQyE9vn2dtutCxLnucpl8tJOtVa3az9N+v9mYOIxhpHTdgoUIzC4lQqteXe1EmKzrm0tDTR4HZte9NxnDgs7nQ68ffWnjMaI7yTwtN8Pr8qPJVWh8VSN4ROJBLKZDIzD8Pz+bza7fZAu4wBAAAAAAAAnN4IUAHsKY7jKJ1Oq1QqTXRk6NoG6qjhaSKRUDKZnNo+z06no2q1qmq1KsMwVrX/eveKRqIgbjtHwK4VNWErlcq6701rFO5met+zaQd9vc3iKAyP2tO9QeuwO1inrV942k+z2dwwDI/ev2mM+o3C01mPpgYAAAAAAACwOxGgAtgTwjBUMpmU4zgqFArrgq5xg6/eADUIgpGOl06nZdv2TII4qXvN9Xpd9Xq976jYdrutZDK5Y4K4aCfsIEGctH4UbjTG2LIstVot1ev1sduZ0R7WpaWlsY4zio3CcNd14/d0Jxg0PF2rXxg+jVG/+XxeQRAQngIAAAAAAAAYGAEqgD3BNE0ZhrHhbsMoAB01uIyeP2o7LpvNKgiCbRsfunZUbDqdVjqdVhiGSqVSq763HUzTVC6XU7VaHek6esNiaTKjYn3fl2maOyJ4C8NQ7XZbpmlqYWFBlmVt2yjcXvl8ftXrPqqtRv1Ggeqw9xeFp9sRgAMAAAAAAADYvQhQAewJQRCoWq1u+P1xA9RWq6V0Oi3XdTfcS9lPtF+0Xq8P3dCbllQqJcdxtLCwoDAMZdu2EomE0un0pns3p2Ua+zz7jYpNp9MKgmCgvamZTEaSNgzkZy3amxuNfu50Otu+F3ZS4Wk//d6/taOMt/phhlwupzAMCU8BAAAAAAAADM0IZ11XAXDaOnbs2FSP77ruht/zfV+1Wm2kBmnvvtOo+ed5XhzG1ev1vmHjTtwvmslkNm3qRns3Pc+TpPj+phXG2batbDarQqEwld2Xa5mmGb9/Ujeoq9frq8692Q7W7eC6rnzfH2hvbjQK1/O8DffeTsI0w9PNmKYp13XleZ4sy9pw1G8ul5MkLS4uzvT6RnHo0KHtvgQAAAAAAAAAaxCgApiZ7QxQ0+n0SEFSb3i61tqwsV6vx82/KPSaVTA4iGGDwWmHccMEg9MQ7RXtDeMcx9lRbeGoWTrK3txo763nefHe22jU76iiPbXbEZ72E92f4zj62te+pmq1qkc96lHKZrNaWFjY7ssbCAEqAAAAAAAAsPMQoAKYmWkHqI7jyDCMvt9LpVJqtVpDjYgNgmDg0Ko3bLQsS5JUKBQm3vwbRbRftFarjRx6RWFcIpHYtPk3qEQioWQyOVIwOA2GYWhubk5BEMg0zXiv6HbuhR0nPO3HcRx5nifXdeMRwMOM+o3GUY/zOZqmkydP6o477tCtt96qTqej888/XxdeeKHOOOOMkY95xx136MYbb1QYhrr88st11VVXrXvMLbfcos9+9rMyDEOHDh3SC1/4wqHOQYAKAAAAAAAA7DzsQAVwWoh2oA5qmPA0enytVpNlWQqCQM1mU+l0Og4b6/X6toSpkxoj3LtbU1IcpmYyGbXbbdXr9YGPH+1g3Sm7KU3TVD6fX/Ua9e6FHXRv6iQlEgklEomJBsy9P0AQtaejUbdRM3Wjz2gUnlar1W0NlTdz9OhRPfShD9XjH/94FYtF3X777brzzjtHDlCDINANN9ygV77ylcrn83rHO96hCy64QAcPHowfc+LECX3hC1/Qb/zGbyiVSqlUKk3qdgAAAAAAAABsIwJUAKeFYQLUUUbuRqNNW61WvF80aulFTcJojGq9Xh+5uTkMx3GUyWSmMka42WzGYWPUbPR9X51OJw4b+wV/mUxGUreduxNEAXOpVFr1nrTbbZXL5fgxa8PGRqMxtdHMyWRSnudpeXl5KseXup/xarWqarUajzKOAv+1o353Q3jq+75s29bCwoLCMFQmk9Fll1021jHvvvtu7d+/X/v375ckXXLJJbrttttWBahf+9rX9G/+zb9RKpWSdOrzDQAAAAAAAGB3I0AFsGdsFpIOEqButu90M9GI3I0Cpkk1N4fRO/512q3Jtc3GRCKhfD6/qrUaBMHQO1inzbZtZbNZFYvFTdvB/cJG3/cnMsp4raidO83wdK0wDFftNI32ikaBuG3bqlQqOzo8dV1XJ0+enOg46EKhoLm5ufjrfD6vu+++e9Vjjh8/Lkl65zvfqSAI9Au/8As677zzJnYNAAAAAAAAALYHASqA00IYhjJNc9PvjxI0RiHc2gbjRjZrbkZh6rghUCqVkuu627JftNPpqFKpqFKpxHthc7mcbNuORxnvBKO2c/uFjclkMg7Ex9mbGjVAt7udG31Go72wrVZLyWRSiUQiDoyn1b4dVjqdnkp4OqggCHTixAn9x//4H7W8vKw//MM/1G/91m/FjVQAAAAAAAAAuxMBKoDTxkYN1GH3nUaisaejtjx7m5u2bcfHC4JA9Xp9wzG4m4lGiM6ywbiRaHdoMpmMd0NOq7k5DNd15fv+RNq5/QLxdDq95SjjtXzfl2EY8fjn7RaN7e3dCxsF4plMRqZpbut7KHXDU8/z4rG9k5bL5Vbt6V1eXo7HOEfy+bzOPvtsWZalffv26cCBAzp58qSOHDky8esBAAAAAAAAMDsEqAD2jM1ClI2+N2p4GrU8l5aWJhLetNvteLxttHOz3xjcjUQ7WJvNpqrV6tjXMwn99ov2a26u3bk5TdFo40m9b73WjjKO3kNp872pmUxGYRjGIfN2i8LTSqWy6j0JgkC1Wk21Wk1S97WcVPt2WKlUSolEQidPnpzaiOojR47o5MmTWlhYUC6X0y233KJrrrlm1WMuvPBCfec739Fll12mcrmsEydOaN++fVO5HgAAAAAAAACzY4TbMfMOwGnp2LFjUz2+ZVmyLKvv96KGZ+/+zVHHkGaz2ZkFXlHrz/M8GYbRN4iLdrDWarVdOSI3am66rjvRUcZrJZNJeZ6nQqEw03Gv0d7URCKxrrmZzWbjscc7wUbh6VZ638OoebxV6D+qVCqlZDI51fA0cvvtt+vjH/+4giDQZZddpic/+cn6zGc+oyNHjuiCCy5QGIb6xCc+oe9///syTVNPetKT9MhHPnKocxw6dGhKVw8AAAAAAABgVASoAGZmOwNUy7KUTCZVLpdH3ncatTwbjUbcwpulKIjzPE+WZcUhnO/7A+9gnYVxRuRGQbfneRMN4lKplBzH2fb9opLi+/M8L24dz6J9u5Vo52nv2N5RWJYl13Xj0D8KjNvt9tjXmEwmlUqltLCwsGP2sI6LABUAAAAAAADYeRjhC2DP2GqEr2EYI4en0TjaccOlcYRhqHq9rnq9LsMwlEwmlcvlFASBPM+TpG0PUROJhJLJ5MgjcntHGZumqUQiEe+d3GwM7mZ835dpmjsiPJUU74Utl8tqt9vyPE++7w+9N3WSJhWeSt1mdzTq1zAMua6rVCol27bHGtecTCaVTqd18uTJPROeAgAAAAAAANiZaKACmJlpN1BN05Rtb/xzIblcbqSQKhpHWywWJ9Kim4QoqCwUCgqCIG78OY4z052ivdLptGzbnkpQ2a99O0irMZvNKggClcvliV/TqPL5fN8Wc7Q3NQrDRw2Mh2WapvL5/ExazGvHNQ/6ZzGRSMj3/T0ZntJAxf/f3r0GyVXX+R//9Onb6e7pOd3JDLmwNopCJA4VYyQzEeMfccxClIsGSoybyCquCciDZVfWcq3askp2a7fWVO1iaVQovCDuQkhCUgygFosEkIuQhAmJGiIOwZCEuXTPTPf09fT/QaaP05MhmUvfMnm/njg9c9Lnd2YGqeKd7+8HAAAAAACAxkNABVAz9Qyotm2rWCzK7XbLNE35fD5novNUAWd8qGwEoVDI2Y52onWPjVT5fN6JVNUUDoclqSbnwkp/2Qb3VFONlmUpl8splUrVZE2nUzpfdDJn1Y49+9YwjEkH46mqZTwdb7LBuBRP+/r6GuYvMFQSARUAAAAAAABoPARUADVT7YDqcrnk9XpP+vzbTayNDTjFYvGk8zabmprkdrsbZutX6cREZbFYnHSoHHumaLW2iLUsy9l2tx68Xq9M05TX61U+n1c2m5VpmnU7q3YipXiaSqWmHLNL2+CeLhhPVT3j6URrKT2j2+3WH//4R8Xjcb3nPe9RJBKZtfFUIqACAAAAAAAAjYiACqBmah1Qp3LeaWnizzRN572y2WzDbP3qcrlkWZay2ey0JypPF4yns6ZIJKJ0Ot0wodLr9cqyLBWLRRUKhdNOGNdCKVRW6vzc6W6DO9GaGiGeTuTYsWN65pln9Oqrr2r+/PlavHix3vve9zr/fE7HgQMHtHXrVhWLRXV0dKizs7Ps688995x27NjhnLm7cuVKrVixYkbPMRkEVAAAAAAAAKDxEFAB1EwtA+pU4ulYhmE4Z6UahiGXy1WzsyhPt6bpTC+e6j3HBuOpPmMpwCWTyapvDzxZ40Nlvc4UnWhN1QqV47eknkwUb/R4Kkk+n0/Nzc3q7e3Va6+9pn379mlgYECf+9znpvV+tm3rjjvu0MaNGxWJRLRp0yatX79e8+fPd6557rnndPjwYV133XWVeoxJIaACAAAAAAAAjWfiwwIB4Aw23Xjq8XjU3NxcFpZcLpf8fr/C4XBVz6KcypoqwbZtjYyMaGRkZMrP6Ha7ZVlWQwW4idZUKBSUSqWUSqWcYFzLn2Mtvk+FQkHJZFLJZNJ5xubm5rd9xjMpnvb396tQKCgWiykWi83oPXt6etTS0qKWlhZJ0tKlS9Xd3V0WUAEAAAAAAACghIAKYNYIh8Py+XzOtq1Tiah+v1+hUEiJRKJsQrFYLCqdTiudTjtnUYZCIbndbmWzWaXT6apFOJ/Pp6amppPWVGmne8ZMJuPENq/Xq3A4XPU1TUUpMg8ODr7tz2J8MPb5fAoGg/J4PCc9YyWU4ump1lRpp3rGXC6nbDarUChU0zVNVWkL5v7+/or+PBKJhKLRqPM6Eomop6fnpOtefvllHTp0SOecc46uvfbasj8DAAAAAAAA4OxBQAUwawwODsrv9ysQCKipqUn5fF6ZTEbpdPqUMTUYDMrn82lgYOCU50iO3SJVOhFdqxXhTNNUIBA47Zoqbfwz+nw+BQIBhcNh2bYtt9utgYGBaZ+bWmnTCboTPaNpmgqHw87vzEy2JS4F3XpG5ol+V8PhsIrFokKh0LTOTa22sfG0EmfFTlVbW5uWLVsmj8ejp59+Wvfdd59uueWWmq8DAAAAAAAAQP0RUAHMKuOjUSAQ0Ny5c1UoFJzJ1FLUKhQKznan8Xh8RvcaGxpzuZzS6fS0Y2ooFJLH49HAwMC0/nwlZbNZZbNZBQIBBQIBZbNZRSKRioTGmSpN6Mbj8RkF3dIzSiciXmkauVAoTDk0NkI8Hc/tdisUCikejyufz8vj8cjv9ysSiUz63NRq83g8sixL8Xi8KvHUsqyyf57i8bgsyyq7JhQKOR+vWLFCO3furPg6AAAAAAAAAJwZCKgAZq2JAmc0GpVt2+rv79ddd92l1atX6x3veMeM7zU2wo2faEyn05OOQs3NzSoWi0okEjNeU6WUgm5/f7/zOY/HI9M0px0aZ6paE7q5XM4J3263e0qhsTQNO9OgW0kTbSWcz+eVz+dPOjfV5XI5k9S13OLX4/EoEokoHo9XLcjHYjH19vaqr69PlmVp9+7dWrduXdk1iUTCiar79u3TvHnzqrIWAAAAAAAAAI3PVWyk/fsAzGpHjhyp9xIknQgl99xzj9asWaNly5Y5k6nViEaliUafz3fKqU2XyyXLspTNZpVKpSq+jukKh8OSpKGhobe9xu12yzRN+Xy+mkw0BgIB+f3+aU0NT1cpNPr9fic0ptNpZ8q0UtOwlTTVc1hL56aapim3261cLqdMJlPV7XRL8TSRSCidTlftPpK0f/9+bdu2TbZtq729XatWrVJXV5disZja2tq0c+dOvfLKKzIMQ8FgUNdff31NIurChQurfg8AAAAAAAAAU0NABVAzjRBQ33zzTf30pz/VZz/7Wb3jHe+Q1+tVIBCQaZqS5JyZWo2YWpra9Pl8zpbC2WxWLpdLkUhEyWSyrlvijmdZljOpOFmGYcg0Tfn9fkl/+X5WKiqWpmHrOaHrcrmcmOp2u1UoFJyzYRvlX6lTjacT8fl88vv98nq9TvzPZrMVe0a3261oNFqTeNrICKgAAAAAAABA4yGgAqiZRgiouVxOqVTqpPMPpRPToqWtYV0ulzOZOt2zTE+ldA6laZoyDEOpVEqpVKohAlwp6KbTaY2MjEz7fU43tTlVk5mGrbXSeamls0VrMbV5OqV4WslzWEu/r36/X7Ztz3jKuBRPBwcHZ/Q7NhsQUAEAAAAAAIDGQ0AFUDONEFAny+PxOJOphmE4k5SVjKmlbV+Hh4edQFXaAjedTtclphqGoUgkouHh4YpGwPFTm6WYOtnpyObmZtm2reHh4YqtaaZM05RpmkokEs7PauyWzfU4G7Ya8XS8icL4VLbAJp6WI6ACAAAAAAAAjYeACqBmzqSAOlZp691AIODE1JlOGZbibDweL4tr47fALU3B1uJczVJ8GxoaqsrU7VilAFea2jxVnI5EIg13NuxkzmEtRfFanQ1bi3g63kRh/FRT24ZhaM6cORoaGmqon2c9EVABAAAAAACAxkNABVAzZ2pAHcvtdjvx0+PxONOiU4mpkz3Hc/ykX6XPEx3L6/UqHA7XNL6VjD9rc+zZsJZlKZ1ON9QZmcFgUF6vd0rnsE70s8xkMhXdYre5ubkuP7+xTnVuqmEYikajSiaTUzpXd7YjoAIAAAAAAACNh4AKoGZmQ0Ady+12O5Opk42p092K1uVyOZOplThPdKzSOZ7xeLwmk66nMnYLXMMwlE6nlUwmG+JsWOlE/Ha73RocHJz2e8x0O+PxGiWejleawO3q6tLBgwf1wQ9+UO9973vl9Xpn/N4HDhzQ1q1bVSwW1dHRoc7Ozgmv27t3r+655x7ddtttisViM75vNRBQAQAAAAAAgMZDQAVQM7MtoI5lGIYzmer1ep0Jw0wmI0kaGRlRJBKRYRgzPvdxfIAr3Wc6Aa60Fe3YczzrrXQOayqVktvtlt/vl23bdT0bVpKamppkGMaM4ulExm9nPJXtoRs1no5lGIay2ayeffZZvfTSS8rn82pvb1dHR8e03s+2bd1xxx3auHGjIpGINm3apPXr12v+/Pll16XTaf3gBz9QoVDQmjVrCKgAAAAAAAAAJs1T7wUAwGxg27azNWnpHNNAIKDm5mYdOXJEmzdvrljEKRaLzra2LpdLPp/PmYycyjRjaSvhU53jWWulczwHBwedZ0gmk05IjUQikmp7NqwkhcNhSap4PJVUFtpLE7hNTU0nbYE73pkQT10ulyKRiNLptFasWKEVK1YomUyqv79/2u/Z09OjlpYWtbS0SJKWLl2q7u7ukwJqV1eXPvaxj+nxxx+f0TMUi0W5XK4ZvQcAAAAAAACAMwsBFQAqzLZtpVIppVIpvfHGG/qf//kfffGLX9RFF12kbDbrBLNKTFIWi8WyAOf3+xUMBp1pxnQ6rVwud9KfKwXBqZzjWW2nCoKFQsH5npbOE21ubq7KeaLjTXfb5enI5XLOz6u0BW4oFHImcEvRuPS9aoRtl9+Oy+VSNBpVOp3W0NCQ8/lQKKRQKDTt900kEopGo87rSCSinp6esmsOHz6seDyu973vfTMKqLZtyzAMHT16VEePHlUwGNScOXOceAsAAAAAAABgdiKgAkCV9Pb26n//93914403KhqN6tixY85kajgcdgJnpWKqVD7N6PP5ZJqmc6/SNKNlWcrlckqlUhW5ZyV4vV6Fw+FJBUHbtjUyMqKRkRFnO+OmpqYZb2c8EcuylM/nlUwmK/J+U5HP5517lyZwLcuSy+WSYRhnRDzNZDJl8bQWbNvW9u3btXbt2hm/l2EYOnTokO655x69+93vVjqdlsfj0fLly7VkyZIKrBYAAAAAAABAIyKgAkCVzJ07V1/5ylfk9/slnZgWHR/+xsbUsROGlZDNZp2zNL1er0zTdIJgpQJjJZSmZqcTBMduZzz2vTwejzPtO9EE7mQ0UmguTeDmcjmFw2GlUinnTNZKR+OZKm3bm8lkqrLlsWVZGhgYcF7H43FZluW8zmQyOnr0qL7zne9IkoaGhnTXXXfppptumvIW2slkUg899JCuvvpqLV++XK+99pq+//3v6wMf+EBlHgYAAAAAAABAQyKgAkCVlCLpRMafY1qKqaWzLyt9xmehUJDX61UikVCxWDzpnM3S1GqtlSZy4/F4RaZw324Ct/Q9LQXl0ykFwJGRkRmvqVLGT+mmUinnDNzJbNtcK5FIRLlcrirxVJJisZh6e3vV19cny7K0e/durVu3zvl6IBDQHXfc4by+8847dc0110w6no4987T0vb3kkkuUSqV03333acWKFVq2bJkOHz6scDjsnMsLAAAAAAAAYPYgoAJAnU00RTk2pmYyGaXT6WnHVLfbLcuyNDQ05IS1ic7ZLBQKFT2f9XSCwaB8Pl/ZNGEljZ/ALUXjQqHgxNTxz1manhwZGXF+Ho3g7bY4Hn8G7vhoXOs4HolElM/nq3q2rtvt1po1a7R582bZtq329nYtWLBAXV1disViamtrm/Z7l848TSQSGhwcVGtrq3p7e/XMM8/omWee0aJFi3TNNdfItm09/vjj+tCHPkRABQAAAAAAAGYhV7EW/5UcACQdOXKk3ks445RiqmmaTvjLZDIqFAqT+vOl8JZIJE77Z9xut0zTlN/vl23bFT+fdaxQKCS32121KcVTKUXj8c8pnQiAqVSqbhO5E5nK+bBjeTwemaYpn89XkzgeiURk23bVgni1leLpsWPHtHnzZi1ZskTXXnutnnvuOT300EM699xzdcstt0iSfvCDH0iS/u7v/m7G9124cOGM3wMAAAAAAABAZRFQAdQMAXVmfD6fE1Nt23YmU98ujJbOA00kElOeXnW73U5kHDvlWIkthcPhsKQTZ1PW29jn9Hg8SqfTSiaTFds6eaamG0/HG/uckiq+RfSZHk8LhYLcbreOHz+uO++8U/PmzZNhGNqwYYOSyaT27NmjJ598UvPmzVMul5PL5dKGDRsk/SW8ThcBFQAAAAAAAGg8BFQANVOtgHrgwAFt3bpVxWJRHR0d6uzsLPt6Pp/XvffeqzfeeEPBYFCf//znNXfu3KqspVbGxtTSFsCZTEb5fF7SiTj5jne8wznzdCYMw3AmUyXNaEthy7KUz+eVTCZntKZKMgxDkUhEyWRShmHI7/fL5XI50Xiy076V5vP51NTUNON4Ol7pGf1+vwzDcJ6z9LszVZZlSZL6+/srtsZaOHz4sPr7+7VkyRJJ0sDAgP7jP/5DH/3oR/WhD31Imzdv1t///d/L7XZLknp7e3X06FEFAgG9+93vljTzeCoRUAEAAAAAAIBGxBmoAM5otm1ry5Yt2rhxoyKRiDZt2qS2tjbNnz/fuebZZ59VMBjUN77xDb300kvauXOnbrzxxvotugJK53smEgl5vV4FAgFnCvCBBx7QsWPHtHbt2orcy7ZtpVIppVIpJ741NzdPOTJGIhFls1mlUqmKrKsSSvF07PmwIyMjcrlc8vv9CofDFYmMU1WKpwMDAxXfcte2bY2MjDjP6fP5nC2Vs9msMpmM8704nTM1nmazWe3bt08XXnih87m9e/dq1apV+uhHP6psNivDMDQ0NOSccep2u8vOV61EPAUAAAAAAADQmAioAM5oPT09amlpUUtLiyRp6dKl6u7uLguo3d3duuKKKyRJS5Ys0YMPPqhisSiXy1WXNVdaLpdTLpfTwMCAHnzwQQUCAd1yyy1yu93OZOpkg9jpjI9v4yPjRFsKu1wuRSIRjYyMKJ1OV2QdleB2u2VZlgYHB08Ko6Wp3nQ67UTGYDAoj8cz5cg4VdWMp+ON3Z65dG/TNBUOh5XP55VOp5XNZif8s6WI3tfXV9U1VoPP59Pll18uv9+vkZER9fT06LLLLpN04nc8n88rlUo5v68/+9nP1NTUpGuuucZ5D+IpAAAAAAAAMHsRUAGc0RKJhKLRqPM6Eomop6fnba9xu90yTVPJZFJNTU01XWu1bdu2TdFoVJ2dnert7ZXH41EgEHBCV6Vj6vjI6Pf71dTUJLfbXXZmqmVZSqVSTqRrBKV4mkgkTjs9e6rImMvllMlk3jYyTlVpGrQW8XQipclm6cT5q6WfaaFQUDqdVjwed36nDMM44yZPS4rFonO+7/PPP689e/YokUiovb1dhmHI5/OptbVVfr9f27dv15/+9Cf90z/9U72XDQAAAAAAAKBGCKgAMEtcddVVzjml0omzX4eGhjQ0NCSPx+NEv7HTotWIqZLk9/sVCoXk9/unfV5qtXg8HjU3N08qnk7k7SJjPp8vC61TVYqn8Xi8LvF0vNJks3QiONu2rR/+8IcyTVMf+MAHdP755ztb+M7E6c4wfvrpp/XUU085kf4zn/lM2YT5VBUKBed5DMPQkiVLlE6n1d3dLdu2tWLFCnk8HgWDQf3bv/2bLMvSV7/6VXk8HufPAgAAAAAAAJjdCKgAzmiWZWlgYMB5HY/HT4o6pWsikYgzSRcKhWq91KobG0/Hy+fzGh4e1vDwsNxutwKBgJqamuTxeJzJ1EpNUZbu53a71d/fL8MwFAgEnInNSobbqfJ6vQqHw4rH4xWJumMjo8fjccJxoVBwYupkYqjf71cwGGyYeDpeKTT/8z//sxKJhJ588kn97Gc/Uzab1Q033DDtoDmZM4yXLVumSy+9VJK0b98+bd++XRs2bJj2/Upnvf785z/XJZdcosWLF6u9vd15/0KhoA9/+MOaN2+eent7dfPNN8vn8xFPAQAAAAAAgLMIARXAGS0Wi6m3t1d9fX2yLEu7d+/WunXryq5pa2vTCy+8oHe9613au3evLrjggllz/ul0FAqFsphqmqZCoZAsy3ImU2cSUyea8Cy9XzW3vz2d0tmilYqn4+XzeeXzeSWTSbndbvn9fkUikbItgCe6b6PH05JScJeklStXauXKlUomk/J6vdN+z8mcYWyapvPxTLeBNgxDhUJB3/72t7Vw4UK95z3vUbFYVCQS0aWXXirDMHTgwAFJ0qpVq3TZZZcRTwEAAAAAAICzEAEVwBnN7XZrzZo12rx5s2zbVnt7uxYsWKCuri7FYjG1tbWpo6ND9957r771rW8pGAxq/fr19V52wygUCkomk0omk86kaDAYdGLqVLekPV2kHL/9rWmaFdn+djLrquXZooVCQalUSqlUSoZhyO/3O5PRpecsFApnTDwNhULy+Xzq7e0tW+dMJ7knc4axJO3atUtPPPGECoWCbrnllhnd85e//KVisZg+97nPSZL27Nnj3Pvyyy/XY489pjfeeEP5fF4+n0/FYpF4CgAAAAAAAJxlCKgAzniLFy/W4sWLyz63evVq52Ov16u//du/rfWyzji2bZfFVNM0FQgE1NzcrGw260ymvl3oK8XAyUbK8dvfliZhS9ssn+peU1HvSGnbtkZGRjQyMuKc4xkOh50ol0gkGj6e+v1+9fX11W2dpYnXF198Ub/4xS+c+DkdLpdLg4OD6u3t1Y4dO9Tb26tIJKJUKqUvfvGL+n//7//J6/XK4/GoWCye1dPqAAAAAAAAwNmKgAoAU3DgwAFt3bpVxWJRHR0d6uzsLPv6oUOHtG3bNh05ckTr16/X+9///vosdIZs2y6boDRNU6ZpOjF1/PmehUJBgUBg2pGydEarNLOzRMcrReBGmfAsFotKp9MqFosKBoMaGRlRKBRyzuXMZDJ1Ox92IsFgUKZpqre3tyrbHk/mDOOxli5dqgceeGDS72/btgzDKPtce3u7fv/732vbtm0yTVO33367ent7tXXrVmUyGWc7YeIpAAAAAAAAcPYioALAJNm2rS1btmjjxo2KRCLatGmT2trays5rjEQiWrt2rR5//PE6rrSyxsZUl8vlRMnSOaY7d+7U0aNHdf3111fkfuPPEjVNU9FoVLZtO2e0TiaGBgIB+f3+skDXCMZH3XQ6LenENsNjv6+1PB92IsFgUIFAoGrxVJrcGcZvvfWWWltbJUn79+93Pj6dsfG0q6tL+XxeXq9XH/nIR7RhwwYVCgXnfNVXXnlFfX19ZeetEk8BAAAAAACAsxcBFQAmqaenRy0tLc6E2tKlS9Xd3V0WUOfOnStp9saXYrHobEcrSY888oiGh4d18803TzlwTsbYM1rdbrf8fr8ikYiKxaIzmTpR3AsGg/J6vYrH4xVZR6WUJnknmoit1/mwEwkEAgoEAurr66taPJUmd4bxrl279Ic//EGGYSgYDGrt2rWTeu9SPP3ud7+rQqGgSy65RM8//7xeffVVrVmzRgsXLlRfX5+efPJJ/fa3v9VXvvIVNTU1TTi1CgAAAAAAAODsQkAFgElKJBKKRqPO60gkop6enjquqL62bdumYrGoNWvWqLe3V36/X4FAwIl+6XT6bQPndBQKhbJthf1+v7Pdaync2ratUCgkj8ejRCJRkftWyth4ejqnOh92JlsaT0YgEFAoFFJvb68KhUJV7jHW6c4w/vSnPz3t93711Vflcrl06623SpL+/Oc/6+DBg5o3b56KxaJs25bP59Ott96q+fPnE08BAAAAAAAASCKgAgCmaeXKlZo7d65cLpezFW1pO9rxMXVs4KwE27adSdhSTG1ubpbH45Ft22d0PB1v7PmwpS2NJzOFO9111jKeVltpelmSHnroIe3fv1+33XabJGnfvn26+OKLdeWVV8owDOIpAAAAAAAAAAcBFQAmybKssvM04/G4MwF5NiptZTyRsVvOlmLq3LlzVSgUnMnUSgW6Ukz1eDwqFArK5XIKh8MyDMNZRz6fr8i9pqN0FmslthMeu6WxYRgyTXPCKdzpKG0Z3NfXd0bG04kC6HnnnaeWlhb9+Mc/1uuvv66vfvWrMk1Tv/nNb/TCCy/o/PPPVygUkiTiKQAAAAAAAAAHARUAJikWi6m3t1d9fX2yLEu7d+/WunXr6r2shjc2pvp8PgUCAUWj0bIzU2ca7Jqbm2XbtjOpmU6n5XK55PP5FAqF5Ha7lc1mlU6naxpTKxlPx7Nt+6QtjZubm+VyuZxnnez31e/3O/G0nrF5usbG05deekmhUEiWZWnevHkKh8Pau3evrrzySpmmqRdffFE7d+7UF7/4RSeeAgAAAAAAAMBYrmK1DlEDgHGOHDlS7yXM2P79+7Vt2zbZtq329natWrVKXV1disViamtr0+uvv667777bmYhsbm7W1772tXovuyGVYqppmjOKqc3Nzc5k5qn4/X75/X55PB5ls1llMhnnnNFqqGY8PRWXy+U862TCsd/vVzgcnhXx9Cc/+Ylef/11GYah+fPna/ny5brooov06KOP6tixYxoYGJDP59OqVau0aNGihti2d+HChXW9PwAAAAAAAICTEVAB1MxsCKioDq/Xq0AgoEAg4JynOpmtdy3LUi6XUyqVmtL9fD6fTNOUx+NRLpdTJpNRNpudySOUqVc8ncjYcJzL5ZROp5XNZp0J3ebmZvX391c1JtfCa6+9pscee0wbNmzQ8ePH9dJLL+n111/X8uXL9f73v1+SlEgk5PV6FQwGGyKeSgRUAAAAAAAAoBGxhS8ANLADBw5o69atKhaL6ujoUGdnZ9nX/+///k/PPvusDMNQU1OTPvvZz2rOnDl1Wu305XI55XI5DQ4Oyuv1Tni259iYWiwWFY1GlclkNDIyMuX7ZbNZJ5j6fD5nC9t8Pu8ExukKBALy+XwNEU+lk7dQ9vv9+q//+i+1traqvb1d5557bsXuVa/f1127dmnXrl3Os5xzzjlqb2+XJP32t7/V0NCQVq5cWXZmcSPEUwAAAAAAAACNiQlUADXDBOrU2LatO+64Qxs3blQkEtGmTZu0fv16zZ8/37nm4MGDOu+88+Tz+fTUU0/p1Vdf1Y033li/RVeYx+NxJlNdLpfS6bQSiYR+9KMfaf369fJ6vRW9n9frld/vl8/nUz6fL4uPkxEMBuX1epVIJCq6rkpzu9166623tGvXLu3fv1/nnHOOLrvsMr3zne+c9nvW8ve1WCzK5XI5r4eHh/WTn/xEg4ODuvHGG3XOOefIMAzF43E988wzOnz4sK6//vqG/MsFTKACAAAAAAAAjYfxCwBoUD09PWppaVFLS4s8Ho+WLl2q7u7usmsuuOAC+Xw+SdI73/nOhg93U5XP5zU0NKTjx4+rr69Pg4OD+t73vqePfOQjmjNnTsUDai6X0/DwsPr7+5VKpeT1ejVnzhxZliW/318W7cY7U+Jp6ZlaW1v1yU9+Ul/96lf18Y9/XKZpzuh9a/X7atu283P49a9/rb1796qpqUlf+MIXFAwGtXPnTh0/fly2bSsSiehDH/qQPvWpTzVkPAUAAAAAAADQmAioANCgEomEotGo8zoSiZwyOD377LO66KKLarG0uhgYGNCmTZu0cuVKXXDBBcrn82pqalJra6vC4bAT5ioln887MTWZTMrj8SgajSoSicg0zbKYeqbEU4/HI8uyNDAw4GxT7HK5dO6555ZNik5HLX5fi8Wis/XuoUOHdPDgQd1///165ZVXZJqmvvzlLyudTmvnzp168803nYh6zjnnTO+hAAAAAAAAAJyVCKgAMAv89re/1eHDh3X55ZfXeylVMzw8rNWrV6utrU2FQkHDw8Pq7e3VW2+9pVwup1AopNbWVjU3N1clpiaTSfX392toaEiGYSgSiSgSiciyrDMmnkYiEcXj8SltS1wN0/19LUXrrq4u3X///Zo3b57mz5+v+++/Xy+++KL8fr82btyokZERPfjgg0qn09VYPgAAAAAAAIBZzlPvBQAAJlaaFCyJx+OyLOuk637/+9/rF7/4hW699VZ5PLP3/9YXLFigBQsWnPT5QqGgZDKpZDIpwzAUCAQUDAZlWZZzhmklg2GhUFAqlVIqlVJTU5N8Pp+KxaKi0ajS6bQymYxs267Y/SqhFE8TiUTV4mm1fl/feOMNLViwQG63W5J09OhR7d69WzfffLOi0aiGhob0/PPPa8eOHTIMQ0uXLtVXvvIV/f73v1cwGKzcAwIAAAAAAAA4azCBCgANKhaLqbe3V319fcrn89q9e7fa2trKrnnjjTd0//3360tf+pLC4XCdVto4bNtWMplUX1+fjh8/rkwmo0AgoNbW1kmdYzoVoVBIhmGov79fAwMDzgRqc3OzotGogsGgE/3qye12O/G0mhOZ1fh93bNnjx555JGy72MoFFIgEFA8HpckhcNhLV++XC0tLXrggQf0/PPPyzAMZ3vgYrFYuYcEAAAAAAAAcFZwFfkviwBq5MiRI/Vewhln//792rZtm2zbVnt7u1atWqWuri7FYjG1tbXpu9/9ro4cOaLm5mZJUjQa1Ze+9KU6r7rxGIYh0zRlmqZ8Pp+y2awzmTqdfw2GQiG53W4NDg5O+HWXyyXTNOX3+2UYhjKZjNLptAqFwkwfZUrcbrei0agGBwc1MjJS9ftV4/fVtm0ZhqG+vj6Fw2Hlcjndc889uuiii/Sxj33Mue6xxx7TwMCAenp6dO2112rRokVVfdZKWbhwYb2XAAAAAAAAAGAcAiqAmiGgohGU4mYgEJDP51Mul3O23p3MvxJPF08nup/f75ff75fb7XbCbT6fn+mjnFKt42mllcKpbdt688039f3vf19XX321PvjBD+rgwYP6wQ9+oI9//OO64IILZFmWvve97+mTn/yk9u/fr6amJl111VUqFosVmziuFgIqAAAAAAAA0Hhm72F5AIApO3DggLZu3apisaiOjg51dnaWff3pp5/WU0895UTBz3zmM5o/f36dVjs9xWJRIyMjGhkZcWKqaZrOdGNpWnSimNrU1CSXyzXpeFq6XzqdVjqdlsvlks/ncyJsNptVOp2ueEw1DMM5H/RMjKfSiWco/e+5556rFStW6LHHHpNt21q+fLk2bNighx9+WPv27VM6ndbFF1+sJUuW6M0339SxY8ckqeHjKQAAAAAAAIDGREAFAEg6MfG3ZcsWbdy4UZFIRJs2bVJbW1tZIF22bJkuvfRSSdK+ffu0fft2bdiwoV5LnrHxMdXv9ysQCKipqUn5fN6ZTC0UCnrllVfU3t6u4eHhGd2vNIEqSX6/X8FgUB6Px5mEzeVyM3qmUjwdHh5WKpWa0XvVS2lydGhoSLZty7IsXXnllfJ6vXr00Udl27Y6Ojp00003qVAoKJ1Oq7W1VZJ08OBBvfOd76zvAwAAAAAAAAA4oxFQAQCSpJ6eHrW0tKilpUWStHTpUnV3d5cFVNM0nY9LEXC2GDspKsmZTA2FQvrJT36iXC6niy++uKL3HBtTfT7fSZOw2Wx2Su9XiqfJZFLJZLKia60ll8ulF198UV1dXYpEIgqFQvrCF76gzs5OeTwe/epXv5Jt21q2bJmCwaCCwaCOHDmin//85zJNU1dddVW9HwEAAAAAAADAGYyACgCQJCUSCUWjUed1JBJRT0/PSdft2rVLTzzxhAqFgm655ZZaLrGm0um0RkZGtG3bNhmGoc9//vMKBALK5/NO+CwUChW7XzabdYKp1+uVaZplk7Cni6mleJpKpc7oeCqdOC/5iSee0Cc+8QmFQiE9/PDD+va3v61/+Id/0GWXXSbDMLR9+3ade+65Ou+882QYhpqamtTe3q4Pf/jD9V4+AAAAAAAAgDOcqzjRIW8AUAVHjhyp9xJwCnv27NHvfvc73XDDDZKkF154QT09PbruuusmvP7FF1/U7373O33uc5+r5TJr6oUXXtDhw4f1qU99yjlP0+/3O9Optm2XbfNbDV6vV36/Xz6fz9mudvz0r8vlUjQaVTqd1tDQUFXWUSvHjx/XI488omg0qquvvlqSlEqltHnzZtm2rX/8x3+UJP3pT3+aFVv1Lly4sN5LAAAAAAAAADCOUe8FAAAag2VZGhgYcF7H43FZlvW215e2+J3Nli1bVhZPpRPb7iYSCR07dkyJRMKZ/JwzZ45CoZDcbndF15DL5TQ8PKz+/n4lk0l5PB7nXnv37lUmk6l4PD1w4IDuuOMOfetb39KvfvWrk75+6NAh/ed//qduu+027dmzZ8b3G/t3ud5880319fXp5ZdfVjwelyQFg0HdfPPN8nq9+sY3viHbthWLxSSdOLsXAAAAAAAAACqJLXwBAJKkWCym3t5e9fX1ybIs7d69W+vWrSu75q233lJra6skaf/+/c7Hs5VhnPrvGZW23U0kEs4ZptFo1DlPNZPJKJ/PV2w9+Xxe+XxeyWRSuVxOvb29+t73vqdQKKTFixfr4osvVigUmtE9bNvWli1btHHjRkUiEW3atEltbW1lZ+FGIhGtXbtWjz/++EwfSbZtyzAM9fX1aXBwUPPmzdOll16q1157TY8++qhWrVqlOXPmyDRNffnLX9ZvfvObsp/L6X5GAAAAAAAAADBVBFQAgCTJ7XZrzZo1zlap7e3tWrBggbq6uhSLxdTW1qZdu3bpD3/4gwzDUDAY1Nq1a+u97IZRiqmDg4POGaalCd5MJqN0Ol3RmOrz+XTdddfp6quv1qFDh7R371798Ic/1OrVq3XhhRdO+317enrU0tKilpYWSX+ZNB4bUOfOnStJZZO501EsFmUYhl577TX9+Mc/1ty5c+X3++X3+zVnzhwNDw/rl7/8pTo7OzV37lyZpqmPfvSjkv4SXgEAAAAAAACg0gioAADH4sWLtXjx4rLPrV692vn405/+dK2XdEbK5XLK5XIaGhqSx+NRIBCQZVlyuVzOZGoul5vRPSKRiHK5nAYHB9Xa2qrOzk51dnZqpkebJxIJRaPRsvv09PTM6D3fjsvl0tDQkB544AGtXr1ay5cv1/79+3Xffffp+uuvl8fj0d69e/XQQw/p+uuvVzgcdv4s8RQAAAAAAABAtRBQAQCoonw+r6GhISemmqapcDgswzCcydSpxtRIJKJ8Pq9EInHS12Y6FVprLpdLkUhEy5cvVzqd1vbt27V06VItWbJEb775ps477zxJKounAAAAAAAAAFBNBFQAQN0cOHBAW7duVbFYVEdHhzo7Oye8bu/evbrnnnt02223KRaL1XiVlZPP5zU8PKzh4WG53W4FAoGymJrJZJTNZk/5HpFIRLZtKx6PV2WNlmVpYGDAeR2Px52tiKthZGRER44c0cGDB7Vjxw6df/75WrNmjfL5vJ566imtWLFCf/VXfyWJbXsBAAAAAAAA1Ab/FRIAUBe2bWvLli368pe/rK997Wt66aWXdPTo0ZOuS6fT+vWvf+1MIs4WhUJBw8PDeuutt9Tb26tcLqdQKKTW1lY1NzfL5/Od9GdK8XRs4Ky0WCym3t5e9fX1KZ/Pa/fu3Wpra6va/VpbW9XR0aHvf//7sixLN9xwgyTpRz/6kfr6+px4KrFtLwAAAAAAAIDaYAIVAGaRb37zm7rhhhu0aNGiei/ltHp6etTS0qKWlhZJ0tKlS9Xd3a358+eXXdfV1aWPfexjevzxx+uxzJooFApKJpNKJpMyDEOBQEChUEiWZTmTqaZpqlgsVjWeSpLb7daaNWu0efNm2bat9vZ2LViwQF1dXYrFYmpra9Prr7+uu+++WyMjI3rllVf06KOP6mtf+9q07/nhD39YuVxOe/fu1f3336+BgQFls1ndeuutkpg8BQAAAAAAAFBbBFQAQF0kEglFo1HndSQSUU9PT9k1hw8fVjwe1/ve975ZHVDHsm27LKaapqlQKCSXy6Xjx4/XZA2LFy/W4sWLyz63evVq5+NYLKZvfvObFbtfU1OTPvGJT2jRokXq6+vTokWLtGTJEkkn4rLb7a7YvQAAAAAAAADgdAioADBL3HvvvYrH47rrrrvkcrn013/913r99df1xz/+UblcTgsXLtT111+vBQsWKJ/Pa9OmTero6NBHPvIR2batO++8U4sWLdIVV1xR70eRdCIkbt++XWvXrq33UurGtm2lUimlUql6L6XqDMPQhRdeWPY527aJpwAAAAAAAABqjoAKALPE3/zN3+jQoUNlW/g+++yz+uxnPyuPx6MdO3bopz/9qW6//XZ5PB6tW7dO//3f/60LL7xQL7/8smzb1qpVq2q2XsuyyrajjcfjsizLeZ3JZHT06FF95zvfkSQNDQ3prrvu0k033aRYLFazdaJ+2LYXAAAAAAAAQD0QUAFgFuvo6HA+vuKKK/T1r39dIyMjCgQCWrBggVatWqW7775bw8PDuu2222oarGKxmHp7e9XX1yfLsrR7926tW7fO+XogENAdd9zhvL7zzjt1zTXXEE8BAAAAAAAAAFVFQAWAWcq2bT388MPas2ePhoeH5XK5JEnJZFKBQECSdMkll+jhhx/WkiVL1NraWtP1ud1urVmzRps3b5Zt22pvb9eCBQvU1dWlWCymtra2mq4HAAAAAAAAAACJgAoAs0opkkrSiy++qO7ubt18882aM2eORkZG9PWvf13FYtG5ZsuWLXrf+96n3/3ud/rjH/+o888/v6brXbx4sRYvXlz2udWrV0947a233lqLJQEAAAAAAAAAznIEVACYRcLhsPr6+iSdOEPU4/EoFAopm83q4YcfLrv2hRde0OHDh3X77bdr3759+tnPfqbbb79dfr+/HkuvmQMHDmjr1q0qFovq6OhQZ2dn2defe+457dixwzmPdeXKlVqxYkU9lgoAAAAAAAAAqAMCKgDMIp2dnXrwwQe1Y8cOXX755ZozZ47+5V/+RcFgUFdeeaWefvppSdLAwIC2bdumm266SX6/X8uWLVN3d7e2bdumG264oc5PUT22bWvLli3auHGjIpGINm3apLa2Ns2fP7/suqVLl+q6666r0yor53SxOJ/P695779Ubb7yhYDCoz3/+85o7d26dVgsAAAAAAAAAjYGACgCzyMUXX6yLL774bb++fPly5+N//dd/LfvajTfeWK1lNYyenh61tLSopaVF0olQ2t3dfVJAnQ0mE4ufffZZBYNBfeMb39BLL72knTt3nhW/BwAAAAAAAABwKka9FwAAQK0kEglFo1HndSQSUSKROOm6l19+Wf/+7/+ue+65RwMDA7VcYsWMjcUej8eJxWN1d3frkksukSQtWbJEBw8eLDsjFwAAAAAAAADORkygAgAwRltbm5YtWyaPx6Onn35a9913n2655ZZ6L2vKJorFPT09b3uN2+2WaZpKJpNqamqq6VoBAAAAAAAAoJEwgQoAOGtYllU2URqPx2VZVtk1oVBIHs+Jv1+0YsUKHT58uKZrBAAAAAAAAADUFwEVAHDWiMVi6u3tVV9fn/L5vHbv3q22traya8Zu6btv3z7Nmzev1susiMnE4rHXFAoFpdNphUKhmq4TAAAAAAAAABoNW/gCAM4abrdba9as0ebNm2Xbttrb27VgwQJ1dXUpFoupra1NTz75pF555RUZhqFgMKi1a9fWe9nTMjYWW5al3bt3a926dWXXtLW16YUXXtC73vUu7d27VxdccIFcLledVgwAAAAAAAAAjcFVLBaL9V4EgLPDkSNH6r0E4Kyyf/9+bdu2zYnFq1atKovFuVxO9957r/785z8rGAxq/fr1amlpqfeyzyoLFy6s9xIAAAAAAAAAjENABVAzBFQAKEdABQAAAAAAABoPZ6ACAAAAAAAAAAAAwCgCKgAAAAAAAAAAAACMIqACAAAAAAAAAAAAwCgCKgAAAAAAAAAAAACMIqACAAAAAAAAAAAAwChXsVgs1nsRAAAAAAAAAAAAANAImEAFAAAAAAAAAAAAgFEEVAAAAAAAAAAAAAAYRUAFAAAAAAAAAAAAgFEEVAAAAAAAAAAAAAAYRUAFAAAAAAAAAAAAgFEEVAAAAAAAAAAAAAAYRUAFAAAAAAAAAAAAgFEEVAAAAAAAAAAAAAAYRUAFAAAAAAAAAAAAgFEEVAAAAAAAAAAAAAAYRUAFAAAAAAAAAAAAgFEEVAAAAAAAAAAAAAAYRUAFAAAAAAAAAAAAgFEEVAAAAAAAAAAAAAAYRUAFAAAAAAAAAAAAgFEEVAAAAAAAAAAAAAAYRUAFAAAAAAAAAAAAgFEEVAAAAAAAAAAAAAAYRUAFAAAAAAAAAAAAgFEEVAAAAAAAAAAAAAAYRUAFAAAAAAAAAAAAgFEEVAAAAAAAAAAAAAAYRUAFAAAAAAAAAAAAgFEEVAAAAAAAAAAAAAAYRUAFAAAAAAAAAAAAgFEEVAAAAAAAAAAAAAAYRUAFAAAAAAAAAAAAgFEEVAAAAAAAAAAAAAAYRUAFAAAAAAAAAAAAgFEEVAAAAAAAAAAAAAAYRUAFAAAAAAAAAAAAgFEEVAAAAAAAAAAAAAAYRUAFAAAAAAAAAAAAgFEEVAAAAAAAAAAAAAAYRUAFAAAAAAAAAAAAgFEEVAAAAAAAAAAAAAAYRUAFAAAAAAAAAAAAgFEEVAAAAAAAAAAAAAAYRUAFAAAAAAAAAAAAgFEEVAAAAAAAAAAAAAAYRUAFAAAAAAAAAAAAgFEEVAAAAAAAAAAAAAAYRUAFAAAAAAAAAAAAgFEEVAAAAAAAAAAAAAAYRUAFAAAAAAAAAAAAgFEEVAAAAAAAAAAAAAAYRUAFAAAAAAAAAAAAgFEEVAAAAAAAAAAAAAAYRUAFAAAAAAAAAAAAgFEEVAAAAAAAAAAAAAAYRUAFAAAAAAAAAAAAgFEEVAAAAAAAAAAAAAAYRUAFAAAAAAAAAAAAgFH/H2pch0VU19s/AAAAAElFTkSuQmCC' width=1872.0/>\n",
              "            </div>\n",
              "        "
            ],
            "application/vnd.jupyter.widget-view+json": {
              "version_major": 2,
              "version_minor": 0,
              "model_id": "2242c1e5b52a44269c4c332b062b3ca9"
            }
          },
          "metadata": {
            "application/vnd.jupyter.widget-view+json": {
              "colab": {
                "custom_widget_manager": {
                  "url": "https://ssl.gstatic.com/colaboratory-static/widgets/colab-cdn-widget-manager/d2e234f7cc04bf79/manager.min.js"
                }
              }
            }
          }
        }
      ]
    }
  ],
  "metadata": {
    "colab": {
      "collapsed_sections": [],
      "provenance": [],
      "toc_visible": true
    },
    "kernelspec": {
      "display_name": "Python 3",
      "name": "python3"
    },
    "language_info": {
      "name": "python"
    },
    "widgets": {
      "application/vnd.jupyter.widget-state+json": {
        "8fe31066311145f3abd095e16446113f": {
          "model_module": "jupyter-matplotlib",
          "model_name": "MPLCanvasModel",
          "model_module_version": "^0.11",
          "state": {
            "_cursor": "default",
            "_data_url": "data:image/png;base64,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",
            "_dom_classes": [],
            "_figure_label": "Figure 1",
            "_image_mode": "full",
            "_message": "",
            "_model_module": "jupyter-matplotlib",
            "_model_module_version": "^0.11",
            "_model_name": "MPLCanvasModel",
            "_rubberband_height": 0,
            "_rubberband_width": 0,
            "_rubberband_x": 0,
            "_rubberband_y": 0,
            "_size": [
              1872,
              432
            ],
            "_view_count": null,
            "_view_module": "jupyter-matplotlib",
            "_view_module_version": "^0.11",
            "_view_name": "MPLCanvasView",
            "capture_scroll": false,
            "footer_visible": true,
            "header_visible": true,
            "layout": "IPY_MODEL_221862b500f149ec8d47532db4a51a4c",
            "pan_zoom_throttle": 33,
            "resizable": true,
            "toolbar": "IPY_MODEL_5928d3c333d542678ec86e5887a64741",
            "toolbar_position": "left",
            "toolbar_visible": "fade-in-fade-out"
          }
        },
        "221862b500f149ec8d47532db4a51a4c": {
          "model_module": "@jupyter-widgets/base",
          "model_name": "LayoutModel",
          "model_module_version": "1.2.0",
          "state": {
            "_model_module": "@jupyter-widgets/base",
            "_model_module_version": "1.2.0",
            "_model_name": "LayoutModel",
            "_view_count": null,
            "_view_module": "@jupyter-widgets/base",
            "_view_module_version": "1.2.0",
            "_view_name": "LayoutView",
            "align_content": null,
            "align_items": null,
            "align_self": null,
            "border": null,
            "bottom": null,
            "display": null,
            "flex": null,
            "flex_flow": null,
            "grid_area": null,
            "grid_auto_columns": null,
            "grid_auto_flow": null,
            "grid_auto_rows": null,
            "grid_column": null,
            "grid_gap": null,
            "grid_row": null,
            "grid_template_areas": null,
            "grid_template_columns": null,
            "grid_template_rows": null,
            "height": null,
            "justify_content": null,
            "justify_items": null,
            "left": null,
            "margin": null,
            "max_height": null,
            "max_width": null,
            "min_height": null,
            "min_width": null,
            "object_fit": null,
            "object_position": null,
            "order": null,
            "overflow": null,
            "overflow_x": null,
            "overflow_y": null,
            "padding": null,
            "right": null,
            "top": null,
            "visibility": null,
            "width": null
          }
        },
        "5928d3c333d542678ec86e5887a64741": {
          "model_module": "jupyter-matplotlib",
          "model_name": "ToolbarModel",
          "model_module_version": "^0.11",
          "state": {
            "_current_action": "",
            "_dom_classes": [],
            "_model_module": "jupyter-matplotlib",
            "_model_module_version": "^0.11",
            "_model_name": "ToolbarModel",
            "_view_count": null,
            "_view_module": "jupyter-matplotlib",
            "_view_module_version": "^0.11",
            "_view_name": "ToolbarView",
            "button_style": "",
            "collapsed": true,
            "layout": "IPY_MODEL_4f5b01f0e01340198428bc0d7fc0a8e5",
            "orientation": "vertical",
            "toolitems": [
              [
                "Home",
                "Reset original view",
                "home",
                "home"
              ],
              [
                "Back",
                "Back to previous view",
                "arrow-left",
                "back"
              ],
              [
                "Forward",
                "Forward to next view",
                "arrow-right",
                "forward"
              ],
              [
                "Pan",
                "Left button pans, Right button zooms\nx/y fixes axis, CTRL fixes aspect",
                "arrows",
                "pan"
              ],
              [
                "Zoom",
                "Zoom to rectangle\nx/y fixes axis",
                "square-o",
                "zoom"
              ],
              [
                "Download",
                "Download plot",
                "floppy-o",
                "save_figure"
              ]
            ]
          }
        },
        "4f5b01f0e01340198428bc0d7fc0a8e5": {
          "model_module": "@jupyter-widgets/base",
          "model_name": "LayoutModel",
          "model_module_version": "1.2.0",
          "state": {
            "_model_module": "@jupyter-widgets/base",
            "_model_module_version": "1.2.0",
            "_model_name": "LayoutModel",
            "_view_count": null,
            "_view_module": "@jupyter-widgets/base",
            "_view_module_version": "1.2.0",
            "_view_name": "LayoutView",
            "align_content": null,
            "align_items": null,
            "align_self": null,
            "border": null,
            "bottom": null,
            "display": null,
            "flex": null,
            "flex_flow": null,
            "grid_area": null,
            "grid_auto_columns": null,
            "grid_auto_flow": null,
            "grid_auto_rows": null,
            "grid_column": null,
            "grid_gap": null,
            "grid_row": null,
            "grid_template_areas": null,
            "grid_template_columns": null,
            "grid_template_rows": null,
            "height": null,
            "justify_content": null,
            "justify_items": null,
            "left": null,
            "margin": null,
            "max_height": null,
            "max_width": null,
            "min_height": null,
            "min_width": null,
            "object_fit": null,
            "object_position": null,
            "order": null,
            "overflow": null,
            "overflow_x": null,
            "overflow_y": null,
            "padding": null,
            "right": null,
            "top": null,
            "visibility": null,
            "width": null
          }
        },
        "2242c1e5b52a44269c4c332b062b3ca9": {
          "model_module": "jupyter-matplotlib",
          "model_name": "MPLCanvasModel",
          "model_module_version": "^0.11",
          "state": {
            "_cursor": "default",
            "_data_url": "data:image/png;base64,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",
            "_dom_classes": [],
            "_figure_label": "Figure 1",
            "_image_mode": "diff",
            "_message": "",
            "_model_module": "jupyter-matplotlib",
            "_model_module_version": "^0.11",
            "_model_name": "MPLCanvasModel",
            "_rubberband_height": 0,
            "_rubberband_width": 0,
            "_rubberband_x": 0,
            "_rubberband_y": 0,
            "_size": [
              1872,
              432
            ],
            "_view_count": null,
            "_view_module": "jupyter-matplotlib",
            "_view_module_version": "^0.11",
            "_view_name": "MPLCanvasView",
            "capture_scroll": false,
            "footer_visible": true,
            "header_visible": true,
            "layout": "IPY_MODEL_aabf9af9725542a88105f1f85d36abe6",
            "pan_zoom_throttle": 33,
            "resizable": true,
            "toolbar": "IPY_MODEL_477143f4699c40aba757abcb99dc21af",
            "toolbar_position": "left",
            "toolbar_visible": "fade-in-fade-out"
          }
        },
        "aabf9af9725542a88105f1f85d36abe6": {
          "model_module": "@jupyter-widgets/base",
          "model_name": "LayoutModel",
          "model_module_version": "1.2.0",
          "state": {
            "_model_module": "@jupyter-widgets/base",
            "_model_module_version": "1.2.0",
            "_model_name": "LayoutModel",
            "_view_count": null,
            "_view_module": "@jupyter-widgets/base",
            "_view_module_version": "1.2.0",
            "_view_name": "LayoutView",
            "align_content": null,
            "align_items": null,
            "align_self": null,
            "border": null,
            "bottom": null,
            "display": null,
            "flex": null,
            "flex_flow": null,
            "grid_area": null,
            "grid_auto_columns": null,
            "grid_auto_flow": null,
            "grid_auto_rows": null,
            "grid_column": null,
            "grid_gap": null,
            "grid_row": null,
            "grid_template_areas": null,
            "grid_template_columns": null,
            "grid_template_rows": null,
            "height": null,
            "justify_content": null,
            "justify_items": null,
            "left": null,
            "margin": null,
            "max_height": null,
            "max_width": null,
            "min_height": null,
            "min_width": null,
            "object_fit": null,
            "object_position": null,
            "order": null,
            "overflow": null,
            "overflow_x": null,
            "overflow_y": null,
            "padding": null,
            "right": null,
            "top": null,
            "visibility": null,
            "width": null
          }
        },
        "477143f4699c40aba757abcb99dc21af": {
          "model_module": "jupyter-matplotlib",
          "model_name": "ToolbarModel",
          "model_module_version": "^0.11",
          "state": {
            "_current_action": "",
            "_dom_classes": [],
            "_model_module": "jupyter-matplotlib",
            "_model_module_version": "^0.11",
            "_model_name": "ToolbarModel",
            "_view_count": null,
            "_view_module": "jupyter-matplotlib",
            "_view_module_version": "^0.11",
            "_view_name": "ToolbarView",
            "button_style": "",
            "collapsed": true,
            "layout": "IPY_MODEL_8dc9a74c244240d7a4bf05982c9d845c",
            "orientation": "vertical",
            "toolitems": [
              [
                "Home",
                "Reset original view",
                "home",
                "home"
              ],
              [
                "Back",
                "Back to previous view",
                "arrow-left",
                "back"
              ],
              [
                "Forward",
                "Forward to next view",
                "arrow-right",
                "forward"
              ],
              [
                "Pan",
                "Left button pans, Right button zooms\nx/y fixes axis, CTRL fixes aspect",
                "arrows",
                "pan"
              ],
              [
                "Zoom",
                "Zoom to rectangle\nx/y fixes axis",
                "square-o",
                "zoom"
              ],
              [
                "Download",
                "Download plot",
                "floppy-o",
                "save_figure"
              ]
            ]
          }
        },
        "8dc9a74c244240d7a4bf05982c9d845c": {
          "model_module": "@jupyter-widgets/base",
          "model_name": "LayoutModel",
          "model_module_version": "1.2.0",
          "state": {
            "_model_module": "@jupyter-widgets/base",
            "_model_module_version": "1.2.0",
            "_model_name": "LayoutModel",
            "_view_count": null,
            "_view_module": "@jupyter-widgets/base",
            "_view_module_version": "1.2.0",
            "_view_name": "LayoutView",
            "align_content": null,
            "align_items": null,
            "align_self": null,
            "border": null,
            "bottom": null,
            "display": null,
            "flex": null,
            "flex_flow": null,
            "grid_area": null,
            "grid_auto_columns": null,
            "grid_auto_flow": null,
            "grid_auto_rows": null,
            "grid_column": null,
            "grid_gap": null,
            "grid_row": null,
            "grid_template_areas": null,
            "grid_template_columns": null,
            "grid_template_rows": null,
            "height": null,
            "justify_content": null,
            "justify_items": null,
            "left": null,
            "margin": null,
            "max_height": null,
            "max_width": null,
            "min_height": null,
            "min_width": null,
            "object_fit": null,
            "object_position": null,
            "order": null,
            "overflow": null,
            "overflow_x": null,
            "overflow_y": null,
            "padding": null,
            "right": null,
            "top": null,
            "visibility": null,
            "width": null
          }
        }
      }
    }
  },
  "nbformat": 4,
  "nbformat_minor": 0
}